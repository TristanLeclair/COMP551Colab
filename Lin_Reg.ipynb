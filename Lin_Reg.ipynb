{
  "cells": [
    {
      "cell_type": "markdown",
      "metadata": {
        "id": "view-in-github",
        "colab_type": "text"
      },
      "source": [
        "<a href=\"https://colab.research.google.com/github/TristanLeclair/COMP551Colab/blob/main/Lin_Reg.ipynb\" target=\"_parent\"><img src=\"https://colab.research.google.com/assets/colab-badge.svg\" alt=\"Open In Colab\"/></a>"
      ]
    },
    {
      "cell_type": "markdown",
      "id": "3bc81ad6-8cb1-43eb-8b03-926127e2ce0a",
      "metadata": {
        "tags": [],
        "id": "3bc81ad6-8cb1-43eb-8b03-926127e2ce0a"
      },
      "source": [
        "# Imports"
      ]
    },
    {
      "cell_type": "code",
      "execution_count": null,
      "id": "34b1346e-12e0-4d62-b544-3b00fe743e56",
      "metadata": {
        "tags": [],
        "id": "34b1346e-12e0-4d62-b544-3b00fe743e56"
      },
      "outputs": [],
      "source": [
        "import warnings\n",
        "warnings.simplefilter(action='ignore', category=FutureWarning)\n",
        "\n",
        "import pandas as pd\n",
        "import numpy as np\n",
        "import matplotlib.pyplot as plt"
      ]
    },
    {
      "cell_type": "code",
      "execution_count": null,
      "id": "7e95ef1d-91c9-4796-809b-524d32716aed",
      "metadata": {
        "tags": [],
        "colab": {
          "base_uri": "https://localhost:8080/",
          "height": 143
        },
        "id": "7e95ef1d-91c9-4796-809b-524d32716aed",
        "outputId": "88d81321-9a07-4f4b-a929-220ba35b7064"
      },
      "outputs": [
        {
          "output_type": "execute_result",
          "data": {
            "text/plain": [
              "     X1     X2     X3      X4   X5  X6   X7  X8     Y1     Y2\n",
              "0  0.98  514.5  294.0  110.25  7.0   2  0.0   0  15.55  21.33\n",
              "1  0.98  514.5  294.0  110.25  7.0   3  0.0   0  15.55  21.33\n",
              "2  0.98  514.5  294.0  110.25  7.0   4  0.0   0  15.55  21.33"
            ],
            "text/html": [
              "\n",
              "  <div id=\"df-0d5ce0e7-0a2a-4200-8f69-63882d542013\">\n",
              "    <div class=\"colab-df-container\">\n",
              "      <div>\n",
              "<style scoped>\n",
              "    .dataframe tbody tr th:only-of-type {\n",
              "        vertical-align: middle;\n",
              "    }\n",
              "\n",
              "    .dataframe tbody tr th {\n",
              "        vertical-align: top;\n",
              "    }\n",
              "\n",
              "    .dataframe thead th {\n",
              "        text-align: right;\n",
              "    }\n",
              "</style>\n",
              "<table border=\"1\" class=\"dataframe\">\n",
              "  <thead>\n",
              "    <tr style=\"text-align: right;\">\n",
              "      <th></th>\n",
              "      <th>X1</th>\n",
              "      <th>X2</th>\n",
              "      <th>X3</th>\n",
              "      <th>X4</th>\n",
              "      <th>X5</th>\n",
              "      <th>X6</th>\n",
              "      <th>X7</th>\n",
              "      <th>X8</th>\n",
              "      <th>Y1</th>\n",
              "      <th>Y2</th>\n",
              "    </tr>\n",
              "  </thead>\n",
              "  <tbody>\n",
              "    <tr>\n",
              "      <th>0</th>\n",
              "      <td>0.98</td>\n",
              "      <td>514.5</td>\n",
              "      <td>294.0</td>\n",
              "      <td>110.25</td>\n",
              "      <td>7.0</td>\n",
              "      <td>2</td>\n",
              "      <td>0.0</td>\n",
              "      <td>0</td>\n",
              "      <td>15.55</td>\n",
              "      <td>21.33</td>\n",
              "    </tr>\n",
              "    <tr>\n",
              "      <th>1</th>\n",
              "      <td>0.98</td>\n",
              "      <td>514.5</td>\n",
              "      <td>294.0</td>\n",
              "      <td>110.25</td>\n",
              "      <td>7.0</td>\n",
              "      <td>3</td>\n",
              "      <td>0.0</td>\n",
              "      <td>0</td>\n",
              "      <td>15.55</td>\n",
              "      <td>21.33</td>\n",
              "    </tr>\n",
              "    <tr>\n",
              "      <th>2</th>\n",
              "      <td>0.98</td>\n",
              "      <td>514.5</td>\n",
              "      <td>294.0</td>\n",
              "      <td>110.25</td>\n",
              "      <td>7.0</td>\n",
              "      <td>4</td>\n",
              "      <td>0.0</td>\n",
              "      <td>0</td>\n",
              "      <td>15.55</td>\n",
              "      <td>21.33</td>\n",
              "    </tr>\n",
              "  </tbody>\n",
              "</table>\n",
              "</div>\n",
              "      <button class=\"colab-df-convert\" onclick=\"convertToInteractive('df-0d5ce0e7-0a2a-4200-8f69-63882d542013')\"\n",
              "              title=\"Convert this dataframe to an interactive table.\"\n",
              "              style=\"display:none;\">\n",
              "        \n",
              "  <svg xmlns=\"http://www.w3.org/2000/svg\" height=\"24px\"viewBox=\"0 0 24 24\"\n",
              "       width=\"24px\">\n",
              "    <path d=\"M0 0h24v24H0V0z\" fill=\"none\"/>\n",
              "    <path d=\"M18.56 5.44l.94 2.06.94-2.06 2.06-.94-2.06-.94-.94-2.06-.94 2.06-2.06.94zm-11 1L8.5 8.5l.94-2.06 2.06-.94-2.06-.94L8.5 2.5l-.94 2.06-2.06.94zm10 10l.94 2.06.94-2.06 2.06-.94-2.06-.94-.94-2.06-.94 2.06-2.06.94z\"/><path d=\"M17.41 7.96l-1.37-1.37c-.4-.4-.92-.59-1.43-.59-.52 0-1.04.2-1.43.59L10.3 9.45l-7.72 7.72c-.78.78-.78 2.05 0 2.83L4 21.41c.39.39.9.59 1.41.59.51 0 1.02-.2 1.41-.59l7.78-7.78 2.81-2.81c.8-.78.8-2.07 0-2.86zM5.41 20L4 18.59l7.72-7.72 1.47 1.35L5.41 20z\"/>\n",
              "  </svg>\n",
              "      </button>\n",
              "      \n",
              "  <style>\n",
              "    .colab-df-container {\n",
              "      display:flex;\n",
              "      flex-wrap:wrap;\n",
              "      gap: 12px;\n",
              "    }\n",
              "\n",
              "    .colab-df-convert {\n",
              "      background-color: #E8F0FE;\n",
              "      border: none;\n",
              "      border-radius: 50%;\n",
              "      cursor: pointer;\n",
              "      display: none;\n",
              "      fill: #1967D2;\n",
              "      height: 32px;\n",
              "      padding: 0 0 0 0;\n",
              "      width: 32px;\n",
              "    }\n",
              "\n",
              "    .colab-df-convert:hover {\n",
              "      background-color: #E2EBFA;\n",
              "      box-shadow: 0px 1px 2px rgba(60, 64, 67, 0.3), 0px 1px 3px 1px rgba(60, 64, 67, 0.15);\n",
              "      fill: #174EA6;\n",
              "    }\n",
              "\n",
              "    [theme=dark] .colab-df-convert {\n",
              "      background-color: #3B4455;\n",
              "      fill: #D2E3FC;\n",
              "    }\n",
              "\n",
              "    [theme=dark] .colab-df-convert:hover {\n",
              "      background-color: #434B5C;\n",
              "      box-shadow: 0px 1px 3px 1px rgba(0, 0, 0, 0.15);\n",
              "      filter: drop-shadow(0px 1px 2px rgba(0, 0, 0, 0.3));\n",
              "      fill: #FFFFFF;\n",
              "    }\n",
              "  </style>\n",
              "\n",
              "      <script>\n",
              "        const buttonEl =\n",
              "          document.querySelector('#df-0d5ce0e7-0a2a-4200-8f69-63882d542013 button.colab-df-convert');\n",
              "        buttonEl.style.display =\n",
              "          google.colab.kernel.accessAllowed ? 'block' : 'none';\n",
              "\n",
              "        async function convertToInteractive(key) {\n",
              "          const element = document.querySelector('#df-0d5ce0e7-0a2a-4200-8f69-63882d542013');\n",
              "          const dataTable =\n",
              "            await google.colab.kernel.invokeFunction('convertToInteractive',\n",
              "                                                     [key], {});\n",
              "          if (!dataTable) return;\n",
              "\n",
              "          const docLinkHtml = 'Like what you see? Visit the ' +\n",
              "            '<a target=\"_blank\" href=https://colab.research.google.com/notebooks/data_table.ipynb>data table notebook</a>'\n",
              "            + ' to learn more about interactive tables.';\n",
              "          element.innerHTML = '';\n",
              "          dataTable['output_type'] = 'display_data';\n",
              "          await google.colab.output.renderOutput(dataTable, element);\n",
              "          const docLink = document.createElement('div');\n",
              "          docLink.innerHTML = docLinkHtml;\n",
              "          element.appendChild(docLink);\n",
              "        }\n",
              "      </script>\n",
              "    </div>\n",
              "  </div>\n",
              "  "
            ]
          },
          "metadata": {},
          "execution_count": 4
        }
      ],
      "source": [
        "df = pd.read_excel('ENB2012_data.xlsx')\n",
        "df.head(3)"
      ]
    },
    {
      "cell_type": "code",
      "execution_count": null,
      "id": "5e8ce4c5-858d-425e-8c05-7cf393068440",
      "metadata": {
        "tags": [],
        "colab": {
          "base_uri": "https://localhost:8080/",
          "height": 143
        },
        "id": "5e8ce4c5-858d-425e-8c05-7cf393068440",
        "outputId": "2ac3627e-73c6-42ab-a653-3966cc21025d"
      },
      "outputs": [
        {
          "output_type": "execute_result",
          "data": {
            "text/plain": [
              "       X1     X2     X3     X4   X5  X6   X7  X8     Y1     Y2\n",
              "765  0.62  808.5  367.5  220.5  3.5   3  0.4   5  16.44  17.11\n",
              "766  0.62  808.5  367.5  220.5  3.5   4  0.4   5  16.48  16.61\n",
              "767  0.62  808.5  367.5  220.5  3.5   5  0.4   5  16.64  16.03"
            ],
            "text/html": [
              "\n",
              "  <div id=\"df-d65c687c-db5a-4413-a659-2f29b6fa6e89\">\n",
              "    <div class=\"colab-df-container\">\n",
              "      <div>\n",
              "<style scoped>\n",
              "    .dataframe tbody tr th:only-of-type {\n",
              "        vertical-align: middle;\n",
              "    }\n",
              "\n",
              "    .dataframe tbody tr th {\n",
              "        vertical-align: top;\n",
              "    }\n",
              "\n",
              "    .dataframe thead th {\n",
              "        text-align: right;\n",
              "    }\n",
              "</style>\n",
              "<table border=\"1\" class=\"dataframe\">\n",
              "  <thead>\n",
              "    <tr style=\"text-align: right;\">\n",
              "      <th></th>\n",
              "      <th>X1</th>\n",
              "      <th>X2</th>\n",
              "      <th>X3</th>\n",
              "      <th>X4</th>\n",
              "      <th>X5</th>\n",
              "      <th>X6</th>\n",
              "      <th>X7</th>\n",
              "      <th>X8</th>\n",
              "      <th>Y1</th>\n",
              "      <th>Y2</th>\n",
              "    </tr>\n",
              "  </thead>\n",
              "  <tbody>\n",
              "    <tr>\n",
              "      <th>765</th>\n",
              "      <td>0.62</td>\n",
              "      <td>808.5</td>\n",
              "      <td>367.5</td>\n",
              "      <td>220.5</td>\n",
              "      <td>3.5</td>\n",
              "      <td>3</td>\n",
              "      <td>0.4</td>\n",
              "      <td>5</td>\n",
              "      <td>16.44</td>\n",
              "      <td>17.11</td>\n",
              "    </tr>\n",
              "    <tr>\n",
              "      <th>766</th>\n",
              "      <td>0.62</td>\n",
              "      <td>808.5</td>\n",
              "      <td>367.5</td>\n",
              "      <td>220.5</td>\n",
              "      <td>3.5</td>\n",
              "      <td>4</td>\n",
              "      <td>0.4</td>\n",
              "      <td>5</td>\n",
              "      <td>16.48</td>\n",
              "      <td>16.61</td>\n",
              "    </tr>\n",
              "    <tr>\n",
              "      <th>767</th>\n",
              "      <td>0.62</td>\n",
              "      <td>808.5</td>\n",
              "      <td>367.5</td>\n",
              "      <td>220.5</td>\n",
              "      <td>3.5</td>\n",
              "      <td>5</td>\n",
              "      <td>0.4</td>\n",
              "      <td>5</td>\n",
              "      <td>16.64</td>\n",
              "      <td>16.03</td>\n",
              "    </tr>\n",
              "  </tbody>\n",
              "</table>\n",
              "</div>\n",
              "      <button class=\"colab-df-convert\" onclick=\"convertToInteractive('df-d65c687c-db5a-4413-a659-2f29b6fa6e89')\"\n",
              "              title=\"Convert this dataframe to an interactive table.\"\n",
              "              style=\"display:none;\">\n",
              "        \n",
              "  <svg xmlns=\"http://www.w3.org/2000/svg\" height=\"24px\"viewBox=\"0 0 24 24\"\n",
              "       width=\"24px\">\n",
              "    <path d=\"M0 0h24v24H0V0z\" fill=\"none\"/>\n",
              "    <path d=\"M18.56 5.44l.94 2.06.94-2.06 2.06-.94-2.06-.94-.94-2.06-.94 2.06-2.06.94zm-11 1L8.5 8.5l.94-2.06 2.06-.94-2.06-.94L8.5 2.5l-.94 2.06-2.06.94zm10 10l.94 2.06.94-2.06 2.06-.94-2.06-.94-.94-2.06-.94 2.06-2.06.94z\"/><path d=\"M17.41 7.96l-1.37-1.37c-.4-.4-.92-.59-1.43-.59-.52 0-1.04.2-1.43.59L10.3 9.45l-7.72 7.72c-.78.78-.78 2.05 0 2.83L4 21.41c.39.39.9.59 1.41.59.51 0 1.02-.2 1.41-.59l7.78-7.78 2.81-2.81c.8-.78.8-2.07 0-2.86zM5.41 20L4 18.59l7.72-7.72 1.47 1.35L5.41 20z\"/>\n",
              "  </svg>\n",
              "      </button>\n",
              "      \n",
              "  <style>\n",
              "    .colab-df-container {\n",
              "      display:flex;\n",
              "      flex-wrap:wrap;\n",
              "      gap: 12px;\n",
              "    }\n",
              "\n",
              "    .colab-df-convert {\n",
              "      background-color: #E8F0FE;\n",
              "      border: none;\n",
              "      border-radius: 50%;\n",
              "      cursor: pointer;\n",
              "      display: none;\n",
              "      fill: #1967D2;\n",
              "      height: 32px;\n",
              "      padding: 0 0 0 0;\n",
              "      width: 32px;\n",
              "    }\n",
              "\n",
              "    .colab-df-convert:hover {\n",
              "      background-color: #E2EBFA;\n",
              "      box-shadow: 0px 1px 2px rgba(60, 64, 67, 0.3), 0px 1px 3px 1px rgba(60, 64, 67, 0.15);\n",
              "      fill: #174EA6;\n",
              "    }\n",
              "\n",
              "    [theme=dark] .colab-df-convert {\n",
              "      background-color: #3B4455;\n",
              "      fill: #D2E3FC;\n",
              "    }\n",
              "\n",
              "    [theme=dark] .colab-df-convert:hover {\n",
              "      background-color: #434B5C;\n",
              "      box-shadow: 0px 1px 3px 1px rgba(0, 0, 0, 0.15);\n",
              "      filter: drop-shadow(0px 1px 2px rgba(0, 0, 0, 0.3));\n",
              "      fill: #FFFFFF;\n",
              "    }\n",
              "  </style>\n",
              "\n",
              "      <script>\n",
              "        const buttonEl =\n",
              "          document.querySelector('#df-d65c687c-db5a-4413-a659-2f29b6fa6e89 button.colab-df-convert');\n",
              "        buttonEl.style.display =\n",
              "          google.colab.kernel.accessAllowed ? 'block' : 'none';\n",
              "\n",
              "        async function convertToInteractive(key) {\n",
              "          const element = document.querySelector('#df-d65c687c-db5a-4413-a659-2f29b6fa6e89');\n",
              "          const dataTable =\n",
              "            await google.colab.kernel.invokeFunction('convertToInteractive',\n",
              "                                                     [key], {});\n",
              "          if (!dataTable) return;\n",
              "\n",
              "          const docLinkHtml = 'Like what you see? Visit the ' +\n",
              "            '<a target=\"_blank\" href=https://colab.research.google.com/notebooks/data_table.ipynb>data table notebook</a>'\n",
              "            + ' to learn more about interactive tables.';\n",
              "          element.innerHTML = '';\n",
              "          dataTable['output_type'] = 'display_data';\n",
              "          await google.colab.output.renderOutput(dataTable, element);\n",
              "          const docLink = document.createElement('div');\n",
              "          docLink.innerHTML = docLinkHtml;\n",
              "          element.appendChild(docLink);\n",
              "        }\n",
              "      </script>\n",
              "    </div>\n",
              "  </div>\n",
              "  "
            ]
          },
          "metadata": {},
          "execution_count": 5
        }
      ],
      "source": [
        "df.tail(3)"
      ]
    },
    {
      "cell_type": "code",
      "execution_count": null,
      "id": "793e92e3-f615-4e69-b182-271d650b8661",
      "metadata": {
        "tags": [],
        "colab": {
          "base_uri": "https://localhost:8080/",
          "height": 364
        },
        "id": "793e92e3-f615-4e69-b182-271d650b8661",
        "outputId": "b088267d-7b68-4ce7-d855-e0358ff97e24"
      },
      "outputs": [
        {
          "output_type": "execute_result",
          "data": {
            "text/plain": [
              "               X1          X2          X3          X4         X5          X6  \\\n",
              "count  768.000000  768.000000  768.000000  768.000000  768.00000  768.000000   \n",
              "mean     0.764167  671.708333  318.500000  176.604167    5.25000    3.500000   \n",
              "std      0.105777   88.086116   43.626481   45.165950    1.75114    1.118763   \n",
              "min      0.620000  514.500000  245.000000  110.250000    3.50000    2.000000   \n",
              "25%      0.682500  606.375000  294.000000  140.875000    3.50000    2.750000   \n",
              "50%      0.750000  673.750000  318.500000  183.750000    5.25000    3.500000   \n",
              "75%      0.830000  741.125000  343.000000  220.500000    7.00000    4.250000   \n",
              "max      0.980000  808.500000  416.500000  220.500000    7.00000    5.000000   \n",
              "\n",
              "               X7         X8          Y1          Y2  \n",
              "count  768.000000  768.00000  768.000000  768.000000  \n",
              "mean     0.234375    2.81250   22.307195   24.587760  \n",
              "std      0.133221    1.55096   10.090204    9.513306  \n",
              "min      0.000000    0.00000    6.010000   10.900000  \n",
              "25%      0.100000    1.75000   12.992500   15.620000  \n",
              "50%      0.250000    3.00000   18.950000   22.080000  \n",
              "75%      0.400000    4.00000   31.667500   33.132500  \n",
              "max      0.400000    5.00000   43.100000   48.030000  "
            ],
            "text/html": [
              "\n",
              "  <div id=\"df-020af707-eafd-4e9b-ad31-8f4e76db48aa\">\n",
              "    <div class=\"colab-df-container\">\n",
              "      <div>\n",
              "<style scoped>\n",
              "    .dataframe tbody tr th:only-of-type {\n",
              "        vertical-align: middle;\n",
              "    }\n",
              "\n",
              "    .dataframe tbody tr th {\n",
              "        vertical-align: top;\n",
              "    }\n",
              "\n",
              "    .dataframe thead th {\n",
              "        text-align: right;\n",
              "    }\n",
              "</style>\n",
              "<table border=\"1\" class=\"dataframe\">\n",
              "  <thead>\n",
              "    <tr style=\"text-align: right;\">\n",
              "      <th></th>\n",
              "      <th>X1</th>\n",
              "      <th>X2</th>\n",
              "      <th>X3</th>\n",
              "      <th>X4</th>\n",
              "      <th>X5</th>\n",
              "      <th>X6</th>\n",
              "      <th>X7</th>\n",
              "      <th>X8</th>\n",
              "      <th>Y1</th>\n",
              "      <th>Y2</th>\n",
              "    </tr>\n",
              "  </thead>\n",
              "  <tbody>\n",
              "    <tr>\n",
              "      <th>count</th>\n",
              "      <td>768.000000</td>\n",
              "      <td>768.000000</td>\n",
              "      <td>768.000000</td>\n",
              "      <td>768.000000</td>\n",
              "      <td>768.00000</td>\n",
              "      <td>768.000000</td>\n",
              "      <td>768.000000</td>\n",
              "      <td>768.00000</td>\n",
              "      <td>768.000000</td>\n",
              "      <td>768.000000</td>\n",
              "    </tr>\n",
              "    <tr>\n",
              "      <th>mean</th>\n",
              "      <td>0.764167</td>\n",
              "      <td>671.708333</td>\n",
              "      <td>318.500000</td>\n",
              "      <td>176.604167</td>\n",
              "      <td>5.25000</td>\n",
              "      <td>3.500000</td>\n",
              "      <td>0.234375</td>\n",
              "      <td>2.81250</td>\n",
              "      <td>22.307195</td>\n",
              "      <td>24.587760</td>\n",
              "    </tr>\n",
              "    <tr>\n",
              "      <th>std</th>\n",
              "      <td>0.105777</td>\n",
              "      <td>88.086116</td>\n",
              "      <td>43.626481</td>\n",
              "      <td>45.165950</td>\n",
              "      <td>1.75114</td>\n",
              "      <td>1.118763</td>\n",
              "      <td>0.133221</td>\n",
              "      <td>1.55096</td>\n",
              "      <td>10.090204</td>\n",
              "      <td>9.513306</td>\n",
              "    </tr>\n",
              "    <tr>\n",
              "      <th>min</th>\n",
              "      <td>0.620000</td>\n",
              "      <td>514.500000</td>\n",
              "      <td>245.000000</td>\n",
              "      <td>110.250000</td>\n",
              "      <td>3.50000</td>\n",
              "      <td>2.000000</td>\n",
              "      <td>0.000000</td>\n",
              "      <td>0.00000</td>\n",
              "      <td>6.010000</td>\n",
              "      <td>10.900000</td>\n",
              "    </tr>\n",
              "    <tr>\n",
              "      <th>25%</th>\n",
              "      <td>0.682500</td>\n",
              "      <td>606.375000</td>\n",
              "      <td>294.000000</td>\n",
              "      <td>140.875000</td>\n",
              "      <td>3.50000</td>\n",
              "      <td>2.750000</td>\n",
              "      <td>0.100000</td>\n",
              "      <td>1.75000</td>\n",
              "      <td>12.992500</td>\n",
              "      <td>15.620000</td>\n",
              "    </tr>\n",
              "    <tr>\n",
              "      <th>50%</th>\n",
              "      <td>0.750000</td>\n",
              "      <td>673.750000</td>\n",
              "      <td>318.500000</td>\n",
              "      <td>183.750000</td>\n",
              "      <td>5.25000</td>\n",
              "      <td>3.500000</td>\n",
              "      <td>0.250000</td>\n",
              "      <td>3.00000</td>\n",
              "      <td>18.950000</td>\n",
              "      <td>22.080000</td>\n",
              "    </tr>\n",
              "    <tr>\n",
              "      <th>75%</th>\n",
              "      <td>0.830000</td>\n",
              "      <td>741.125000</td>\n",
              "      <td>343.000000</td>\n",
              "      <td>220.500000</td>\n",
              "      <td>7.00000</td>\n",
              "      <td>4.250000</td>\n",
              "      <td>0.400000</td>\n",
              "      <td>4.00000</td>\n",
              "      <td>31.667500</td>\n",
              "      <td>33.132500</td>\n",
              "    </tr>\n",
              "    <tr>\n",
              "      <th>max</th>\n",
              "      <td>0.980000</td>\n",
              "      <td>808.500000</td>\n",
              "      <td>416.500000</td>\n",
              "      <td>220.500000</td>\n",
              "      <td>7.00000</td>\n",
              "      <td>5.000000</td>\n",
              "      <td>0.400000</td>\n",
              "      <td>5.00000</td>\n",
              "      <td>43.100000</td>\n",
              "      <td>48.030000</td>\n",
              "    </tr>\n",
              "  </tbody>\n",
              "</table>\n",
              "</div>\n",
              "      <button class=\"colab-df-convert\" onclick=\"convertToInteractive('df-020af707-eafd-4e9b-ad31-8f4e76db48aa')\"\n",
              "              title=\"Convert this dataframe to an interactive table.\"\n",
              "              style=\"display:none;\">\n",
              "        \n",
              "  <svg xmlns=\"http://www.w3.org/2000/svg\" height=\"24px\"viewBox=\"0 0 24 24\"\n",
              "       width=\"24px\">\n",
              "    <path d=\"M0 0h24v24H0V0z\" fill=\"none\"/>\n",
              "    <path d=\"M18.56 5.44l.94 2.06.94-2.06 2.06-.94-2.06-.94-.94-2.06-.94 2.06-2.06.94zm-11 1L8.5 8.5l.94-2.06 2.06-.94-2.06-.94L8.5 2.5l-.94 2.06-2.06.94zm10 10l.94 2.06.94-2.06 2.06-.94-2.06-.94-.94-2.06-.94 2.06-2.06.94z\"/><path d=\"M17.41 7.96l-1.37-1.37c-.4-.4-.92-.59-1.43-.59-.52 0-1.04.2-1.43.59L10.3 9.45l-7.72 7.72c-.78.78-.78 2.05 0 2.83L4 21.41c.39.39.9.59 1.41.59.51 0 1.02-.2 1.41-.59l7.78-7.78 2.81-2.81c.8-.78.8-2.07 0-2.86zM5.41 20L4 18.59l7.72-7.72 1.47 1.35L5.41 20z\"/>\n",
              "  </svg>\n",
              "      </button>\n",
              "      \n",
              "  <style>\n",
              "    .colab-df-container {\n",
              "      display:flex;\n",
              "      flex-wrap:wrap;\n",
              "      gap: 12px;\n",
              "    }\n",
              "\n",
              "    .colab-df-convert {\n",
              "      background-color: #E8F0FE;\n",
              "      border: none;\n",
              "      border-radius: 50%;\n",
              "      cursor: pointer;\n",
              "      display: none;\n",
              "      fill: #1967D2;\n",
              "      height: 32px;\n",
              "      padding: 0 0 0 0;\n",
              "      width: 32px;\n",
              "    }\n",
              "\n",
              "    .colab-df-convert:hover {\n",
              "      background-color: #E2EBFA;\n",
              "      box-shadow: 0px 1px 2px rgba(60, 64, 67, 0.3), 0px 1px 3px 1px rgba(60, 64, 67, 0.15);\n",
              "      fill: #174EA6;\n",
              "    }\n",
              "\n",
              "    [theme=dark] .colab-df-convert {\n",
              "      background-color: #3B4455;\n",
              "      fill: #D2E3FC;\n",
              "    }\n",
              "\n",
              "    [theme=dark] .colab-df-convert:hover {\n",
              "      background-color: #434B5C;\n",
              "      box-shadow: 0px 1px 3px 1px rgba(0, 0, 0, 0.15);\n",
              "      filter: drop-shadow(0px 1px 2px rgba(0, 0, 0, 0.3));\n",
              "      fill: #FFFFFF;\n",
              "    }\n",
              "  </style>\n",
              "\n",
              "      <script>\n",
              "        const buttonEl =\n",
              "          document.querySelector('#df-020af707-eafd-4e9b-ad31-8f4e76db48aa button.colab-df-convert');\n",
              "        buttonEl.style.display =\n",
              "          google.colab.kernel.accessAllowed ? 'block' : 'none';\n",
              "\n",
              "        async function convertToInteractive(key) {\n",
              "          const element = document.querySelector('#df-020af707-eafd-4e9b-ad31-8f4e76db48aa');\n",
              "          const dataTable =\n",
              "            await google.colab.kernel.invokeFunction('convertToInteractive',\n",
              "                                                     [key], {});\n",
              "          if (!dataTable) return;\n",
              "\n",
              "          const docLinkHtml = 'Like what you see? Visit the ' +\n",
              "            '<a target=\"_blank\" href=https://colab.research.google.com/notebooks/data_table.ipynb>data table notebook</a>'\n",
              "            + ' to learn more about interactive tables.';\n",
              "          element.innerHTML = '';\n",
              "          dataTable['output_type'] = 'display_data';\n",
              "          await google.colab.output.renderOutput(dataTable, element);\n",
              "          const docLink = document.createElement('div');\n",
              "          docLink.innerHTML = docLinkHtml;\n",
              "          element.appendChild(docLink);\n",
              "        }\n",
              "      </script>\n",
              "    </div>\n",
              "  </div>\n",
              "  "
            ]
          },
          "metadata": {},
          "execution_count": 6
        }
      ],
      "source": [
        "df.describe(include='all')"
      ]
    },
    {
      "cell_type": "markdown",
      "id": "32bd0a98-5c82-4dd0-b0f4-6684fb4dc8bc",
      "metadata": {
        "id": "32bd0a98-5c82-4dd0-b0f4-6684fb4dc8bc"
      },
      "source": [
        "# Cleanup"
      ]
    },
    {
      "cell_type": "markdown",
      "id": "3a2418ba-f55a-40ea-9bb6-8d21a7bbdeca",
      "metadata": {
        "tags": [],
        "id": "3a2418ba-f55a-40ea-9bb6-8d21a7bbdeca"
      },
      "source": [
        "## Normalize Data"
      ]
    },
    {
      "cell_type": "code",
      "execution_count": null,
      "id": "790c29a8-ea3b-49c9-a2e4-af299e42910a",
      "metadata": {
        "tags": [],
        "colab": {
          "base_uri": "https://localhost:8080/",
          "height": 424
        },
        "id": "790c29a8-ea3b-49c9-a2e4-af299e42910a",
        "outputId": "574ac11a-9626-4abb-d4b2-e4dd7b7ebc42"
      },
      "outputs": [
        {
          "output_type": "execute_result",
          "data": {
            "text/plain": [
              "           X1        X2        X3        X4   X5        X6   X7   X8  \\\n",
              "0    1.000000  0.000000  0.285714  0.000000  1.0  0.000000  0.0  0.0   \n",
              "1    1.000000  0.000000  0.285714  0.000000  1.0  0.333333  0.0  0.0   \n",
              "2    1.000000  0.000000  0.285714  0.000000  1.0  0.666667  0.0  0.0   \n",
              "3    1.000000  0.000000  0.285714  0.000000  1.0  1.000000  0.0  0.0   \n",
              "4    0.777778  0.166667  0.428571  0.111111  1.0  0.000000  0.0  0.0   \n",
              "..        ...       ...       ...       ...  ...       ...  ...  ...   \n",
              "763  0.055556  0.916667  0.571429  1.000000  0.0  1.000000  1.0  1.0   \n",
              "764  0.000000  1.000000  0.714286  1.000000  0.0  0.000000  1.0  1.0   \n",
              "765  0.000000  1.000000  0.714286  1.000000  0.0  0.333333  1.0  1.0   \n",
              "766  0.000000  1.000000  0.714286  1.000000  0.0  0.666667  1.0  1.0   \n",
              "767  0.000000  1.000000  0.714286  1.000000  0.0  1.000000  1.0  1.0   \n",
              "\n",
              "           Y1        Y2  \n",
              "0    0.257212  0.280905  \n",
              "1    0.257212  0.280905  \n",
              "2    0.257212  0.280905  \n",
              "3    0.257212  0.280905  \n",
              "4    0.399838  0.468085  \n",
              "..        ...       ...  \n",
              "763  0.320032  0.282790  \n",
              "764  0.283904  0.161056  \n",
              "765  0.281208  0.167250  \n",
              "766  0.282286  0.153784  \n",
              "767  0.286600  0.138163  \n",
              "\n",
              "[768 rows x 10 columns]"
            ],
            "text/html": [
              "\n",
              "  <div id=\"df-282b9e9f-7f40-4f5f-b839-dd7a3a8aa22c\">\n",
              "    <div class=\"colab-df-container\">\n",
              "      <div>\n",
              "<style scoped>\n",
              "    .dataframe tbody tr th:only-of-type {\n",
              "        vertical-align: middle;\n",
              "    }\n",
              "\n",
              "    .dataframe tbody tr th {\n",
              "        vertical-align: top;\n",
              "    }\n",
              "\n",
              "    .dataframe thead th {\n",
              "        text-align: right;\n",
              "    }\n",
              "</style>\n",
              "<table border=\"1\" class=\"dataframe\">\n",
              "  <thead>\n",
              "    <tr style=\"text-align: right;\">\n",
              "      <th></th>\n",
              "      <th>X1</th>\n",
              "      <th>X2</th>\n",
              "      <th>X3</th>\n",
              "      <th>X4</th>\n",
              "      <th>X5</th>\n",
              "      <th>X6</th>\n",
              "      <th>X7</th>\n",
              "      <th>X8</th>\n",
              "      <th>Y1</th>\n",
              "      <th>Y2</th>\n",
              "    </tr>\n",
              "  </thead>\n",
              "  <tbody>\n",
              "    <tr>\n",
              "      <th>0</th>\n",
              "      <td>1.000000</td>\n",
              "      <td>0.000000</td>\n",
              "      <td>0.285714</td>\n",
              "      <td>0.000000</td>\n",
              "      <td>1.0</td>\n",
              "      <td>0.000000</td>\n",
              "      <td>0.0</td>\n",
              "      <td>0.0</td>\n",
              "      <td>0.257212</td>\n",
              "      <td>0.280905</td>\n",
              "    </tr>\n",
              "    <tr>\n",
              "      <th>1</th>\n",
              "      <td>1.000000</td>\n",
              "      <td>0.000000</td>\n",
              "      <td>0.285714</td>\n",
              "      <td>0.000000</td>\n",
              "      <td>1.0</td>\n",
              "      <td>0.333333</td>\n",
              "      <td>0.0</td>\n",
              "      <td>0.0</td>\n",
              "      <td>0.257212</td>\n",
              "      <td>0.280905</td>\n",
              "    </tr>\n",
              "    <tr>\n",
              "      <th>2</th>\n",
              "      <td>1.000000</td>\n",
              "      <td>0.000000</td>\n",
              "      <td>0.285714</td>\n",
              "      <td>0.000000</td>\n",
              "      <td>1.0</td>\n",
              "      <td>0.666667</td>\n",
              "      <td>0.0</td>\n",
              "      <td>0.0</td>\n",
              "      <td>0.257212</td>\n",
              "      <td>0.280905</td>\n",
              "    </tr>\n",
              "    <tr>\n",
              "      <th>3</th>\n",
              "      <td>1.000000</td>\n",
              "      <td>0.000000</td>\n",
              "      <td>0.285714</td>\n",
              "      <td>0.000000</td>\n",
              "      <td>1.0</td>\n",
              "      <td>1.000000</td>\n",
              "      <td>0.0</td>\n",
              "      <td>0.0</td>\n",
              "      <td>0.257212</td>\n",
              "      <td>0.280905</td>\n",
              "    </tr>\n",
              "    <tr>\n",
              "      <th>4</th>\n",
              "      <td>0.777778</td>\n",
              "      <td>0.166667</td>\n",
              "      <td>0.428571</td>\n",
              "      <td>0.111111</td>\n",
              "      <td>1.0</td>\n",
              "      <td>0.000000</td>\n",
              "      <td>0.0</td>\n",
              "      <td>0.0</td>\n",
              "      <td>0.399838</td>\n",
              "      <td>0.468085</td>\n",
              "    </tr>\n",
              "    <tr>\n",
              "      <th>...</th>\n",
              "      <td>...</td>\n",
              "      <td>...</td>\n",
              "      <td>...</td>\n",
              "      <td>...</td>\n",
              "      <td>...</td>\n",
              "      <td>...</td>\n",
              "      <td>...</td>\n",
              "      <td>...</td>\n",
              "      <td>...</td>\n",
              "      <td>...</td>\n",
              "    </tr>\n",
              "    <tr>\n",
              "      <th>763</th>\n",
              "      <td>0.055556</td>\n",
              "      <td>0.916667</td>\n",
              "      <td>0.571429</td>\n",
              "      <td>1.000000</td>\n",
              "      <td>0.0</td>\n",
              "      <td>1.000000</td>\n",
              "      <td>1.0</td>\n",
              "      <td>1.0</td>\n",
              "      <td>0.320032</td>\n",
              "      <td>0.282790</td>\n",
              "    </tr>\n",
              "    <tr>\n",
              "      <th>764</th>\n",
              "      <td>0.000000</td>\n",
              "      <td>1.000000</td>\n",
              "      <td>0.714286</td>\n",
              "      <td>1.000000</td>\n",
              "      <td>0.0</td>\n",
              "      <td>0.000000</td>\n",
              "      <td>1.0</td>\n",
              "      <td>1.0</td>\n",
              "      <td>0.283904</td>\n",
              "      <td>0.161056</td>\n",
              "    </tr>\n",
              "    <tr>\n",
              "      <th>765</th>\n",
              "      <td>0.000000</td>\n",
              "      <td>1.000000</td>\n",
              "      <td>0.714286</td>\n",
              "      <td>1.000000</td>\n",
              "      <td>0.0</td>\n",
              "      <td>0.333333</td>\n",
              "      <td>1.0</td>\n",
              "      <td>1.0</td>\n",
              "      <td>0.281208</td>\n",
              "      <td>0.167250</td>\n",
              "    </tr>\n",
              "    <tr>\n",
              "      <th>766</th>\n",
              "      <td>0.000000</td>\n",
              "      <td>1.000000</td>\n",
              "      <td>0.714286</td>\n",
              "      <td>1.000000</td>\n",
              "      <td>0.0</td>\n",
              "      <td>0.666667</td>\n",
              "      <td>1.0</td>\n",
              "      <td>1.0</td>\n",
              "      <td>0.282286</td>\n",
              "      <td>0.153784</td>\n",
              "    </tr>\n",
              "    <tr>\n",
              "      <th>767</th>\n",
              "      <td>0.000000</td>\n",
              "      <td>1.000000</td>\n",
              "      <td>0.714286</td>\n",
              "      <td>1.000000</td>\n",
              "      <td>0.0</td>\n",
              "      <td>1.000000</td>\n",
              "      <td>1.0</td>\n",
              "      <td>1.0</td>\n",
              "      <td>0.286600</td>\n",
              "      <td>0.138163</td>\n",
              "    </tr>\n",
              "  </tbody>\n",
              "</table>\n",
              "<p>768 rows × 10 columns</p>\n",
              "</div>\n",
              "      <button class=\"colab-df-convert\" onclick=\"convertToInteractive('df-282b9e9f-7f40-4f5f-b839-dd7a3a8aa22c')\"\n",
              "              title=\"Convert this dataframe to an interactive table.\"\n",
              "              style=\"display:none;\">\n",
              "        \n",
              "  <svg xmlns=\"http://www.w3.org/2000/svg\" height=\"24px\"viewBox=\"0 0 24 24\"\n",
              "       width=\"24px\">\n",
              "    <path d=\"M0 0h24v24H0V0z\" fill=\"none\"/>\n",
              "    <path d=\"M18.56 5.44l.94 2.06.94-2.06 2.06-.94-2.06-.94-.94-2.06-.94 2.06-2.06.94zm-11 1L8.5 8.5l.94-2.06 2.06-.94-2.06-.94L8.5 2.5l-.94 2.06-2.06.94zm10 10l.94 2.06.94-2.06 2.06-.94-2.06-.94-.94-2.06-.94 2.06-2.06.94z\"/><path d=\"M17.41 7.96l-1.37-1.37c-.4-.4-.92-.59-1.43-.59-.52 0-1.04.2-1.43.59L10.3 9.45l-7.72 7.72c-.78.78-.78 2.05 0 2.83L4 21.41c.39.39.9.59 1.41.59.51 0 1.02-.2 1.41-.59l7.78-7.78 2.81-2.81c.8-.78.8-2.07 0-2.86zM5.41 20L4 18.59l7.72-7.72 1.47 1.35L5.41 20z\"/>\n",
              "  </svg>\n",
              "      </button>\n",
              "      \n",
              "  <style>\n",
              "    .colab-df-container {\n",
              "      display:flex;\n",
              "      flex-wrap:wrap;\n",
              "      gap: 12px;\n",
              "    }\n",
              "\n",
              "    .colab-df-convert {\n",
              "      background-color: #E8F0FE;\n",
              "      border: none;\n",
              "      border-radius: 50%;\n",
              "      cursor: pointer;\n",
              "      display: none;\n",
              "      fill: #1967D2;\n",
              "      height: 32px;\n",
              "      padding: 0 0 0 0;\n",
              "      width: 32px;\n",
              "    }\n",
              "\n",
              "    .colab-df-convert:hover {\n",
              "      background-color: #E2EBFA;\n",
              "      box-shadow: 0px 1px 2px rgba(60, 64, 67, 0.3), 0px 1px 3px 1px rgba(60, 64, 67, 0.15);\n",
              "      fill: #174EA6;\n",
              "    }\n",
              "\n",
              "    [theme=dark] .colab-df-convert {\n",
              "      background-color: #3B4455;\n",
              "      fill: #D2E3FC;\n",
              "    }\n",
              "\n",
              "    [theme=dark] .colab-df-convert:hover {\n",
              "      background-color: #434B5C;\n",
              "      box-shadow: 0px 1px 3px 1px rgba(0, 0, 0, 0.15);\n",
              "      filter: drop-shadow(0px 1px 2px rgba(0, 0, 0, 0.3));\n",
              "      fill: #FFFFFF;\n",
              "    }\n",
              "  </style>\n",
              "\n",
              "      <script>\n",
              "        const buttonEl =\n",
              "          document.querySelector('#df-282b9e9f-7f40-4f5f-b839-dd7a3a8aa22c button.colab-df-convert');\n",
              "        buttonEl.style.display =\n",
              "          google.colab.kernel.accessAllowed ? 'block' : 'none';\n",
              "\n",
              "        async function convertToInteractive(key) {\n",
              "          const element = document.querySelector('#df-282b9e9f-7f40-4f5f-b839-dd7a3a8aa22c');\n",
              "          const dataTable =\n",
              "            await google.colab.kernel.invokeFunction('convertToInteractive',\n",
              "                                                     [key], {});\n",
              "          if (!dataTable) return;\n",
              "\n",
              "          const docLinkHtml = 'Like what you see? Visit the ' +\n",
              "            '<a target=\"_blank\" href=https://colab.research.google.com/notebooks/data_table.ipynb>data table notebook</a>'\n",
              "            + ' to learn more about interactive tables.';\n",
              "          element.innerHTML = '';\n",
              "          dataTable['output_type'] = 'display_data';\n",
              "          await google.colab.output.renderOutput(dataTable, element);\n",
              "          const docLink = document.createElement('div');\n",
              "          docLink.innerHTML = docLinkHtml;\n",
              "          element.appendChild(docLink);\n",
              "        }\n",
              "      </script>\n",
              "    </div>\n",
              "  </div>\n",
              "  "
            ]
          },
          "metadata": {},
          "execution_count": 7
        }
      ],
      "source": [
        "from sklearn import preprocessing\n",
        "sx = preprocessing.MinMaxScaler()\n",
        "sy1 = preprocessing.MinMaxScaler()\n",
        "sy2 = preprocessing.MinMaxScaler()\n",
        "\n",
        "normedDf = df.copy()\n",
        "\n",
        "norm_X = df.iloc[:, 0:8]\n",
        "norm_Y1 = df[[\"Y1\"]]\n",
        "norm_Y2 = df[[\"Y2\"]]\n",
        "\n",
        "norm_X = sx.fit_transform(norm_X)\n",
        "norm_Y1 = sy1.fit_transform(norm_Y1)\n",
        "norm_Y2 = sy2.fit_transform(norm_Y2)\n",
        "\n",
        "normedDf = pd.concat([pd.DataFrame(norm_X), pd.DataFrame(norm_Y1), pd.DataFrame(norm_Y2)], axis=1)\n",
        "normedDf.columns = df.columns\n",
        "normedDf"
      ]
    },
    {
      "cell_type": "code",
      "execution_count": null,
      "id": "6df334e5-4020-4139-aa58-665042863ed5",
      "metadata": {
        "tags": [],
        "id": "6df334e5-4020-4139-aa58-665042863ed5"
      },
      "outputs": [],
      "source": [
        "norm_X = normedDf.iloc[:, 0:8]\n",
        "norm_Y1 = normedDf[[\"Y1\"]]\n",
        "norm_Y2 = normedDf[[\"Y2\"]]"
      ]
    },
    {
      "cell_type": "markdown",
      "id": "4ef0075c-a0de-4b3d-ad2e-2a8758570d0f",
      "metadata": {
        "tags": [],
        "id": "4ef0075c-a0de-4b3d-ad2e-2a8758570d0f"
      },
      "source": [
        "### Final dataframes"
      ]
    },
    {
      "cell_type": "code",
      "execution_count": null,
      "id": "3065d0c1-ff04-4d99-8603-e81ad945e68f",
      "metadata": {
        "tags": [],
        "colab": {
          "base_uri": "https://localhost:8080/",
          "height": 424
        },
        "id": "3065d0c1-ff04-4d99-8603-e81ad945e68f",
        "outputId": "c5bbddc5-ba9c-40a4-95b3-5c03fd701cf5"
      },
      "outputs": [
        {
          "output_type": "execute_result",
          "data": {
            "text/plain": [
              "           X1        X2        X3        X4   X5        X6   X7   X8\n",
              "0    1.000000  0.000000  0.285714  0.000000  1.0  0.000000  0.0  0.0\n",
              "1    1.000000  0.000000  0.285714  0.000000  1.0  0.333333  0.0  0.0\n",
              "2    1.000000  0.000000  0.285714  0.000000  1.0  0.666667  0.0  0.0\n",
              "3    1.000000  0.000000  0.285714  0.000000  1.0  1.000000  0.0  0.0\n",
              "4    0.777778  0.166667  0.428571  0.111111  1.0  0.000000  0.0  0.0\n",
              "..        ...       ...       ...       ...  ...       ...  ...  ...\n",
              "763  0.055556  0.916667  0.571429  1.000000  0.0  1.000000  1.0  1.0\n",
              "764  0.000000  1.000000  0.714286  1.000000  0.0  0.000000  1.0  1.0\n",
              "765  0.000000  1.000000  0.714286  1.000000  0.0  0.333333  1.0  1.0\n",
              "766  0.000000  1.000000  0.714286  1.000000  0.0  0.666667  1.0  1.0\n",
              "767  0.000000  1.000000  0.714286  1.000000  0.0  1.000000  1.0  1.0\n",
              "\n",
              "[768 rows x 8 columns]"
            ],
            "text/html": [
              "\n",
              "  <div id=\"df-6f85d0d1-9e3b-43ee-a234-b7ea97268bb8\">\n",
              "    <div class=\"colab-df-container\">\n",
              "      <div>\n",
              "<style scoped>\n",
              "    .dataframe tbody tr th:only-of-type {\n",
              "        vertical-align: middle;\n",
              "    }\n",
              "\n",
              "    .dataframe tbody tr th {\n",
              "        vertical-align: top;\n",
              "    }\n",
              "\n",
              "    .dataframe thead th {\n",
              "        text-align: right;\n",
              "    }\n",
              "</style>\n",
              "<table border=\"1\" class=\"dataframe\">\n",
              "  <thead>\n",
              "    <tr style=\"text-align: right;\">\n",
              "      <th></th>\n",
              "      <th>X1</th>\n",
              "      <th>X2</th>\n",
              "      <th>X3</th>\n",
              "      <th>X4</th>\n",
              "      <th>X5</th>\n",
              "      <th>X6</th>\n",
              "      <th>X7</th>\n",
              "      <th>X8</th>\n",
              "    </tr>\n",
              "  </thead>\n",
              "  <tbody>\n",
              "    <tr>\n",
              "      <th>0</th>\n",
              "      <td>1.000000</td>\n",
              "      <td>0.000000</td>\n",
              "      <td>0.285714</td>\n",
              "      <td>0.000000</td>\n",
              "      <td>1.0</td>\n",
              "      <td>0.000000</td>\n",
              "      <td>0.0</td>\n",
              "      <td>0.0</td>\n",
              "    </tr>\n",
              "    <tr>\n",
              "      <th>1</th>\n",
              "      <td>1.000000</td>\n",
              "      <td>0.000000</td>\n",
              "      <td>0.285714</td>\n",
              "      <td>0.000000</td>\n",
              "      <td>1.0</td>\n",
              "      <td>0.333333</td>\n",
              "      <td>0.0</td>\n",
              "      <td>0.0</td>\n",
              "    </tr>\n",
              "    <tr>\n",
              "      <th>2</th>\n",
              "      <td>1.000000</td>\n",
              "      <td>0.000000</td>\n",
              "      <td>0.285714</td>\n",
              "      <td>0.000000</td>\n",
              "      <td>1.0</td>\n",
              "      <td>0.666667</td>\n",
              "      <td>0.0</td>\n",
              "      <td>0.0</td>\n",
              "    </tr>\n",
              "    <tr>\n",
              "      <th>3</th>\n",
              "      <td>1.000000</td>\n",
              "      <td>0.000000</td>\n",
              "      <td>0.285714</td>\n",
              "      <td>0.000000</td>\n",
              "      <td>1.0</td>\n",
              "      <td>1.000000</td>\n",
              "      <td>0.0</td>\n",
              "      <td>0.0</td>\n",
              "    </tr>\n",
              "    <tr>\n",
              "      <th>4</th>\n",
              "      <td>0.777778</td>\n",
              "      <td>0.166667</td>\n",
              "      <td>0.428571</td>\n",
              "      <td>0.111111</td>\n",
              "      <td>1.0</td>\n",
              "      <td>0.000000</td>\n",
              "      <td>0.0</td>\n",
              "      <td>0.0</td>\n",
              "    </tr>\n",
              "    <tr>\n",
              "      <th>...</th>\n",
              "      <td>...</td>\n",
              "      <td>...</td>\n",
              "      <td>...</td>\n",
              "      <td>...</td>\n",
              "      <td>...</td>\n",
              "      <td>...</td>\n",
              "      <td>...</td>\n",
              "      <td>...</td>\n",
              "    </tr>\n",
              "    <tr>\n",
              "      <th>763</th>\n",
              "      <td>0.055556</td>\n",
              "      <td>0.916667</td>\n",
              "      <td>0.571429</td>\n",
              "      <td>1.000000</td>\n",
              "      <td>0.0</td>\n",
              "      <td>1.000000</td>\n",
              "      <td>1.0</td>\n",
              "      <td>1.0</td>\n",
              "    </tr>\n",
              "    <tr>\n",
              "      <th>764</th>\n",
              "      <td>0.000000</td>\n",
              "      <td>1.000000</td>\n",
              "      <td>0.714286</td>\n",
              "      <td>1.000000</td>\n",
              "      <td>0.0</td>\n",
              "      <td>0.000000</td>\n",
              "      <td>1.0</td>\n",
              "      <td>1.0</td>\n",
              "    </tr>\n",
              "    <tr>\n",
              "      <th>765</th>\n",
              "      <td>0.000000</td>\n",
              "      <td>1.000000</td>\n",
              "      <td>0.714286</td>\n",
              "      <td>1.000000</td>\n",
              "      <td>0.0</td>\n",
              "      <td>0.333333</td>\n",
              "      <td>1.0</td>\n",
              "      <td>1.0</td>\n",
              "    </tr>\n",
              "    <tr>\n",
              "      <th>766</th>\n",
              "      <td>0.000000</td>\n",
              "      <td>1.000000</td>\n",
              "      <td>0.714286</td>\n",
              "      <td>1.000000</td>\n",
              "      <td>0.0</td>\n",
              "      <td>0.666667</td>\n",
              "      <td>1.0</td>\n",
              "      <td>1.0</td>\n",
              "    </tr>\n",
              "    <tr>\n",
              "      <th>767</th>\n",
              "      <td>0.000000</td>\n",
              "      <td>1.000000</td>\n",
              "      <td>0.714286</td>\n",
              "      <td>1.000000</td>\n",
              "      <td>0.0</td>\n",
              "      <td>1.000000</td>\n",
              "      <td>1.0</td>\n",
              "      <td>1.0</td>\n",
              "    </tr>\n",
              "  </tbody>\n",
              "</table>\n",
              "<p>768 rows × 8 columns</p>\n",
              "</div>\n",
              "      <button class=\"colab-df-convert\" onclick=\"convertToInteractive('df-6f85d0d1-9e3b-43ee-a234-b7ea97268bb8')\"\n",
              "              title=\"Convert this dataframe to an interactive table.\"\n",
              "              style=\"display:none;\">\n",
              "        \n",
              "  <svg xmlns=\"http://www.w3.org/2000/svg\" height=\"24px\"viewBox=\"0 0 24 24\"\n",
              "       width=\"24px\">\n",
              "    <path d=\"M0 0h24v24H0V0z\" fill=\"none\"/>\n",
              "    <path d=\"M18.56 5.44l.94 2.06.94-2.06 2.06-.94-2.06-.94-.94-2.06-.94 2.06-2.06.94zm-11 1L8.5 8.5l.94-2.06 2.06-.94-2.06-.94L8.5 2.5l-.94 2.06-2.06.94zm10 10l.94 2.06.94-2.06 2.06-.94-2.06-.94-.94-2.06-.94 2.06-2.06.94z\"/><path d=\"M17.41 7.96l-1.37-1.37c-.4-.4-.92-.59-1.43-.59-.52 0-1.04.2-1.43.59L10.3 9.45l-7.72 7.72c-.78.78-.78 2.05 0 2.83L4 21.41c.39.39.9.59 1.41.59.51 0 1.02-.2 1.41-.59l7.78-7.78 2.81-2.81c.8-.78.8-2.07 0-2.86zM5.41 20L4 18.59l7.72-7.72 1.47 1.35L5.41 20z\"/>\n",
              "  </svg>\n",
              "      </button>\n",
              "      \n",
              "  <style>\n",
              "    .colab-df-container {\n",
              "      display:flex;\n",
              "      flex-wrap:wrap;\n",
              "      gap: 12px;\n",
              "    }\n",
              "\n",
              "    .colab-df-convert {\n",
              "      background-color: #E8F0FE;\n",
              "      border: none;\n",
              "      border-radius: 50%;\n",
              "      cursor: pointer;\n",
              "      display: none;\n",
              "      fill: #1967D2;\n",
              "      height: 32px;\n",
              "      padding: 0 0 0 0;\n",
              "      width: 32px;\n",
              "    }\n",
              "\n",
              "    .colab-df-convert:hover {\n",
              "      background-color: #E2EBFA;\n",
              "      box-shadow: 0px 1px 2px rgba(60, 64, 67, 0.3), 0px 1px 3px 1px rgba(60, 64, 67, 0.15);\n",
              "      fill: #174EA6;\n",
              "    }\n",
              "\n",
              "    [theme=dark] .colab-df-convert {\n",
              "      background-color: #3B4455;\n",
              "      fill: #D2E3FC;\n",
              "    }\n",
              "\n",
              "    [theme=dark] .colab-df-convert:hover {\n",
              "      background-color: #434B5C;\n",
              "      box-shadow: 0px 1px 3px 1px rgba(0, 0, 0, 0.15);\n",
              "      filter: drop-shadow(0px 1px 2px rgba(0, 0, 0, 0.3));\n",
              "      fill: #FFFFFF;\n",
              "    }\n",
              "  </style>\n",
              "\n",
              "      <script>\n",
              "        const buttonEl =\n",
              "          document.querySelector('#df-6f85d0d1-9e3b-43ee-a234-b7ea97268bb8 button.colab-df-convert');\n",
              "        buttonEl.style.display =\n",
              "          google.colab.kernel.accessAllowed ? 'block' : 'none';\n",
              "\n",
              "        async function convertToInteractive(key) {\n",
              "          const element = document.querySelector('#df-6f85d0d1-9e3b-43ee-a234-b7ea97268bb8');\n",
              "          const dataTable =\n",
              "            await google.colab.kernel.invokeFunction('convertToInteractive',\n",
              "                                                     [key], {});\n",
              "          if (!dataTable) return;\n",
              "\n",
              "          const docLinkHtml = 'Like what you see? Visit the ' +\n",
              "            '<a target=\"_blank\" href=https://colab.research.google.com/notebooks/data_table.ipynb>data table notebook</a>'\n",
              "            + ' to learn more about interactive tables.';\n",
              "          element.innerHTML = '';\n",
              "          dataTable['output_type'] = 'display_data';\n",
              "          await google.colab.output.renderOutput(dataTable, element);\n",
              "          const docLink = document.createElement('div');\n",
              "          docLink.innerHTML = docLinkHtml;\n",
              "          element.appendChild(docLink);\n",
              "        }\n",
              "      </script>\n",
              "    </div>\n",
              "  </div>\n",
              "  "
            ]
          },
          "metadata": {},
          "execution_count": 9
        }
      ],
      "source": [
        "norm_X"
      ]
    },
    {
      "cell_type": "code",
      "execution_count": null,
      "id": "28462858-04f0-4433-9b62-e204265ff0f9",
      "metadata": {
        "tags": [],
        "colab": {
          "base_uri": "https://localhost:8080/",
          "height": 424
        },
        "id": "28462858-04f0-4433-9b62-e204265ff0f9",
        "outputId": "2005cd49-3ed3-4f3e-9b2e-8e546180e12c"
      },
      "outputs": [
        {
          "output_type": "execute_result",
          "data": {
            "text/plain": [
              "           Y1\n",
              "0    0.257212\n",
              "1    0.257212\n",
              "2    0.257212\n",
              "3    0.257212\n",
              "4    0.399838\n",
              "..        ...\n",
              "763  0.320032\n",
              "764  0.283904\n",
              "765  0.281208\n",
              "766  0.282286\n",
              "767  0.286600\n",
              "\n",
              "[768 rows x 1 columns]"
            ],
            "text/html": [
              "\n",
              "  <div id=\"df-ba70b928-e31f-4ed0-9a1f-caf719efe993\">\n",
              "    <div class=\"colab-df-container\">\n",
              "      <div>\n",
              "<style scoped>\n",
              "    .dataframe tbody tr th:only-of-type {\n",
              "        vertical-align: middle;\n",
              "    }\n",
              "\n",
              "    .dataframe tbody tr th {\n",
              "        vertical-align: top;\n",
              "    }\n",
              "\n",
              "    .dataframe thead th {\n",
              "        text-align: right;\n",
              "    }\n",
              "</style>\n",
              "<table border=\"1\" class=\"dataframe\">\n",
              "  <thead>\n",
              "    <tr style=\"text-align: right;\">\n",
              "      <th></th>\n",
              "      <th>Y1</th>\n",
              "    </tr>\n",
              "  </thead>\n",
              "  <tbody>\n",
              "    <tr>\n",
              "      <th>0</th>\n",
              "      <td>0.257212</td>\n",
              "    </tr>\n",
              "    <tr>\n",
              "      <th>1</th>\n",
              "      <td>0.257212</td>\n",
              "    </tr>\n",
              "    <tr>\n",
              "      <th>2</th>\n",
              "      <td>0.257212</td>\n",
              "    </tr>\n",
              "    <tr>\n",
              "      <th>3</th>\n",
              "      <td>0.257212</td>\n",
              "    </tr>\n",
              "    <tr>\n",
              "      <th>4</th>\n",
              "      <td>0.399838</td>\n",
              "    </tr>\n",
              "    <tr>\n",
              "      <th>...</th>\n",
              "      <td>...</td>\n",
              "    </tr>\n",
              "    <tr>\n",
              "      <th>763</th>\n",
              "      <td>0.320032</td>\n",
              "    </tr>\n",
              "    <tr>\n",
              "      <th>764</th>\n",
              "      <td>0.283904</td>\n",
              "    </tr>\n",
              "    <tr>\n",
              "      <th>765</th>\n",
              "      <td>0.281208</td>\n",
              "    </tr>\n",
              "    <tr>\n",
              "      <th>766</th>\n",
              "      <td>0.282286</td>\n",
              "    </tr>\n",
              "    <tr>\n",
              "      <th>767</th>\n",
              "      <td>0.286600</td>\n",
              "    </tr>\n",
              "  </tbody>\n",
              "</table>\n",
              "<p>768 rows × 1 columns</p>\n",
              "</div>\n",
              "      <button class=\"colab-df-convert\" onclick=\"convertToInteractive('df-ba70b928-e31f-4ed0-9a1f-caf719efe993')\"\n",
              "              title=\"Convert this dataframe to an interactive table.\"\n",
              "              style=\"display:none;\">\n",
              "        \n",
              "  <svg xmlns=\"http://www.w3.org/2000/svg\" height=\"24px\"viewBox=\"0 0 24 24\"\n",
              "       width=\"24px\">\n",
              "    <path d=\"M0 0h24v24H0V0z\" fill=\"none\"/>\n",
              "    <path d=\"M18.56 5.44l.94 2.06.94-2.06 2.06-.94-2.06-.94-.94-2.06-.94 2.06-2.06.94zm-11 1L8.5 8.5l.94-2.06 2.06-.94-2.06-.94L8.5 2.5l-.94 2.06-2.06.94zm10 10l.94 2.06.94-2.06 2.06-.94-2.06-.94-.94-2.06-.94 2.06-2.06.94z\"/><path d=\"M17.41 7.96l-1.37-1.37c-.4-.4-.92-.59-1.43-.59-.52 0-1.04.2-1.43.59L10.3 9.45l-7.72 7.72c-.78.78-.78 2.05 0 2.83L4 21.41c.39.39.9.59 1.41.59.51 0 1.02-.2 1.41-.59l7.78-7.78 2.81-2.81c.8-.78.8-2.07 0-2.86zM5.41 20L4 18.59l7.72-7.72 1.47 1.35L5.41 20z\"/>\n",
              "  </svg>\n",
              "      </button>\n",
              "      \n",
              "  <style>\n",
              "    .colab-df-container {\n",
              "      display:flex;\n",
              "      flex-wrap:wrap;\n",
              "      gap: 12px;\n",
              "    }\n",
              "\n",
              "    .colab-df-convert {\n",
              "      background-color: #E8F0FE;\n",
              "      border: none;\n",
              "      border-radius: 50%;\n",
              "      cursor: pointer;\n",
              "      display: none;\n",
              "      fill: #1967D2;\n",
              "      height: 32px;\n",
              "      padding: 0 0 0 0;\n",
              "      width: 32px;\n",
              "    }\n",
              "\n",
              "    .colab-df-convert:hover {\n",
              "      background-color: #E2EBFA;\n",
              "      box-shadow: 0px 1px 2px rgba(60, 64, 67, 0.3), 0px 1px 3px 1px rgba(60, 64, 67, 0.15);\n",
              "      fill: #174EA6;\n",
              "    }\n",
              "\n",
              "    [theme=dark] .colab-df-convert {\n",
              "      background-color: #3B4455;\n",
              "      fill: #D2E3FC;\n",
              "    }\n",
              "\n",
              "    [theme=dark] .colab-df-convert:hover {\n",
              "      background-color: #434B5C;\n",
              "      box-shadow: 0px 1px 3px 1px rgba(0, 0, 0, 0.15);\n",
              "      filter: drop-shadow(0px 1px 2px rgba(0, 0, 0, 0.3));\n",
              "      fill: #FFFFFF;\n",
              "    }\n",
              "  </style>\n",
              "\n",
              "      <script>\n",
              "        const buttonEl =\n",
              "          document.querySelector('#df-ba70b928-e31f-4ed0-9a1f-caf719efe993 button.colab-df-convert');\n",
              "        buttonEl.style.display =\n",
              "          google.colab.kernel.accessAllowed ? 'block' : 'none';\n",
              "\n",
              "        async function convertToInteractive(key) {\n",
              "          const element = document.querySelector('#df-ba70b928-e31f-4ed0-9a1f-caf719efe993');\n",
              "          const dataTable =\n",
              "            await google.colab.kernel.invokeFunction('convertToInteractive',\n",
              "                                                     [key], {});\n",
              "          if (!dataTable) return;\n",
              "\n",
              "          const docLinkHtml = 'Like what you see? Visit the ' +\n",
              "            '<a target=\"_blank\" href=https://colab.research.google.com/notebooks/data_table.ipynb>data table notebook</a>'\n",
              "            + ' to learn more about interactive tables.';\n",
              "          element.innerHTML = '';\n",
              "          dataTable['output_type'] = 'display_data';\n",
              "          await google.colab.output.renderOutput(dataTable, element);\n",
              "          const docLink = document.createElement('div');\n",
              "          docLink.innerHTML = docLinkHtml;\n",
              "          element.appendChild(docLink);\n",
              "        }\n",
              "      </script>\n",
              "    </div>\n",
              "  </div>\n",
              "  "
            ]
          },
          "metadata": {},
          "execution_count": 10
        }
      ],
      "source": [
        "norm_Y1"
      ]
    },
    {
      "cell_type": "code",
      "execution_count": null,
      "id": "4fe203d1-a63d-4e33-ada5-63f059ece8f0",
      "metadata": {
        "tags": [],
        "colab": {
          "base_uri": "https://localhost:8080/",
          "height": 424
        },
        "id": "4fe203d1-a63d-4e33-ada5-63f059ece8f0",
        "outputId": "d3b5172c-fc4d-4b9a-9ed1-fdba737940e7"
      },
      "outputs": [
        {
          "output_type": "execute_result",
          "data": {
            "text/plain": [
              "           Y2\n",
              "0    0.280905\n",
              "1    0.280905\n",
              "2    0.280905\n",
              "3    0.280905\n",
              "4    0.468085\n",
              "..        ...\n",
              "763  0.282790\n",
              "764  0.161056\n",
              "765  0.167250\n",
              "766  0.153784\n",
              "767  0.138163\n",
              "\n",
              "[768 rows x 1 columns]"
            ],
            "text/html": [
              "\n",
              "  <div id=\"df-bc656b67-5721-4a66-b90e-f321ee937345\">\n",
              "    <div class=\"colab-df-container\">\n",
              "      <div>\n",
              "<style scoped>\n",
              "    .dataframe tbody tr th:only-of-type {\n",
              "        vertical-align: middle;\n",
              "    }\n",
              "\n",
              "    .dataframe tbody tr th {\n",
              "        vertical-align: top;\n",
              "    }\n",
              "\n",
              "    .dataframe thead th {\n",
              "        text-align: right;\n",
              "    }\n",
              "</style>\n",
              "<table border=\"1\" class=\"dataframe\">\n",
              "  <thead>\n",
              "    <tr style=\"text-align: right;\">\n",
              "      <th></th>\n",
              "      <th>Y2</th>\n",
              "    </tr>\n",
              "  </thead>\n",
              "  <tbody>\n",
              "    <tr>\n",
              "      <th>0</th>\n",
              "      <td>0.280905</td>\n",
              "    </tr>\n",
              "    <tr>\n",
              "      <th>1</th>\n",
              "      <td>0.280905</td>\n",
              "    </tr>\n",
              "    <tr>\n",
              "      <th>2</th>\n",
              "      <td>0.280905</td>\n",
              "    </tr>\n",
              "    <tr>\n",
              "      <th>3</th>\n",
              "      <td>0.280905</td>\n",
              "    </tr>\n",
              "    <tr>\n",
              "      <th>4</th>\n",
              "      <td>0.468085</td>\n",
              "    </tr>\n",
              "    <tr>\n",
              "      <th>...</th>\n",
              "      <td>...</td>\n",
              "    </tr>\n",
              "    <tr>\n",
              "      <th>763</th>\n",
              "      <td>0.282790</td>\n",
              "    </tr>\n",
              "    <tr>\n",
              "      <th>764</th>\n",
              "      <td>0.161056</td>\n",
              "    </tr>\n",
              "    <tr>\n",
              "      <th>765</th>\n",
              "      <td>0.167250</td>\n",
              "    </tr>\n",
              "    <tr>\n",
              "      <th>766</th>\n",
              "      <td>0.153784</td>\n",
              "    </tr>\n",
              "    <tr>\n",
              "      <th>767</th>\n",
              "      <td>0.138163</td>\n",
              "    </tr>\n",
              "  </tbody>\n",
              "</table>\n",
              "<p>768 rows × 1 columns</p>\n",
              "</div>\n",
              "      <button class=\"colab-df-convert\" onclick=\"convertToInteractive('df-bc656b67-5721-4a66-b90e-f321ee937345')\"\n",
              "              title=\"Convert this dataframe to an interactive table.\"\n",
              "              style=\"display:none;\">\n",
              "        \n",
              "  <svg xmlns=\"http://www.w3.org/2000/svg\" height=\"24px\"viewBox=\"0 0 24 24\"\n",
              "       width=\"24px\">\n",
              "    <path d=\"M0 0h24v24H0V0z\" fill=\"none\"/>\n",
              "    <path d=\"M18.56 5.44l.94 2.06.94-2.06 2.06-.94-2.06-.94-.94-2.06-.94 2.06-2.06.94zm-11 1L8.5 8.5l.94-2.06 2.06-.94-2.06-.94L8.5 2.5l-.94 2.06-2.06.94zm10 10l.94 2.06.94-2.06 2.06-.94-2.06-.94-.94-2.06-.94 2.06-2.06.94z\"/><path d=\"M17.41 7.96l-1.37-1.37c-.4-.4-.92-.59-1.43-.59-.52 0-1.04.2-1.43.59L10.3 9.45l-7.72 7.72c-.78.78-.78 2.05 0 2.83L4 21.41c.39.39.9.59 1.41.59.51 0 1.02-.2 1.41-.59l7.78-7.78 2.81-2.81c.8-.78.8-2.07 0-2.86zM5.41 20L4 18.59l7.72-7.72 1.47 1.35L5.41 20z\"/>\n",
              "  </svg>\n",
              "      </button>\n",
              "      \n",
              "  <style>\n",
              "    .colab-df-container {\n",
              "      display:flex;\n",
              "      flex-wrap:wrap;\n",
              "      gap: 12px;\n",
              "    }\n",
              "\n",
              "    .colab-df-convert {\n",
              "      background-color: #E8F0FE;\n",
              "      border: none;\n",
              "      border-radius: 50%;\n",
              "      cursor: pointer;\n",
              "      display: none;\n",
              "      fill: #1967D2;\n",
              "      height: 32px;\n",
              "      padding: 0 0 0 0;\n",
              "      width: 32px;\n",
              "    }\n",
              "\n",
              "    .colab-df-convert:hover {\n",
              "      background-color: #E2EBFA;\n",
              "      box-shadow: 0px 1px 2px rgba(60, 64, 67, 0.3), 0px 1px 3px 1px rgba(60, 64, 67, 0.15);\n",
              "      fill: #174EA6;\n",
              "    }\n",
              "\n",
              "    [theme=dark] .colab-df-convert {\n",
              "      background-color: #3B4455;\n",
              "      fill: #D2E3FC;\n",
              "    }\n",
              "\n",
              "    [theme=dark] .colab-df-convert:hover {\n",
              "      background-color: #434B5C;\n",
              "      box-shadow: 0px 1px 3px 1px rgba(0, 0, 0, 0.15);\n",
              "      filter: drop-shadow(0px 1px 2px rgba(0, 0, 0, 0.3));\n",
              "      fill: #FFFFFF;\n",
              "    }\n",
              "  </style>\n",
              "\n",
              "      <script>\n",
              "        const buttonEl =\n",
              "          document.querySelector('#df-bc656b67-5721-4a66-b90e-f321ee937345 button.colab-df-convert');\n",
              "        buttonEl.style.display =\n",
              "          google.colab.kernel.accessAllowed ? 'block' : 'none';\n",
              "\n",
              "        async function convertToInteractive(key) {\n",
              "          const element = document.querySelector('#df-bc656b67-5721-4a66-b90e-f321ee937345');\n",
              "          const dataTable =\n",
              "            await google.colab.kernel.invokeFunction('convertToInteractive',\n",
              "                                                     [key], {});\n",
              "          if (!dataTable) return;\n",
              "\n",
              "          const docLinkHtml = 'Like what you see? Visit the ' +\n",
              "            '<a target=\"_blank\" href=https://colab.research.google.com/notebooks/data_table.ipynb>data table notebook</a>'\n",
              "            + ' to learn more about interactive tables.';\n",
              "          element.innerHTML = '';\n",
              "          dataTable['output_type'] = 'display_data';\n",
              "          await google.colab.output.renderOutput(dataTable, element);\n",
              "          const docLink = document.createElement('div');\n",
              "          docLink.innerHTML = docLinkHtml;\n",
              "          element.appendChild(docLink);\n",
              "        }\n",
              "      </script>\n",
              "    </div>\n",
              "  </div>\n",
              "  "
            ]
          },
          "metadata": {},
          "execution_count": 11
        }
      ],
      "source": [
        "norm_Y2"
      ]
    },
    {
      "cell_type": "code",
      "execution_count": null,
      "id": "d0fe6fd6-5090-4b6d-82ba-c84ecf5e98c9",
      "metadata": {
        "tags": [],
        "colab": {
          "base_uri": "https://localhost:8080/",
          "height": 364
        },
        "id": "d0fe6fd6-5090-4b6d-82ba-c84ecf5e98c9",
        "outputId": "099c611e-bb51-45e8-e924-2b6af55fda86"
      },
      "outputs": [
        {
          "output_type": "execute_result",
          "data": {
            "text/plain": [
              "               X1          X2          X3          X4          X5          X6  \\\n",
              "count  768.000000  768.000000  768.000000  768.000000  768.000000  768.000000   \n",
              "mean     0.400463    0.534722    0.428571    0.601852    0.500000    0.500000   \n",
              "std      0.293826    0.299613    0.254382    0.409668    0.500326    0.372921   \n",
              "min      0.000000    0.000000    0.000000    0.000000    0.000000    0.000000   \n",
              "25%      0.173611    0.312500    0.285714    0.277778    0.000000    0.250000   \n",
              "50%      0.361111    0.541667    0.428571    0.666667    0.500000    0.500000   \n",
              "75%      0.583333    0.770833    0.571429    1.000000    1.000000    0.750000   \n",
              "max      1.000000    1.000000    1.000000    1.000000    1.000000    1.000000   \n",
              "\n",
              "               X7          X8          Y1          Y2  \n",
              "count  768.000000  768.000000  768.000000  768.000000  \n",
              "mean     0.585938    0.562500    0.439396    0.368644  \n",
              "std      0.333051    0.310192    0.272046    0.256216  \n",
              "min      0.000000    0.000000    0.000000    0.000000  \n",
              "25%      0.250000    0.350000    0.188258    0.127121  \n",
              "50%      0.625000    0.600000    0.348881    0.301104  \n",
              "75%      1.000000    0.800000    0.691763    0.598775  \n",
              "max      1.000000    1.000000    1.000000    1.000000  "
            ],
            "text/html": [
              "\n",
              "  <div id=\"df-95e1fb19-aa0e-4aec-b32e-eed67628e7b5\">\n",
              "    <div class=\"colab-df-container\">\n",
              "      <div>\n",
              "<style scoped>\n",
              "    .dataframe tbody tr th:only-of-type {\n",
              "        vertical-align: middle;\n",
              "    }\n",
              "\n",
              "    .dataframe tbody tr th {\n",
              "        vertical-align: top;\n",
              "    }\n",
              "\n",
              "    .dataframe thead th {\n",
              "        text-align: right;\n",
              "    }\n",
              "</style>\n",
              "<table border=\"1\" class=\"dataframe\">\n",
              "  <thead>\n",
              "    <tr style=\"text-align: right;\">\n",
              "      <th></th>\n",
              "      <th>X1</th>\n",
              "      <th>X2</th>\n",
              "      <th>X3</th>\n",
              "      <th>X4</th>\n",
              "      <th>X5</th>\n",
              "      <th>X6</th>\n",
              "      <th>X7</th>\n",
              "      <th>X8</th>\n",
              "      <th>Y1</th>\n",
              "      <th>Y2</th>\n",
              "    </tr>\n",
              "  </thead>\n",
              "  <tbody>\n",
              "    <tr>\n",
              "      <th>count</th>\n",
              "      <td>768.000000</td>\n",
              "      <td>768.000000</td>\n",
              "      <td>768.000000</td>\n",
              "      <td>768.000000</td>\n",
              "      <td>768.000000</td>\n",
              "      <td>768.000000</td>\n",
              "      <td>768.000000</td>\n",
              "      <td>768.000000</td>\n",
              "      <td>768.000000</td>\n",
              "      <td>768.000000</td>\n",
              "    </tr>\n",
              "    <tr>\n",
              "      <th>mean</th>\n",
              "      <td>0.400463</td>\n",
              "      <td>0.534722</td>\n",
              "      <td>0.428571</td>\n",
              "      <td>0.601852</td>\n",
              "      <td>0.500000</td>\n",
              "      <td>0.500000</td>\n",
              "      <td>0.585938</td>\n",
              "      <td>0.562500</td>\n",
              "      <td>0.439396</td>\n",
              "      <td>0.368644</td>\n",
              "    </tr>\n",
              "    <tr>\n",
              "      <th>std</th>\n",
              "      <td>0.293826</td>\n",
              "      <td>0.299613</td>\n",
              "      <td>0.254382</td>\n",
              "      <td>0.409668</td>\n",
              "      <td>0.500326</td>\n",
              "      <td>0.372921</td>\n",
              "      <td>0.333051</td>\n",
              "      <td>0.310192</td>\n",
              "      <td>0.272046</td>\n",
              "      <td>0.256216</td>\n",
              "    </tr>\n",
              "    <tr>\n",
              "      <th>min</th>\n",
              "      <td>0.000000</td>\n",
              "      <td>0.000000</td>\n",
              "      <td>0.000000</td>\n",
              "      <td>0.000000</td>\n",
              "      <td>0.000000</td>\n",
              "      <td>0.000000</td>\n",
              "      <td>0.000000</td>\n",
              "      <td>0.000000</td>\n",
              "      <td>0.000000</td>\n",
              "      <td>0.000000</td>\n",
              "    </tr>\n",
              "    <tr>\n",
              "      <th>25%</th>\n",
              "      <td>0.173611</td>\n",
              "      <td>0.312500</td>\n",
              "      <td>0.285714</td>\n",
              "      <td>0.277778</td>\n",
              "      <td>0.000000</td>\n",
              "      <td>0.250000</td>\n",
              "      <td>0.250000</td>\n",
              "      <td>0.350000</td>\n",
              "      <td>0.188258</td>\n",
              "      <td>0.127121</td>\n",
              "    </tr>\n",
              "    <tr>\n",
              "      <th>50%</th>\n",
              "      <td>0.361111</td>\n",
              "      <td>0.541667</td>\n",
              "      <td>0.428571</td>\n",
              "      <td>0.666667</td>\n",
              "      <td>0.500000</td>\n",
              "      <td>0.500000</td>\n",
              "      <td>0.625000</td>\n",
              "      <td>0.600000</td>\n",
              "      <td>0.348881</td>\n",
              "      <td>0.301104</td>\n",
              "    </tr>\n",
              "    <tr>\n",
              "      <th>75%</th>\n",
              "      <td>0.583333</td>\n",
              "      <td>0.770833</td>\n",
              "      <td>0.571429</td>\n",
              "      <td>1.000000</td>\n",
              "      <td>1.000000</td>\n",
              "      <td>0.750000</td>\n",
              "      <td>1.000000</td>\n",
              "      <td>0.800000</td>\n",
              "      <td>0.691763</td>\n",
              "      <td>0.598775</td>\n",
              "    </tr>\n",
              "    <tr>\n",
              "      <th>max</th>\n",
              "      <td>1.000000</td>\n",
              "      <td>1.000000</td>\n",
              "      <td>1.000000</td>\n",
              "      <td>1.000000</td>\n",
              "      <td>1.000000</td>\n",
              "      <td>1.000000</td>\n",
              "      <td>1.000000</td>\n",
              "      <td>1.000000</td>\n",
              "      <td>1.000000</td>\n",
              "      <td>1.000000</td>\n",
              "    </tr>\n",
              "  </tbody>\n",
              "</table>\n",
              "</div>\n",
              "      <button class=\"colab-df-convert\" onclick=\"convertToInteractive('df-95e1fb19-aa0e-4aec-b32e-eed67628e7b5')\"\n",
              "              title=\"Convert this dataframe to an interactive table.\"\n",
              "              style=\"display:none;\">\n",
              "        \n",
              "  <svg xmlns=\"http://www.w3.org/2000/svg\" height=\"24px\"viewBox=\"0 0 24 24\"\n",
              "       width=\"24px\">\n",
              "    <path d=\"M0 0h24v24H0V0z\" fill=\"none\"/>\n",
              "    <path d=\"M18.56 5.44l.94 2.06.94-2.06 2.06-.94-2.06-.94-.94-2.06-.94 2.06-2.06.94zm-11 1L8.5 8.5l.94-2.06 2.06-.94-2.06-.94L8.5 2.5l-.94 2.06-2.06.94zm10 10l.94 2.06.94-2.06 2.06-.94-2.06-.94-.94-2.06-.94 2.06-2.06.94z\"/><path d=\"M17.41 7.96l-1.37-1.37c-.4-.4-.92-.59-1.43-.59-.52 0-1.04.2-1.43.59L10.3 9.45l-7.72 7.72c-.78.78-.78 2.05 0 2.83L4 21.41c.39.39.9.59 1.41.59.51 0 1.02-.2 1.41-.59l7.78-7.78 2.81-2.81c.8-.78.8-2.07 0-2.86zM5.41 20L4 18.59l7.72-7.72 1.47 1.35L5.41 20z\"/>\n",
              "  </svg>\n",
              "      </button>\n",
              "      \n",
              "  <style>\n",
              "    .colab-df-container {\n",
              "      display:flex;\n",
              "      flex-wrap:wrap;\n",
              "      gap: 12px;\n",
              "    }\n",
              "\n",
              "    .colab-df-convert {\n",
              "      background-color: #E8F0FE;\n",
              "      border: none;\n",
              "      border-radius: 50%;\n",
              "      cursor: pointer;\n",
              "      display: none;\n",
              "      fill: #1967D2;\n",
              "      height: 32px;\n",
              "      padding: 0 0 0 0;\n",
              "      width: 32px;\n",
              "    }\n",
              "\n",
              "    .colab-df-convert:hover {\n",
              "      background-color: #E2EBFA;\n",
              "      box-shadow: 0px 1px 2px rgba(60, 64, 67, 0.3), 0px 1px 3px 1px rgba(60, 64, 67, 0.15);\n",
              "      fill: #174EA6;\n",
              "    }\n",
              "\n",
              "    [theme=dark] .colab-df-convert {\n",
              "      background-color: #3B4455;\n",
              "      fill: #D2E3FC;\n",
              "    }\n",
              "\n",
              "    [theme=dark] .colab-df-convert:hover {\n",
              "      background-color: #434B5C;\n",
              "      box-shadow: 0px 1px 3px 1px rgba(0, 0, 0, 0.15);\n",
              "      filter: drop-shadow(0px 1px 2px rgba(0, 0, 0, 0.3));\n",
              "      fill: #FFFFFF;\n",
              "    }\n",
              "  </style>\n",
              "\n",
              "      <script>\n",
              "        const buttonEl =\n",
              "          document.querySelector('#df-95e1fb19-aa0e-4aec-b32e-eed67628e7b5 button.colab-df-convert');\n",
              "        buttonEl.style.display =\n",
              "          google.colab.kernel.accessAllowed ? 'block' : 'none';\n",
              "\n",
              "        async function convertToInteractive(key) {\n",
              "          const element = document.querySelector('#df-95e1fb19-aa0e-4aec-b32e-eed67628e7b5');\n",
              "          const dataTable =\n",
              "            await google.colab.kernel.invokeFunction('convertToInteractive',\n",
              "                                                     [key], {});\n",
              "          if (!dataTable) return;\n",
              "\n",
              "          const docLinkHtml = 'Like what you see? Visit the ' +\n",
              "            '<a target=\"_blank\" href=https://colab.research.google.com/notebooks/data_table.ipynb>data table notebook</a>'\n",
              "            + ' to learn more about interactive tables.';\n",
              "          element.innerHTML = '';\n",
              "          dataTable['output_type'] = 'display_data';\n",
              "          await google.colab.output.renderOutput(dataTable, element);\n",
              "          const docLink = document.createElement('div');\n",
              "          docLink.innerHTML = docLinkHtml;\n",
              "          element.appendChild(docLink);\n",
              "        }\n",
              "      </script>\n",
              "    </div>\n",
              "  </div>\n",
              "  "
            ]
          },
          "metadata": {},
          "execution_count": 12
        }
      ],
      "source": [
        "normedDf.describe()"
      ]
    },
    {
      "cell_type": "markdown",
      "id": "a44ac8ab-9528-4c4f-8509-d5acdece27de",
      "metadata": {
        "id": "a44ac8ab-9528-4c4f-8509-d5acdece27de"
      },
      "source": [
        "## Select K best attributes"
      ]
    },
    {
      "cell_type": "markdown",
      "id": "90fb87cb-cb11-4eae-900f-d9ce92777dc9",
      "metadata": {
        "id": "90fb87cb-cb11-4eae-900f-d9ce92777dc9"
      },
      "source": [
        "Import method"
      ]
    },
    {
      "cell_type": "code",
      "execution_count": null,
      "id": "b440dc16-f38d-431e-9f9a-4a23f3537567",
      "metadata": {
        "tags": [],
        "id": "b440dc16-f38d-431e-9f9a-4a23f3537567"
      },
      "outputs": [],
      "source": [
        "from sklearn.feature_selection import SelectKBest, f_regression"
      ]
    },
    {
      "cell_type": "markdown",
      "id": "b67aef75-0054-4543-b424-026a4f0c458f",
      "metadata": {
        "id": "b67aef75-0054-4543-b424-026a4f0c458f"
      },
      "source": [
        "Get selection scores"
      ]
    },
    {
      "cell_type": "code",
      "execution_count": null,
      "id": "d95a4229-bd99-496c-8fec-3fa076fae408",
      "metadata": {
        "tags": [],
        "id": "d95a4229-bd99-496c-8fec-3fa076fae408"
      },
      "outputs": [],
      "source": [
        "selector_Y1 = SelectKBest(f_regression, k='all')\n",
        "df_selected_Y1 = selector_Y1.fit_transform(norm_X, np.ravel(norm_Y1))\n",
        "selector_Y2 = SelectKBest(f_regression, k='all')\n",
        "df_selected_Y2 = selector_Y2.fit_transform(norm_X, np.ravel(norm_Y2))"
      ]
    },
    {
      "cell_type": "markdown",
      "id": "e0ff7a8c-28e0-46e6-ac4e-08199f5d663e",
      "metadata": {
        "id": "e0ff7a8c-28e0-46e6-ac4e-08199f5d663e"
      },
      "source": [
        "### Sort k best for Y1"
      ]
    },
    {
      "cell_type": "code",
      "execution_count": null,
      "id": "e83bee1a-6b3f-4a69-9c8c-fda71f85cf76",
      "metadata": {
        "tags": [],
        "colab": {
          "base_uri": "https://localhost:8080/",
          "height": 300
        },
        "id": "e83bee1a-6b3f-4a69-9c8c-fda71f85cf76",
        "outputId": "359c9180-9cb1-4fe6-8443-834136518148"
      },
      "outputs": [
        {
          "output_type": "execute_result",
          "data": {
            "text/plain": [
              "  Feat_names     F_scores\n",
              "4         X5  2900.590178\n",
              "3         X4  2211.620312\n",
              "1         X2   585.260349\n",
              "0         X1   484.045616\n",
              "2         X3   200.727893\n",
              "6         X7    60.156178\n",
              "7         X8     5.892043\n",
              "5         X6     0.005126"
            ],
            "text/html": [
              "\n",
              "  <div id=\"df-643b06bc-40f5-4593-97f3-ca60d7a8b49c\">\n",
              "    <div class=\"colab-df-container\">\n",
              "      <div>\n",
              "<style scoped>\n",
              "    .dataframe tbody tr th:only-of-type {\n",
              "        vertical-align: middle;\n",
              "    }\n",
              "\n",
              "    .dataframe tbody tr th {\n",
              "        vertical-align: top;\n",
              "    }\n",
              "\n",
              "    .dataframe thead th {\n",
              "        text-align: right;\n",
              "    }\n",
              "</style>\n",
              "<table border=\"1\" class=\"dataframe\">\n",
              "  <thead>\n",
              "    <tr style=\"text-align: right;\">\n",
              "      <th></th>\n",
              "      <th>Feat_names</th>\n",
              "      <th>F_scores</th>\n",
              "    </tr>\n",
              "  </thead>\n",
              "  <tbody>\n",
              "    <tr>\n",
              "      <th>4</th>\n",
              "      <td>X5</td>\n",
              "      <td>2900.590178</td>\n",
              "    </tr>\n",
              "    <tr>\n",
              "      <th>3</th>\n",
              "      <td>X4</td>\n",
              "      <td>2211.620312</td>\n",
              "    </tr>\n",
              "    <tr>\n",
              "      <th>1</th>\n",
              "      <td>X2</td>\n",
              "      <td>585.260349</td>\n",
              "    </tr>\n",
              "    <tr>\n",
              "      <th>0</th>\n",
              "      <td>X1</td>\n",
              "      <td>484.045616</td>\n",
              "    </tr>\n",
              "    <tr>\n",
              "      <th>2</th>\n",
              "      <td>X3</td>\n",
              "      <td>200.727893</td>\n",
              "    </tr>\n",
              "    <tr>\n",
              "      <th>6</th>\n",
              "      <td>X7</td>\n",
              "      <td>60.156178</td>\n",
              "    </tr>\n",
              "    <tr>\n",
              "      <th>7</th>\n",
              "      <td>X8</td>\n",
              "      <td>5.892043</td>\n",
              "    </tr>\n",
              "    <tr>\n",
              "      <th>5</th>\n",
              "      <td>X6</td>\n",
              "      <td>0.005126</td>\n",
              "    </tr>\n",
              "  </tbody>\n",
              "</table>\n",
              "</div>\n",
              "      <button class=\"colab-df-convert\" onclick=\"convertToInteractive('df-643b06bc-40f5-4593-97f3-ca60d7a8b49c')\"\n",
              "              title=\"Convert this dataframe to an interactive table.\"\n",
              "              style=\"display:none;\">\n",
              "        \n",
              "  <svg xmlns=\"http://www.w3.org/2000/svg\" height=\"24px\"viewBox=\"0 0 24 24\"\n",
              "       width=\"24px\">\n",
              "    <path d=\"M0 0h24v24H0V0z\" fill=\"none\"/>\n",
              "    <path d=\"M18.56 5.44l.94 2.06.94-2.06 2.06-.94-2.06-.94-.94-2.06-.94 2.06-2.06.94zm-11 1L8.5 8.5l.94-2.06 2.06-.94-2.06-.94L8.5 2.5l-.94 2.06-2.06.94zm10 10l.94 2.06.94-2.06 2.06-.94-2.06-.94-.94-2.06-.94 2.06-2.06.94z\"/><path d=\"M17.41 7.96l-1.37-1.37c-.4-.4-.92-.59-1.43-.59-.52 0-1.04.2-1.43.59L10.3 9.45l-7.72 7.72c-.78.78-.78 2.05 0 2.83L4 21.41c.39.39.9.59 1.41.59.51 0 1.02-.2 1.41-.59l7.78-7.78 2.81-2.81c.8-.78.8-2.07 0-2.86zM5.41 20L4 18.59l7.72-7.72 1.47 1.35L5.41 20z\"/>\n",
              "  </svg>\n",
              "      </button>\n",
              "      \n",
              "  <style>\n",
              "    .colab-df-container {\n",
              "      display:flex;\n",
              "      flex-wrap:wrap;\n",
              "      gap: 12px;\n",
              "    }\n",
              "\n",
              "    .colab-df-convert {\n",
              "      background-color: #E8F0FE;\n",
              "      border: none;\n",
              "      border-radius: 50%;\n",
              "      cursor: pointer;\n",
              "      display: none;\n",
              "      fill: #1967D2;\n",
              "      height: 32px;\n",
              "      padding: 0 0 0 0;\n",
              "      width: 32px;\n",
              "    }\n",
              "\n",
              "    .colab-df-convert:hover {\n",
              "      background-color: #E2EBFA;\n",
              "      box-shadow: 0px 1px 2px rgba(60, 64, 67, 0.3), 0px 1px 3px 1px rgba(60, 64, 67, 0.15);\n",
              "      fill: #174EA6;\n",
              "    }\n",
              "\n",
              "    [theme=dark] .colab-df-convert {\n",
              "      background-color: #3B4455;\n",
              "      fill: #D2E3FC;\n",
              "    }\n",
              "\n",
              "    [theme=dark] .colab-df-convert:hover {\n",
              "      background-color: #434B5C;\n",
              "      box-shadow: 0px 1px 3px 1px rgba(0, 0, 0, 0.15);\n",
              "      filter: drop-shadow(0px 1px 2px rgba(0, 0, 0, 0.3));\n",
              "      fill: #FFFFFF;\n",
              "    }\n",
              "  </style>\n",
              "\n",
              "      <script>\n",
              "        const buttonEl =\n",
              "          document.querySelector('#df-643b06bc-40f5-4593-97f3-ca60d7a8b49c button.colab-df-convert');\n",
              "        buttonEl.style.display =\n",
              "          google.colab.kernel.accessAllowed ? 'block' : 'none';\n",
              "\n",
              "        async function convertToInteractive(key) {\n",
              "          const element = document.querySelector('#df-643b06bc-40f5-4593-97f3-ca60d7a8b49c');\n",
              "          const dataTable =\n",
              "            await google.colab.kernel.invokeFunction('convertToInteractive',\n",
              "                                                     [key], {});\n",
              "          if (!dataTable) return;\n",
              "\n",
              "          const docLinkHtml = 'Like what you see? Visit the ' +\n",
              "            '<a target=\"_blank\" href=https://colab.research.google.com/notebooks/data_table.ipynb>data table notebook</a>'\n",
              "            + ' to learn more about interactive tables.';\n",
              "          element.innerHTML = '';\n",
              "          dataTable['output_type'] = 'display_data';\n",
              "          await google.colab.output.renderOutput(dataTable, element);\n",
              "          const docLink = document.createElement('div');\n",
              "          docLink.innerHTML = docLinkHtml;\n",
              "          element.appendChild(docLink);\n",
              "        }\n",
              "      </script>\n",
              "    </div>\n",
              "  </div>\n",
              "  "
            ]
          },
          "metadata": {},
          "execution_count": 15
        }
      ],
      "source": [
        "scores_Y1 = selector_Y1.scores_[selector_Y1.get_support()]\n",
        "x_names = norm_X.columns.values[selector_Y1.get_support()]\n",
        "names_scores_Y1 = list(zip(x_names, scores_Y1))\n",
        "ns_df_Y1 = pd.DataFrame(data=names_scores_Y1, columns=['Feat_names', 'F_scores'])\n",
        "ns_df_sorted_Y1 = ns_df_Y1.sort_values(['F_scores', 'Feat_names'], ascending=[False, True])\n",
        "ns_df_sorted_Y1"
      ]
    },
    {
      "cell_type": "code",
      "execution_count": null,
      "id": "b3f018ae-3f67-4c19-bbba-73ca4f974476",
      "metadata": {
        "tags": [],
        "colab": {
          "base_uri": "https://localhost:8080/",
          "height": 424
        },
        "id": "b3f018ae-3f67-4c19-bbba-73ca4f974476",
        "outputId": "7050eb75-7f26-4e72-e007-8f85af4ed6ec"
      },
      "outputs": [
        {
          "output_type": "execute_result",
          "data": {
            "text/plain": [
              "      X5        X4        X2        X1\n",
              "0    1.0  0.000000  0.000000  1.000000\n",
              "1    1.0  0.000000  0.000000  1.000000\n",
              "2    1.0  0.000000  0.000000  1.000000\n",
              "3    1.0  0.000000  0.000000  1.000000\n",
              "4    1.0  0.111111  0.166667  0.777778\n",
              "..   ...       ...       ...       ...\n",
              "763  0.0  1.000000  0.916667  0.055556\n",
              "764  0.0  1.000000  1.000000  0.000000\n",
              "765  0.0  1.000000  1.000000  0.000000\n",
              "766  0.0  1.000000  1.000000  0.000000\n",
              "767  0.0  1.000000  1.000000  0.000000\n",
              "\n",
              "[768 rows x 4 columns]"
            ],
            "text/html": [
              "\n",
              "  <div id=\"df-6c4c0826-f253-43ed-9e58-59164ddc8d6b\">\n",
              "    <div class=\"colab-df-container\">\n",
              "      <div>\n",
              "<style scoped>\n",
              "    .dataframe tbody tr th:only-of-type {\n",
              "        vertical-align: middle;\n",
              "    }\n",
              "\n",
              "    .dataframe tbody tr th {\n",
              "        vertical-align: top;\n",
              "    }\n",
              "\n",
              "    .dataframe thead th {\n",
              "        text-align: right;\n",
              "    }\n",
              "</style>\n",
              "<table border=\"1\" class=\"dataframe\">\n",
              "  <thead>\n",
              "    <tr style=\"text-align: right;\">\n",
              "      <th></th>\n",
              "      <th>X5</th>\n",
              "      <th>X4</th>\n",
              "      <th>X2</th>\n",
              "      <th>X1</th>\n",
              "    </tr>\n",
              "  </thead>\n",
              "  <tbody>\n",
              "    <tr>\n",
              "      <th>0</th>\n",
              "      <td>1.0</td>\n",
              "      <td>0.000000</td>\n",
              "      <td>0.000000</td>\n",
              "      <td>1.000000</td>\n",
              "    </tr>\n",
              "    <tr>\n",
              "      <th>1</th>\n",
              "      <td>1.0</td>\n",
              "      <td>0.000000</td>\n",
              "      <td>0.000000</td>\n",
              "      <td>1.000000</td>\n",
              "    </tr>\n",
              "    <tr>\n",
              "      <th>2</th>\n",
              "      <td>1.0</td>\n",
              "      <td>0.000000</td>\n",
              "      <td>0.000000</td>\n",
              "      <td>1.000000</td>\n",
              "    </tr>\n",
              "    <tr>\n",
              "      <th>3</th>\n",
              "      <td>1.0</td>\n",
              "      <td>0.000000</td>\n",
              "      <td>0.000000</td>\n",
              "      <td>1.000000</td>\n",
              "    </tr>\n",
              "    <tr>\n",
              "      <th>4</th>\n",
              "      <td>1.0</td>\n",
              "      <td>0.111111</td>\n",
              "      <td>0.166667</td>\n",
              "      <td>0.777778</td>\n",
              "    </tr>\n",
              "    <tr>\n",
              "      <th>...</th>\n",
              "      <td>...</td>\n",
              "      <td>...</td>\n",
              "      <td>...</td>\n",
              "      <td>...</td>\n",
              "    </tr>\n",
              "    <tr>\n",
              "      <th>763</th>\n",
              "      <td>0.0</td>\n",
              "      <td>1.000000</td>\n",
              "      <td>0.916667</td>\n",
              "      <td>0.055556</td>\n",
              "    </tr>\n",
              "    <tr>\n",
              "      <th>764</th>\n",
              "      <td>0.0</td>\n",
              "      <td>1.000000</td>\n",
              "      <td>1.000000</td>\n",
              "      <td>0.000000</td>\n",
              "    </tr>\n",
              "    <tr>\n",
              "      <th>765</th>\n",
              "      <td>0.0</td>\n",
              "      <td>1.000000</td>\n",
              "      <td>1.000000</td>\n",
              "      <td>0.000000</td>\n",
              "    </tr>\n",
              "    <tr>\n",
              "      <th>766</th>\n",
              "      <td>0.0</td>\n",
              "      <td>1.000000</td>\n",
              "      <td>1.000000</td>\n",
              "      <td>0.000000</td>\n",
              "    </tr>\n",
              "    <tr>\n",
              "      <th>767</th>\n",
              "      <td>0.0</td>\n",
              "      <td>1.000000</td>\n",
              "      <td>1.000000</td>\n",
              "      <td>0.000000</td>\n",
              "    </tr>\n",
              "  </tbody>\n",
              "</table>\n",
              "<p>768 rows × 4 columns</p>\n",
              "</div>\n",
              "      <button class=\"colab-df-convert\" onclick=\"convertToInteractive('df-6c4c0826-f253-43ed-9e58-59164ddc8d6b')\"\n",
              "              title=\"Convert this dataframe to an interactive table.\"\n",
              "              style=\"display:none;\">\n",
              "        \n",
              "  <svg xmlns=\"http://www.w3.org/2000/svg\" height=\"24px\"viewBox=\"0 0 24 24\"\n",
              "       width=\"24px\">\n",
              "    <path d=\"M0 0h24v24H0V0z\" fill=\"none\"/>\n",
              "    <path d=\"M18.56 5.44l.94 2.06.94-2.06 2.06-.94-2.06-.94-.94-2.06-.94 2.06-2.06.94zm-11 1L8.5 8.5l.94-2.06 2.06-.94-2.06-.94L8.5 2.5l-.94 2.06-2.06.94zm10 10l.94 2.06.94-2.06 2.06-.94-2.06-.94-.94-2.06-.94 2.06-2.06.94z\"/><path d=\"M17.41 7.96l-1.37-1.37c-.4-.4-.92-.59-1.43-.59-.52 0-1.04.2-1.43.59L10.3 9.45l-7.72 7.72c-.78.78-.78 2.05 0 2.83L4 21.41c.39.39.9.59 1.41.59.51 0 1.02-.2 1.41-.59l7.78-7.78 2.81-2.81c.8-.78.8-2.07 0-2.86zM5.41 20L4 18.59l7.72-7.72 1.47 1.35L5.41 20z\"/>\n",
              "  </svg>\n",
              "      </button>\n",
              "      \n",
              "  <style>\n",
              "    .colab-df-container {\n",
              "      display:flex;\n",
              "      flex-wrap:wrap;\n",
              "      gap: 12px;\n",
              "    }\n",
              "\n",
              "    .colab-df-convert {\n",
              "      background-color: #E8F0FE;\n",
              "      border: none;\n",
              "      border-radius: 50%;\n",
              "      cursor: pointer;\n",
              "      display: none;\n",
              "      fill: #1967D2;\n",
              "      height: 32px;\n",
              "      padding: 0 0 0 0;\n",
              "      width: 32px;\n",
              "    }\n",
              "\n",
              "    .colab-df-convert:hover {\n",
              "      background-color: #E2EBFA;\n",
              "      box-shadow: 0px 1px 2px rgba(60, 64, 67, 0.3), 0px 1px 3px 1px rgba(60, 64, 67, 0.15);\n",
              "      fill: #174EA6;\n",
              "    }\n",
              "\n",
              "    [theme=dark] .colab-df-convert {\n",
              "      background-color: #3B4455;\n",
              "      fill: #D2E3FC;\n",
              "    }\n",
              "\n",
              "    [theme=dark] .colab-df-convert:hover {\n",
              "      background-color: #434B5C;\n",
              "      box-shadow: 0px 1px 3px 1px rgba(0, 0, 0, 0.15);\n",
              "      filter: drop-shadow(0px 1px 2px rgba(0, 0, 0, 0.3));\n",
              "      fill: #FFFFFF;\n",
              "    }\n",
              "  </style>\n",
              "\n",
              "      <script>\n",
              "        const buttonEl =\n",
              "          document.querySelector('#df-6c4c0826-f253-43ed-9e58-59164ddc8d6b button.colab-df-convert');\n",
              "        buttonEl.style.display =\n",
              "          google.colab.kernel.accessAllowed ? 'block' : 'none';\n",
              "\n",
              "        async function convertToInteractive(key) {\n",
              "          const element = document.querySelector('#df-6c4c0826-f253-43ed-9e58-59164ddc8d6b');\n",
              "          const dataTable =\n",
              "            await google.colab.kernel.invokeFunction('convertToInteractive',\n",
              "                                                     [key], {});\n",
              "          if (!dataTable) return;\n",
              "\n",
              "          const docLinkHtml = 'Like what you see? Visit the ' +\n",
              "            '<a target=\"_blank\" href=https://colab.research.google.com/notebooks/data_table.ipynb>data table notebook</a>'\n",
              "            + ' to learn more about interactive tables.';\n",
              "          element.innerHTML = '';\n",
              "          dataTable['output_type'] = 'display_data';\n",
              "          await google.colab.output.renderOutput(dataTable, element);\n",
              "          const docLink = document.createElement('div');\n",
              "          docLink.innerHTML = docLinkHtml;\n",
              "          element.appendChild(docLink);\n",
              "        }\n",
              "      </script>\n",
              "    </div>\n",
              "  </div>\n",
              "  "
            ]
          },
          "metadata": {},
          "execution_count": 16
        }
      ],
      "source": [
        "k_best_cols_Y1 = ns_df_sorted_Y1.head(4).iloc[:,0].values\n",
        "X_best_Y1 = norm_X[k_best_cols_Y1]\n",
        "X_best_Y1"
      ]
    },
    {
      "cell_type": "code",
      "execution_count": null,
      "id": "d2779180-2213-420a-b124-be6e3f12ebc2",
      "metadata": {
        "tags": [],
        "colab": {
          "base_uri": "https://localhost:8080/",
          "height": 424
        },
        "id": "d2779180-2213-420a-b124-be6e3f12ebc2",
        "outputId": "8966a312-3c8a-4bb5-86ca-a4a51db67b5f"
      },
      "outputs": [
        {
          "output_type": "execute_result",
          "data": {
            "text/plain": [
              "      X5        X4        X2        X1        Y1\n",
              "0    1.0  0.000000  0.000000  1.000000  0.257212\n",
              "1    1.0  0.000000  0.000000  1.000000  0.257212\n",
              "2    1.0  0.000000  0.000000  1.000000  0.257212\n",
              "3    1.0  0.000000  0.000000  1.000000  0.257212\n",
              "4    1.0  0.111111  0.166667  0.777778  0.399838\n",
              "..   ...       ...       ...       ...       ...\n",
              "763  0.0  1.000000  0.916667  0.055556  0.320032\n",
              "764  0.0  1.000000  1.000000  0.000000  0.283904\n",
              "765  0.0  1.000000  1.000000  0.000000  0.281208\n",
              "766  0.0  1.000000  1.000000  0.000000  0.282286\n",
              "767  0.0  1.000000  1.000000  0.000000  0.286600\n",
              "\n",
              "[768 rows x 5 columns]"
            ],
            "text/html": [
              "\n",
              "  <div id=\"df-675078b9-041f-4e70-ae1b-2b10ef6174ad\">\n",
              "    <div class=\"colab-df-container\">\n",
              "      <div>\n",
              "<style scoped>\n",
              "    .dataframe tbody tr th:only-of-type {\n",
              "        vertical-align: middle;\n",
              "    }\n",
              "\n",
              "    .dataframe tbody tr th {\n",
              "        vertical-align: top;\n",
              "    }\n",
              "\n",
              "    .dataframe thead th {\n",
              "        text-align: right;\n",
              "    }\n",
              "</style>\n",
              "<table border=\"1\" class=\"dataframe\">\n",
              "  <thead>\n",
              "    <tr style=\"text-align: right;\">\n",
              "      <th></th>\n",
              "      <th>X5</th>\n",
              "      <th>X4</th>\n",
              "      <th>X2</th>\n",
              "      <th>X1</th>\n",
              "      <th>Y1</th>\n",
              "    </tr>\n",
              "  </thead>\n",
              "  <tbody>\n",
              "    <tr>\n",
              "      <th>0</th>\n",
              "      <td>1.0</td>\n",
              "      <td>0.000000</td>\n",
              "      <td>0.000000</td>\n",
              "      <td>1.000000</td>\n",
              "      <td>0.257212</td>\n",
              "    </tr>\n",
              "    <tr>\n",
              "      <th>1</th>\n",
              "      <td>1.0</td>\n",
              "      <td>0.000000</td>\n",
              "      <td>0.000000</td>\n",
              "      <td>1.000000</td>\n",
              "      <td>0.257212</td>\n",
              "    </tr>\n",
              "    <tr>\n",
              "      <th>2</th>\n",
              "      <td>1.0</td>\n",
              "      <td>0.000000</td>\n",
              "      <td>0.000000</td>\n",
              "      <td>1.000000</td>\n",
              "      <td>0.257212</td>\n",
              "    </tr>\n",
              "    <tr>\n",
              "      <th>3</th>\n",
              "      <td>1.0</td>\n",
              "      <td>0.000000</td>\n",
              "      <td>0.000000</td>\n",
              "      <td>1.000000</td>\n",
              "      <td>0.257212</td>\n",
              "    </tr>\n",
              "    <tr>\n",
              "      <th>4</th>\n",
              "      <td>1.0</td>\n",
              "      <td>0.111111</td>\n",
              "      <td>0.166667</td>\n",
              "      <td>0.777778</td>\n",
              "      <td>0.399838</td>\n",
              "    </tr>\n",
              "    <tr>\n",
              "      <th>...</th>\n",
              "      <td>...</td>\n",
              "      <td>...</td>\n",
              "      <td>...</td>\n",
              "      <td>...</td>\n",
              "      <td>...</td>\n",
              "    </tr>\n",
              "    <tr>\n",
              "      <th>763</th>\n",
              "      <td>0.0</td>\n",
              "      <td>1.000000</td>\n",
              "      <td>0.916667</td>\n",
              "      <td>0.055556</td>\n",
              "      <td>0.320032</td>\n",
              "    </tr>\n",
              "    <tr>\n",
              "      <th>764</th>\n",
              "      <td>0.0</td>\n",
              "      <td>1.000000</td>\n",
              "      <td>1.000000</td>\n",
              "      <td>0.000000</td>\n",
              "      <td>0.283904</td>\n",
              "    </tr>\n",
              "    <tr>\n",
              "      <th>765</th>\n",
              "      <td>0.0</td>\n",
              "      <td>1.000000</td>\n",
              "      <td>1.000000</td>\n",
              "      <td>0.000000</td>\n",
              "      <td>0.281208</td>\n",
              "    </tr>\n",
              "    <tr>\n",
              "      <th>766</th>\n",
              "      <td>0.0</td>\n",
              "      <td>1.000000</td>\n",
              "      <td>1.000000</td>\n",
              "      <td>0.000000</td>\n",
              "      <td>0.282286</td>\n",
              "    </tr>\n",
              "    <tr>\n",
              "      <th>767</th>\n",
              "      <td>0.0</td>\n",
              "      <td>1.000000</td>\n",
              "      <td>1.000000</td>\n",
              "      <td>0.000000</td>\n",
              "      <td>0.286600</td>\n",
              "    </tr>\n",
              "  </tbody>\n",
              "</table>\n",
              "<p>768 rows × 5 columns</p>\n",
              "</div>\n",
              "      <button class=\"colab-df-convert\" onclick=\"convertToInteractive('df-675078b9-041f-4e70-ae1b-2b10ef6174ad')\"\n",
              "              title=\"Convert this dataframe to an interactive table.\"\n",
              "              style=\"display:none;\">\n",
              "        \n",
              "  <svg xmlns=\"http://www.w3.org/2000/svg\" height=\"24px\"viewBox=\"0 0 24 24\"\n",
              "       width=\"24px\">\n",
              "    <path d=\"M0 0h24v24H0V0z\" fill=\"none\"/>\n",
              "    <path d=\"M18.56 5.44l.94 2.06.94-2.06 2.06-.94-2.06-.94-.94-2.06-.94 2.06-2.06.94zm-11 1L8.5 8.5l.94-2.06 2.06-.94-2.06-.94L8.5 2.5l-.94 2.06-2.06.94zm10 10l.94 2.06.94-2.06 2.06-.94-2.06-.94-.94-2.06-.94 2.06-2.06.94z\"/><path d=\"M17.41 7.96l-1.37-1.37c-.4-.4-.92-.59-1.43-.59-.52 0-1.04.2-1.43.59L10.3 9.45l-7.72 7.72c-.78.78-.78 2.05 0 2.83L4 21.41c.39.39.9.59 1.41.59.51 0 1.02-.2 1.41-.59l7.78-7.78 2.81-2.81c.8-.78.8-2.07 0-2.86zM5.41 20L4 18.59l7.72-7.72 1.47 1.35L5.41 20z\"/>\n",
              "  </svg>\n",
              "      </button>\n",
              "      \n",
              "  <style>\n",
              "    .colab-df-container {\n",
              "      display:flex;\n",
              "      flex-wrap:wrap;\n",
              "      gap: 12px;\n",
              "    }\n",
              "\n",
              "    .colab-df-convert {\n",
              "      background-color: #E8F0FE;\n",
              "      border: none;\n",
              "      border-radius: 50%;\n",
              "      cursor: pointer;\n",
              "      display: none;\n",
              "      fill: #1967D2;\n",
              "      height: 32px;\n",
              "      padding: 0 0 0 0;\n",
              "      width: 32px;\n",
              "    }\n",
              "\n",
              "    .colab-df-convert:hover {\n",
              "      background-color: #E2EBFA;\n",
              "      box-shadow: 0px 1px 2px rgba(60, 64, 67, 0.3), 0px 1px 3px 1px rgba(60, 64, 67, 0.15);\n",
              "      fill: #174EA6;\n",
              "    }\n",
              "\n",
              "    [theme=dark] .colab-df-convert {\n",
              "      background-color: #3B4455;\n",
              "      fill: #D2E3FC;\n",
              "    }\n",
              "\n",
              "    [theme=dark] .colab-df-convert:hover {\n",
              "      background-color: #434B5C;\n",
              "      box-shadow: 0px 1px 3px 1px rgba(0, 0, 0, 0.15);\n",
              "      filter: drop-shadow(0px 1px 2px rgba(0, 0, 0, 0.3));\n",
              "      fill: #FFFFFF;\n",
              "    }\n",
              "  </style>\n",
              "\n",
              "      <script>\n",
              "        const buttonEl =\n",
              "          document.querySelector('#df-675078b9-041f-4e70-ae1b-2b10ef6174ad button.colab-df-convert');\n",
              "        buttonEl.style.display =\n",
              "          google.colab.kernel.accessAllowed ? 'block' : 'none';\n",
              "\n",
              "        async function convertToInteractive(key) {\n",
              "          const element = document.querySelector('#df-675078b9-041f-4e70-ae1b-2b10ef6174ad');\n",
              "          const dataTable =\n",
              "            await google.colab.kernel.invokeFunction('convertToInteractive',\n",
              "                                                     [key], {});\n",
              "          if (!dataTable) return;\n",
              "\n",
              "          const docLinkHtml = 'Like what you see? Visit the ' +\n",
              "            '<a target=\"_blank\" href=https://colab.research.google.com/notebooks/data_table.ipynb>data table notebook</a>'\n",
              "            + ' to learn more about interactive tables.';\n",
              "          element.innerHTML = '';\n",
              "          dataTable['output_type'] = 'display_data';\n",
              "          await google.colab.output.renderOutput(dataTable, element);\n",
              "          const docLink = document.createElement('div');\n",
              "          docLink.innerHTML = docLinkHtml;\n",
              "          element.appendChild(docLink);\n",
              "        }\n",
              "      </script>\n",
              "    </div>\n",
              "  </div>\n",
              "  "
            ]
          },
          "metadata": {},
          "execution_count": 17
        }
      ],
      "source": [
        "df_k_best_Y1 = pd.concat([X_best_Y1, norm_Y1], axis=1)\n",
        "df_k_best_Y1"
      ]
    },
    {
      "cell_type": "markdown",
      "id": "985667b8-3aae-4101-a284-1c7a5fd2e85b",
      "metadata": {
        "id": "985667b8-3aae-4101-a284-1c7a5fd2e85b"
      },
      "source": [
        "### Sort k best for Y2"
      ]
    },
    {
      "cell_type": "code",
      "execution_count": null,
      "id": "c6f338cc-a4a4-4fc7-9391-be79527b7117",
      "metadata": {
        "tags": [],
        "colab": {
          "base_uri": "https://localhost:8080/",
          "height": 300
        },
        "id": "c6f338cc-a4a4-4fc7-9391-be79527b7117",
        "outputId": "30aae86f-fdab-4637-efd3-d208668b6b45"
      },
      "outputs": [
        {
          "output_type": "execute_result",
          "data": {
            "text/plain": [
              "  Feat_names     F_scores\n",
              "4         X5  3111.127823\n",
              "3         X4  2226.031391\n",
              "1         X2   634.180214\n",
              "0         X1   515.763924\n",
              "2         X3   170.921606\n",
              "6         X7    34.466755\n",
              "7         X8     1.960440\n",
              "5         X6     0.156443"
            ],
            "text/html": [
              "\n",
              "  <div id=\"df-0d5934ef-a4ab-4cb3-8a1c-8b52ba447dd8\">\n",
              "    <div class=\"colab-df-container\">\n",
              "      <div>\n",
              "<style scoped>\n",
              "    .dataframe tbody tr th:only-of-type {\n",
              "        vertical-align: middle;\n",
              "    }\n",
              "\n",
              "    .dataframe tbody tr th {\n",
              "        vertical-align: top;\n",
              "    }\n",
              "\n",
              "    .dataframe thead th {\n",
              "        text-align: right;\n",
              "    }\n",
              "</style>\n",
              "<table border=\"1\" class=\"dataframe\">\n",
              "  <thead>\n",
              "    <tr style=\"text-align: right;\">\n",
              "      <th></th>\n",
              "      <th>Feat_names</th>\n",
              "      <th>F_scores</th>\n",
              "    </tr>\n",
              "  </thead>\n",
              "  <tbody>\n",
              "    <tr>\n",
              "      <th>4</th>\n",
              "      <td>X5</td>\n",
              "      <td>3111.127823</td>\n",
              "    </tr>\n",
              "    <tr>\n",
              "      <th>3</th>\n",
              "      <td>X4</td>\n",
              "      <td>2226.031391</td>\n",
              "    </tr>\n",
              "    <tr>\n",
              "      <th>1</th>\n",
              "      <td>X2</td>\n",
              "      <td>634.180214</td>\n",
              "    </tr>\n",
              "    <tr>\n",
              "      <th>0</th>\n",
              "      <td>X1</td>\n",
              "      <td>515.763924</td>\n",
              "    </tr>\n",
              "    <tr>\n",
              "      <th>2</th>\n",
              "      <td>X3</td>\n",
              "      <td>170.921606</td>\n",
              "    </tr>\n",
              "    <tr>\n",
              "      <th>6</th>\n",
              "      <td>X7</td>\n",
              "      <td>34.466755</td>\n",
              "    </tr>\n",
              "    <tr>\n",
              "      <th>7</th>\n",
              "      <td>X8</td>\n",
              "      <td>1.960440</td>\n",
              "    </tr>\n",
              "    <tr>\n",
              "      <th>5</th>\n",
              "      <td>X6</td>\n",
              "      <td>0.156443</td>\n",
              "    </tr>\n",
              "  </tbody>\n",
              "</table>\n",
              "</div>\n",
              "      <button class=\"colab-df-convert\" onclick=\"convertToInteractive('df-0d5934ef-a4ab-4cb3-8a1c-8b52ba447dd8')\"\n",
              "              title=\"Convert this dataframe to an interactive table.\"\n",
              "              style=\"display:none;\">\n",
              "        \n",
              "  <svg xmlns=\"http://www.w3.org/2000/svg\" height=\"24px\"viewBox=\"0 0 24 24\"\n",
              "       width=\"24px\">\n",
              "    <path d=\"M0 0h24v24H0V0z\" fill=\"none\"/>\n",
              "    <path d=\"M18.56 5.44l.94 2.06.94-2.06 2.06-.94-2.06-.94-.94-2.06-.94 2.06-2.06.94zm-11 1L8.5 8.5l.94-2.06 2.06-.94-2.06-.94L8.5 2.5l-.94 2.06-2.06.94zm10 10l.94 2.06.94-2.06 2.06-.94-2.06-.94-.94-2.06-.94 2.06-2.06.94z\"/><path d=\"M17.41 7.96l-1.37-1.37c-.4-.4-.92-.59-1.43-.59-.52 0-1.04.2-1.43.59L10.3 9.45l-7.72 7.72c-.78.78-.78 2.05 0 2.83L4 21.41c.39.39.9.59 1.41.59.51 0 1.02-.2 1.41-.59l7.78-7.78 2.81-2.81c.8-.78.8-2.07 0-2.86zM5.41 20L4 18.59l7.72-7.72 1.47 1.35L5.41 20z\"/>\n",
              "  </svg>\n",
              "      </button>\n",
              "      \n",
              "  <style>\n",
              "    .colab-df-container {\n",
              "      display:flex;\n",
              "      flex-wrap:wrap;\n",
              "      gap: 12px;\n",
              "    }\n",
              "\n",
              "    .colab-df-convert {\n",
              "      background-color: #E8F0FE;\n",
              "      border: none;\n",
              "      border-radius: 50%;\n",
              "      cursor: pointer;\n",
              "      display: none;\n",
              "      fill: #1967D2;\n",
              "      height: 32px;\n",
              "      padding: 0 0 0 0;\n",
              "      width: 32px;\n",
              "    }\n",
              "\n",
              "    .colab-df-convert:hover {\n",
              "      background-color: #E2EBFA;\n",
              "      box-shadow: 0px 1px 2px rgba(60, 64, 67, 0.3), 0px 1px 3px 1px rgba(60, 64, 67, 0.15);\n",
              "      fill: #174EA6;\n",
              "    }\n",
              "\n",
              "    [theme=dark] .colab-df-convert {\n",
              "      background-color: #3B4455;\n",
              "      fill: #D2E3FC;\n",
              "    }\n",
              "\n",
              "    [theme=dark] .colab-df-convert:hover {\n",
              "      background-color: #434B5C;\n",
              "      box-shadow: 0px 1px 3px 1px rgba(0, 0, 0, 0.15);\n",
              "      filter: drop-shadow(0px 1px 2px rgba(0, 0, 0, 0.3));\n",
              "      fill: #FFFFFF;\n",
              "    }\n",
              "  </style>\n",
              "\n",
              "      <script>\n",
              "        const buttonEl =\n",
              "          document.querySelector('#df-0d5934ef-a4ab-4cb3-8a1c-8b52ba447dd8 button.colab-df-convert');\n",
              "        buttonEl.style.display =\n",
              "          google.colab.kernel.accessAllowed ? 'block' : 'none';\n",
              "\n",
              "        async function convertToInteractive(key) {\n",
              "          const element = document.querySelector('#df-0d5934ef-a4ab-4cb3-8a1c-8b52ba447dd8');\n",
              "          const dataTable =\n",
              "            await google.colab.kernel.invokeFunction('convertToInteractive',\n",
              "                                                     [key], {});\n",
              "          if (!dataTable) return;\n",
              "\n",
              "          const docLinkHtml = 'Like what you see? Visit the ' +\n",
              "            '<a target=\"_blank\" href=https://colab.research.google.com/notebooks/data_table.ipynb>data table notebook</a>'\n",
              "            + ' to learn more about interactive tables.';\n",
              "          element.innerHTML = '';\n",
              "          dataTable['output_type'] = 'display_data';\n",
              "          await google.colab.output.renderOutput(dataTable, element);\n",
              "          const docLink = document.createElement('div');\n",
              "          docLink.innerHTML = docLinkHtml;\n",
              "          element.appendChild(docLink);\n",
              "        }\n",
              "      </script>\n",
              "    </div>\n",
              "  </div>\n",
              "  "
            ]
          },
          "metadata": {},
          "execution_count": 18
        }
      ],
      "source": [
        "scores_Y2 = selector_Y2.scores_[selector_Y2.get_support()]\n",
        "x_names = norm_X.columns.values[selector_Y2.get_support()]\n",
        "names_scores_Y2 = list(zip(x_names, scores_Y2))\n",
        "ns_df_Y2 = pd.DataFrame(data=names_scores_Y2, columns=['Feat_names', 'F_scores'])\n",
        "ns_df_sorted_Y2 = ns_df_Y2.sort_values(['F_scores', 'Feat_names'], ascending=[False, True])\n",
        "ns_df_sorted_Y2"
      ]
    },
    {
      "cell_type": "code",
      "execution_count": null,
      "id": "8d374777-4afd-4259-9f6e-9a79c6fc634b",
      "metadata": {
        "tags": [],
        "colab": {
          "base_uri": "https://localhost:8080/",
          "height": 424
        },
        "id": "8d374777-4afd-4259-9f6e-9a79c6fc634b",
        "outputId": "799cce43-2f16-46d3-b127-c93638a03c68"
      },
      "outputs": [
        {
          "output_type": "execute_result",
          "data": {
            "text/plain": [
              "      X5        X4        X2        X1\n",
              "0    1.0  0.000000  0.000000  1.000000\n",
              "1    1.0  0.000000  0.000000  1.000000\n",
              "2    1.0  0.000000  0.000000  1.000000\n",
              "3    1.0  0.000000  0.000000  1.000000\n",
              "4    1.0  0.111111  0.166667  0.777778\n",
              "..   ...       ...       ...       ...\n",
              "763  0.0  1.000000  0.916667  0.055556\n",
              "764  0.0  1.000000  1.000000  0.000000\n",
              "765  0.0  1.000000  1.000000  0.000000\n",
              "766  0.0  1.000000  1.000000  0.000000\n",
              "767  0.0  1.000000  1.000000  0.000000\n",
              "\n",
              "[768 rows x 4 columns]"
            ],
            "text/html": [
              "\n",
              "  <div id=\"df-5c030f71-7fce-42f7-a202-404af4aa9e8a\">\n",
              "    <div class=\"colab-df-container\">\n",
              "      <div>\n",
              "<style scoped>\n",
              "    .dataframe tbody tr th:only-of-type {\n",
              "        vertical-align: middle;\n",
              "    }\n",
              "\n",
              "    .dataframe tbody tr th {\n",
              "        vertical-align: top;\n",
              "    }\n",
              "\n",
              "    .dataframe thead th {\n",
              "        text-align: right;\n",
              "    }\n",
              "</style>\n",
              "<table border=\"1\" class=\"dataframe\">\n",
              "  <thead>\n",
              "    <tr style=\"text-align: right;\">\n",
              "      <th></th>\n",
              "      <th>X5</th>\n",
              "      <th>X4</th>\n",
              "      <th>X2</th>\n",
              "      <th>X1</th>\n",
              "    </tr>\n",
              "  </thead>\n",
              "  <tbody>\n",
              "    <tr>\n",
              "      <th>0</th>\n",
              "      <td>1.0</td>\n",
              "      <td>0.000000</td>\n",
              "      <td>0.000000</td>\n",
              "      <td>1.000000</td>\n",
              "    </tr>\n",
              "    <tr>\n",
              "      <th>1</th>\n",
              "      <td>1.0</td>\n",
              "      <td>0.000000</td>\n",
              "      <td>0.000000</td>\n",
              "      <td>1.000000</td>\n",
              "    </tr>\n",
              "    <tr>\n",
              "      <th>2</th>\n",
              "      <td>1.0</td>\n",
              "      <td>0.000000</td>\n",
              "      <td>0.000000</td>\n",
              "      <td>1.000000</td>\n",
              "    </tr>\n",
              "    <tr>\n",
              "      <th>3</th>\n",
              "      <td>1.0</td>\n",
              "      <td>0.000000</td>\n",
              "      <td>0.000000</td>\n",
              "      <td>1.000000</td>\n",
              "    </tr>\n",
              "    <tr>\n",
              "      <th>4</th>\n",
              "      <td>1.0</td>\n",
              "      <td>0.111111</td>\n",
              "      <td>0.166667</td>\n",
              "      <td>0.777778</td>\n",
              "    </tr>\n",
              "    <tr>\n",
              "      <th>...</th>\n",
              "      <td>...</td>\n",
              "      <td>...</td>\n",
              "      <td>...</td>\n",
              "      <td>...</td>\n",
              "    </tr>\n",
              "    <tr>\n",
              "      <th>763</th>\n",
              "      <td>0.0</td>\n",
              "      <td>1.000000</td>\n",
              "      <td>0.916667</td>\n",
              "      <td>0.055556</td>\n",
              "    </tr>\n",
              "    <tr>\n",
              "      <th>764</th>\n",
              "      <td>0.0</td>\n",
              "      <td>1.000000</td>\n",
              "      <td>1.000000</td>\n",
              "      <td>0.000000</td>\n",
              "    </tr>\n",
              "    <tr>\n",
              "      <th>765</th>\n",
              "      <td>0.0</td>\n",
              "      <td>1.000000</td>\n",
              "      <td>1.000000</td>\n",
              "      <td>0.000000</td>\n",
              "    </tr>\n",
              "    <tr>\n",
              "      <th>766</th>\n",
              "      <td>0.0</td>\n",
              "      <td>1.000000</td>\n",
              "      <td>1.000000</td>\n",
              "      <td>0.000000</td>\n",
              "    </tr>\n",
              "    <tr>\n",
              "      <th>767</th>\n",
              "      <td>0.0</td>\n",
              "      <td>1.000000</td>\n",
              "      <td>1.000000</td>\n",
              "      <td>0.000000</td>\n",
              "    </tr>\n",
              "  </tbody>\n",
              "</table>\n",
              "<p>768 rows × 4 columns</p>\n",
              "</div>\n",
              "      <button class=\"colab-df-convert\" onclick=\"convertToInteractive('df-5c030f71-7fce-42f7-a202-404af4aa9e8a')\"\n",
              "              title=\"Convert this dataframe to an interactive table.\"\n",
              "              style=\"display:none;\">\n",
              "        \n",
              "  <svg xmlns=\"http://www.w3.org/2000/svg\" height=\"24px\"viewBox=\"0 0 24 24\"\n",
              "       width=\"24px\">\n",
              "    <path d=\"M0 0h24v24H0V0z\" fill=\"none\"/>\n",
              "    <path d=\"M18.56 5.44l.94 2.06.94-2.06 2.06-.94-2.06-.94-.94-2.06-.94 2.06-2.06.94zm-11 1L8.5 8.5l.94-2.06 2.06-.94-2.06-.94L8.5 2.5l-.94 2.06-2.06.94zm10 10l.94 2.06.94-2.06 2.06-.94-2.06-.94-.94-2.06-.94 2.06-2.06.94z\"/><path d=\"M17.41 7.96l-1.37-1.37c-.4-.4-.92-.59-1.43-.59-.52 0-1.04.2-1.43.59L10.3 9.45l-7.72 7.72c-.78.78-.78 2.05 0 2.83L4 21.41c.39.39.9.59 1.41.59.51 0 1.02-.2 1.41-.59l7.78-7.78 2.81-2.81c.8-.78.8-2.07 0-2.86zM5.41 20L4 18.59l7.72-7.72 1.47 1.35L5.41 20z\"/>\n",
              "  </svg>\n",
              "      </button>\n",
              "      \n",
              "  <style>\n",
              "    .colab-df-container {\n",
              "      display:flex;\n",
              "      flex-wrap:wrap;\n",
              "      gap: 12px;\n",
              "    }\n",
              "\n",
              "    .colab-df-convert {\n",
              "      background-color: #E8F0FE;\n",
              "      border: none;\n",
              "      border-radius: 50%;\n",
              "      cursor: pointer;\n",
              "      display: none;\n",
              "      fill: #1967D2;\n",
              "      height: 32px;\n",
              "      padding: 0 0 0 0;\n",
              "      width: 32px;\n",
              "    }\n",
              "\n",
              "    .colab-df-convert:hover {\n",
              "      background-color: #E2EBFA;\n",
              "      box-shadow: 0px 1px 2px rgba(60, 64, 67, 0.3), 0px 1px 3px 1px rgba(60, 64, 67, 0.15);\n",
              "      fill: #174EA6;\n",
              "    }\n",
              "\n",
              "    [theme=dark] .colab-df-convert {\n",
              "      background-color: #3B4455;\n",
              "      fill: #D2E3FC;\n",
              "    }\n",
              "\n",
              "    [theme=dark] .colab-df-convert:hover {\n",
              "      background-color: #434B5C;\n",
              "      box-shadow: 0px 1px 3px 1px rgba(0, 0, 0, 0.15);\n",
              "      filter: drop-shadow(0px 1px 2px rgba(0, 0, 0, 0.3));\n",
              "      fill: #FFFFFF;\n",
              "    }\n",
              "  </style>\n",
              "\n",
              "      <script>\n",
              "        const buttonEl =\n",
              "          document.querySelector('#df-5c030f71-7fce-42f7-a202-404af4aa9e8a button.colab-df-convert');\n",
              "        buttonEl.style.display =\n",
              "          google.colab.kernel.accessAllowed ? 'block' : 'none';\n",
              "\n",
              "        async function convertToInteractive(key) {\n",
              "          const element = document.querySelector('#df-5c030f71-7fce-42f7-a202-404af4aa9e8a');\n",
              "          const dataTable =\n",
              "            await google.colab.kernel.invokeFunction('convertToInteractive',\n",
              "                                                     [key], {});\n",
              "          if (!dataTable) return;\n",
              "\n",
              "          const docLinkHtml = 'Like what you see? Visit the ' +\n",
              "            '<a target=\"_blank\" href=https://colab.research.google.com/notebooks/data_table.ipynb>data table notebook</a>'\n",
              "            + ' to learn more about interactive tables.';\n",
              "          element.innerHTML = '';\n",
              "          dataTable['output_type'] = 'display_data';\n",
              "          await google.colab.output.renderOutput(dataTable, element);\n",
              "          const docLink = document.createElement('div');\n",
              "          docLink.innerHTML = docLinkHtml;\n",
              "          element.appendChild(docLink);\n",
              "        }\n",
              "      </script>\n",
              "    </div>\n",
              "  </div>\n",
              "  "
            ]
          },
          "metadata": {},
          "execution_count": 19
        }
      ],
      "source": [
        "k_best_cols_Y2 = ns_df_sorted_Y2.head(4).iloc[:,0].values\n",
        "X_best_Y2 = norm_X[k_best_cols_Y2]\n",
        "X_best_Y2"
      ]
    },
    {
      "cell_type": "code",
      "execution_count": null,
      "id": "54f1526c-c0df-4241-a07a-10013973bc86",
      "metadata": {
        "tags": [],
        "colab": {
          "base_uri": "https://localhost:8080/",
          "height": 424
        },
        "id": "54f1526c-c0df-4241-a07a-10013973bc86",
        "outputId": "3d0cd395-7399-4409-cc72-82f62f627061"
      },
      "outputs": [
        {
          "output_type": "execute_result",
          "data": {
            "text/plain": [
              "      X5        X4        X2        X1        Y2\n",
              "0    1.0  0.000000  0.000000  1.000000  0.280905\n",
              "1    1.0  0.000000  0.000000  1.000000  0.280905\n",
              "2    1.0  0.000000  0.000000  1.000000  0.280905\n",
              "3    1.0  0.000000  0.000000  1.000000  0.280905\n",
              "4    1.0  0.111111  0.166667  0.777778  0.468085\n",
              "..   ...       ...       ...       ...       ...\n",
              "763  0.0  1.000000  0.916667  0.055556  0.282790\n",
              "764  0.0  1.000000  1.000000  0.000000  0.161056\n",
              "765  0.0  1.000000  1.000000  0.000000  0.167250\n",
              "766  0.0  1.000000  1.000000  0.000000  0.153784\n",
              "767  0.0  1.000000  1.000000  0.000000  0.138163\n",
              "\n",
              "[768 rows x 5 columns]"
            ],
            "text/html": [
              "\n",
              "  <div id=\"df-522c934b-78cd-4a23-b26b-2273a48efffd\">\n",
              "    <div class=\"colab-df-container\">\n",
              "      <div>\n",
              "<style scoped>\n",
              "    .dataframe tbody tr th:only-of-type {\n",
              "        vertical-align: middle;\n",
              "    }\n",
              "\n",
              "    .dataframe tbody tr th {\n",
              "        vertical-align: top;\n",
              "    }\n",
              "\n",
              "    .dataframe thead th {\n",
              "        text-align: right;\n",
              "    }\n",
              "</style>\n",
              "<table border=\"1\" class=\"dataframe\">\n",
              "  <thead>\n",
              "    <tr style=\"text-align: right;\">\n",
              "      <th></th>\n",
              "      <th>X5</th>\n",
              "      <th>X4</th>\n",
              "      <th>X2</th>\n",
              "      <th>X1</th>\n",
              "      <th>Y2</th>\n",
              "    </tr>\n",
              "  </thead>\n",
              "  <tbody>\n",
              "    <tr>\n",
              "      <th>0</th>\n",
              "      <td>1.0</td>\n",
              "      <td>0.000000</td>\n",
              "      <td>0.000000</td>\n",
              "      <td>1.000000</td>\n",
              "      <td>0.280905</td>\n",
              "    </tr>\n",
              "    <tr>\n",
              "      <th>1</th>\n",
              "      <td>1.0</td>\n",
              "      <td>0.000000</td>\n",
              "      <td>0.000000</td>\n",
              "      <td>1.000000</td>\n",
              "      <td>0.280905</td>\n",
              "    </tr>\n",
              "    <tr>\n",
              "      <th>2</th>\n",
              "      <td>1.0</td>\n",
              "      <td>0.000000</td>\n",
              "      <td>0.000000</td>\n",
              "      <td>1.000000</td>\n",
              "      <td>0.280905</td>\n",
              "    </tr>\n",
              "    <tr>\n",
              "      <th>3</th>\n",
              "      <td>1.0</td>\n",
              "      <td>0.000000</td>\n",
              "      <td>0.000000</td>\n",
              "      <td>1.000000</td>\n",
              "      <td>0.280905</td>\n",
              "    </tr>\n",
              "    <tr>\n",
              "      <th>4</th>\n",
              "      <td>1.0</td>\n",
              "      <td>0.111111</td>\n",
              "      <td>0.166667</td>\n",
              "      <td>0.777778</td>\n",
              "      <td>0.468085</td>\n",
              "    </tr>\n",
              "    <tr>\n",
              "      <th>...</th>\n",
              "      <td>...</td>\n",
              "      <td>...</td>\n",
              "      <td>...</td>\n",
              "      <td>...</td>\n",
              "      <td>...</td>\n",
              "    </tr>\n",
              "    <tr>\n",
              "      <th>763</th>\n",
              "      <td>0.0</td>\n",
              "      <td>1.000000</td>\n",
              "      <td>0.916667</td>\n",
              "      <td>0.055556</td>\n",
              "      <td>0.282790</td>\n",
              "    </tr>\n",
              "    <tr>\n",
              "      <th>764</th>\n",
              "      <td>0.0</td>\n",
              "      <td>1.000000</td>\n",
              "      <td>1.000000</td>\n",
              "      <td>0.000000</td>\n",
              "      <td>0.161056</td>\n",
              "    </tr>\n",
              "    <tr>\n",
              "      <th>765</th>\n",
              "      <td>0.0</td>\n",
              "      <td>1.000000</td>\n",
              "      <td>1.000000</td>\n",
              "      <td>0.000000</td>\n",
              "      <td>0.167250</td>\n",
              "    </tr>\n",
              "    <tr>\n",
              "      <th>766</th>\n",
              "      <td>0.0</td>\n",
              "      <td>1.000000</td>\n",
              "      <td>1.000000</td>\n",
              "      <td>0.000000</td>\n",
              "      <td>0.153784</td>\n",
              "    </tr>\n",
              "    <tr>\n",
              "      <th>767</th>\n",
              "      <td>0.0</td>\n",
              "      <td>1.000000</td>\n",
              "      <td>1.000000</td>\n",
              "      <td>0.000000</td>\n",
              "      <td>0.138163</td>\n",
              "    </tr>\n",
              "  </tbody>\n",
              "</table>\n",
              "<p>768 rows × 5 columns</p>\n",
              "</div>\n",
              "      <button class=\"colab-df-convert\" onclick=\"convertToInteractive('df-522c934b-78cd-4a23-b26b-2273a48efffd')\"\n",
              "              title=\"Convert this dataframe to an interactive table.\"\n",
              "              style=\"display:none;\">\n",
              "        \n",
              "  <svg xmlns=\"http://www.w3.org/2000/svg\" height=\"24px\"viewBox=\"0 0 24 24\"\n",
              "       width=\"24px\">\n",
              "    <path d=\"M0 0h24v24H0V0z\" fill=\"none\"/>\n",
              "    <path d=\"M18.56 5.44l.94 2.06.94-2.06 2.06-.94-2.06-.94-.94-2.06-.94 2.06-2.06.94zm-11 1L8.5 8.5l.94-2.06 2.06-.94-2.06-.94L8.5 2.5l-.94 2.06-2.06.94zm10 10l.94 2.06.94-2.06 2.06-.94-2.06-.94-.94-2.06-.94 2.06-2.06.94z\"/><path d=\"M17.41 7.96l-1.37-1.37c-.4-.4-.92-.59-1.43-.59-.52 0-1.04.2-1.43.59L10.3 9.45l-7.72 7.72c-.78.78-.78 2.05 0 2.83L4 21.41c.39.39.9.59 1.41.59.51 0 1.02-.2 1.41-.59l7.78-7.78 2.81-2.81c.8-.78.8-2.07 0-2.86zM5.41 20L4 18.59l7.72-7.72 1.47 1.35L5.41 20z\"/>\n",
              "  </svg>\n",
              "      </button>\n",
              "      \n",
              "  <style>\n",
              "    .colab-df-container {\n",
              "      display:flex;\n",
              "      flex-wrap:wrap;\n",
              "      gap: 12px;\n",
              "    }\n",
              "\n",
              "    .colab-df-convert {\n",
              "      background-color: #E8F0FE;\n",
              "      border: none;\n",
              "      border-radius: 50%;\n",
              "      cursor: pointer;\n",
              "      display: none;\n",
              "      fill: #1967D2;\n",
              "      height: 32px;\n",
              "      padding: 0 0 0 0;\n",
              "      width: 32px;\n",
              "    }\n",
              "\n",
              "    .colab-df-convert:hover {\n",
              "      background-color: #E2EBFA;\n",
              "      box-shadow: 0px 1px 2px rgba(60, 64, 67, 0.3), 0px 1px 3px 1px rgba(60, 64, 67, 0.15);\n",
              "      fill: #174EA6;\n",
              "    }\n",
              "\n",
              "    [theme=dark] .colab-df-convert {\n",
              "      background-color: #3B4455;\n",
              "      fill: #D2E3FC;\n",
              "    }\n",
              "\n",
              "    [theme=dark] .colab-df-convert:hover {\n",
              "      background-color: #434B5C;\n",
              "      box-shadow: 0px 1px 3px 1px rgba(0, 0, 0, 0.15);\n",
              "      filter: drop-shadow(0px 1px 2px rgba(0, 0, 0, 0.3));\n",
              "      fill: #FFFFFF;\n",
              "    }\n",
              "  </style>\n",
              "\n",
              "      <script>\n",
              "        const buttonEl =\n",
              "          document.querySelector('#df-522c934b-78cd-4a23-b26b-2273a48efffd button.colab-df-convert');\n",
              "        buttonEl.style.display =\n",
              "          google.colab.kernel.accessAllowed ? 'block' : 'none';\n",
              "\n",
              "        async function convertToInteractive(key) {\n",
              "          const element = document.querySelector('#df-522c934b-78cd-4a23-b26b-2273a48efffd');\n",
              "          const dataTable =\n",
              "            await google.colab.kernel.invokeFunction('convertToInteractive',\n",
              "                                                     [key], {});\n",
              "          if (!dataTable) return;\n",
              "\n",
              "          const docLinkHtml = 'Like what you see? Visit the ' +\n",
              "            '<a target=\"_blank\" href=https://colab.research.google.com/notebooks/data_table.ipynb>data table notebook</a>'\n",
              "            + ' to learn more about interactive tables.';\n",
              "          element.innerHTML = '';\n",
              "          dataTable['output_type'] = 'display_data';\n",
              "          await google.colab.output.renderOutput(dataTable, element);\n",
              "          const docLink = document.createElement('div');\n",
              "          docLink.innerHTML = docLinkHtml;\n",
              "          element.appendChild(docLink);\n",
              "        }\n",
              "      </script>\n",
              "    </div>\n",
              "  </div>\n",
              "  "
            ]
          },
          "metadata": {},
          "execution_count": 20
        }
      ],
      "source": [
        "df_k_best_Y2 = pd.concat([X_best_Y2, norm_Y2], axis=1)\n",
        "df_k_best_Y2"
      ]
    },
    {
      "cell_type": "markdown",
      "id": "16ca81f1-d6f6-48f8-9792-df5b8818731d",
      "metadata": {
        "id": "16ca81f1-d6f6-48f8-9792-df5b8818731d"
      },
      "source": [
        "### Results"
      ]
    },
    {
      "cell_type": "markdown",
      "id": "dfba1ba3-061e-41bc-b9f7-dee1fa259b30",
      "metadata": {
        "id": "dfba1ba3-061e-41bc-b9f7-dee1fa259b30"
      },
      "source": [
        "We've now created 2 new dataFrames containing the values that best fit both `Y1` and `Y2`\n",
        "Stored in `df_k_best_Y1` and `df_k_best_Y2`"
      ]
    },
    {
      "cell_type": "markdown",
      "id": "392221ea-8b96-4bd7-be9c-e8e9be6e815b",
      "metadata": {
        "tags": [],
        "id": "392221ea-8b96-4bd7-be9c-e8e9be6e815b"
      },
      "source": [
        "## Select train and test data"
      ]
    },
    {
      "cell_type": "code",
      "execution_count": null,
      "id": "1a5eb073-8a2b-4aed-a823-26212dce85aa",
      "metadata": {
        "tags": [],
        "id": "1a5eb073-8a2b-4aed-a823-26212dce85aa"
      },
      "outputs": [],
      "source": [
        "selectTrain = lambda df,frac,random_state : df.sample(frac=frac, random_state=random_state)"
      ]
    },
    {
      "cell_type": "code",
      "execution_count": null,
      "id": "67b624cd-c142-4b81-943e-462ab1bf7824",
      "metadata": {
        "tags": [],
        "id": "67b624cd-c142-4b81-943e-462ab1bf7824"
      },
      "outputs": [],
      "source": [
        "trainData_raw = selectTrain(df=df,frac=0.8, random_state=26)\n",
        "testData_raw = df.drop(trainData_raw.index)\n",
        "trainData = selectTrain(df=normedDf,frac=0.8,random_state=26)\n",
        "testData = normedDf.drop(trainData.index)\n",
        "trainData_k_best_Y1 = selectTrain(df=df_k_best_Y1, frac=0.8, random_state=26)\n",
        "testData_k_best_Y1 = normedDf.drop(trainData.index)\n",
        "trainData_k_best_Y2 = selectTrain(df=df_k_best_Y2, frac=0.8, random_state=26)\n",
        "testData_k_best_Y2 = normedDf.drop(trainData.index)"
      ]
    },
    {
      "cell_type": "code",
      "execution_count": null,
      "id": "eb51a163-e67f-4958-9813-8844d2ac999b",
      "metadata": {
        "tags": [],
        "colab": {
          "base_uri": "https://localhost:8080/"
        },
        "id": "eb51a163-e67f-4958-9813-8844d2ac999b",
        "outputId": "1b19f5f5-e8ba-4143-d9e5-fdddf0b9eda7"
      },
      "outputs": [
        {
          "output_type": "stream",
          "name": "stdout",
          "text": [
            "(614, 8) (614, 1)\n"
          ]
        }
      ],
      "source": [
        "print(trainData.iloc[:, 0:8].shape, trainData[[\"Y1\"]].shape)"
      ]
    },
    {
      "cell_type": "code",
      "execution_count": null,
      "id": "e37443d5-1246-4063-868c-a6b3b487f11f",
      "metadata": {
        "tags": [],
        "id": "e37443d5-1246-4063-868c-a6b3b487f11f"
      },
      "outputs": [],
      "source": [
        "X = trainData.iloc[:, 0:8]\n",
        "Y1 = trainData[[\"Y1\"]]\n",
        "Y2 = trainData[[\"Y2\"]]\n",
        "X_raw = trainData_raw.iloc[:, 0:8]\n",
        "Y1_raw = trainData_raw[[\"Y1\"]]\n",
        "Y2_raw = trainData_raw[[\"Y2\"]]\n",
        "k_best_X_Y1 = trainData_k_best_Y1.iloc[:, 0:4]\n",
        "k_best_Y1 = trainData_k_best_Y1[[\"Y1\"]]\n",
        "k_best_X_Y2 = trainData_k_best_Y2.iloc[:, 0:4]\n",
        "k_best_Y2 = trainData[[\"Y2\"]]"
      ]
    },
    {
      "cell_type": "markdown",
      "id": "e3a3a16d-834e-42cb-8c75-113cc1967ce7",
      "metadata": {
        "tags": [],
        "id": "e3a3a16d-834e-42cb-8c75-113cc1967ce7"
      },
      "source": [
        "# Useful methods"
      ]
    },
    {
      "cell_type": "code",
      "execution_count": null,
      "id": "625c17d4-0432-4223-9d56-234eee195e85",
      "metadata": {
        "tags": [],
        "id": "625c17d4-0432-4223-9d56-234eee195e85"
      },
      "outputs": [],
      "source": [
        "sse = lambda pred, actual: 0.5 *  np.mean((pred - actual)**2, axis=0)"
      ]
    },
    {
      "cell_type": "markdown",
      "id": "8622522d-8749-4a25-ba52-44facbde0e10",
      "metadata": {
        "id": "8622522d-8749-4a25-ba52-44facbde0e10"
      },
      "source": [
        "# Linear Regression"
      ]
    },
    {
      "cell_type": "markdown",
      "id": "3e92bd7d-9bcf-495a-b680-48f463b054fd",
      "metadata": {
        "id": "3e92bd7d-9bcf-495a-b680-48f463b054fd"
      },
      "source": [
        "## Implementation"
      ]
    },
    {
      "cell_type": "code",
      "execution_count": null,
      "id": "425f08b3-57f1-40d7-b86d-e22d79b15e0a",
      "metadata": {
        "tags": [],
        "id": "425f08b3-57f1-40d7-b86d-e22d79b15e0a"
      },
      "outputs": [],
      "source": [
        "class LinearRegression:\n",
        "    def __init__(self, add_bias=True):\n",
        "        self.add_bias = add_bias\n",
        "        pass\n",
        "    \n",
        "    def fit(self, x, y):\n",
        "        if x.ndim == 1:\n",
        "            x = x[:, None]                         #add a dimension for the features\n",
        "        N = x.shape[0]\n",
        "        if self.add_bias:\n",
        "            x = np.column_stack([x,np.ones(N)])    #add bias by adding a constant feature of value 1\n",
        "        #alternatively: self.w = np.linalg.inv(x.T @ x)@x.T@y\n",
        "        print(x.shape, y.shape)\n",
        "        self.w = np.linalg.lstsq(x, y, rcond=-1)[0]          #return w for the least square difference\n",
        "        return self\n",
        "    \n",
        "    def predict(self, x):\n",
        "        N = x.shape[0]\n",
        "        if self.add_bias:\n",
        "            x = np.column_stack([x,np.ones(N)])\n",
        "        yh = x@self.w                             #predict the y values\n",
        "        return yh"
      ]
    },
    {
      "cell_type": "markdown",
      "id": "f54e7920-acda-4eec-bd56-cb045ef2bbb7",
      "metadata": {
        "id": "f54e7920-acda-4eec-bd56-cb045ef2bbb7"
      },
      "source": [
        "## Run"
      ]
    },
    {
      "cell_type": "markdown",
      "id": "a2cd0908-7daa-4e5f-8d6e-e4230d1fdb40",
      "metadata": {
        "tags": [],
        "id": "a2cd0908-7daa-4e5f-8d6e-e4230d1fdb40"
      },
      "source": [
        "Fit model to normalized training Data"
      ]
    },
    {
      "cell_type": "code",
      "execution_count": null,
      "id": "a5f5a5e8-bc69-4ed9-8572-1120c8992993",
      "metadata": {
        "tags": [],
        "colab": {
          "base_uri": "https://localhost:8080/"
        },
        "id": "a5f5a5e8-bc69-4ed9-8572-1120c8992993",
        "outputId": "dd547b18-68a3-438a-d1b9-18d2a801e365"
      },
      "outputs": [
        {
          "output_type": "stream",
          "name": "stdout",
          "text": [
            "(614, 9) (614, 1)\n"
          ]
        },
        {
          "output_type": "execute_result",
          "data": {
            "text/plain": [
              "array([[-6.11555297e-01],\n",
              "       [-2.58776572e+12],\n",
              "       [ 1.50953001e+12],\n",
              "       [ 1.94082429e+12],\n",
              "       [ 4.10888672e-01],\n",
              "       [ 1.34277344e-03],\n",
              "       [ 2.11059570e-01],\n",
              "       [ 2.94189453e-02],\n",
              "       [-4.31294287e+11]])"
            ]
          },
          "metadata": {},
          "execution_count": 27
        }
      ],
      "source": [
        "lin_Y1 = LinearRegression()\n",
        "lin_Y1.fit(X, Y1)\n",
        "lin_Y1.w"
      ]
    },
    {
      "cell_type": "code",
      "execution_count": null,
      "id": "00e6257e-10ee-4278-9ccf-bc4b470691d3",
      "metadata": {
        "tags": [],
        "colab": {
          "base_uri": "https://localhost:8080/"
        },
        "id": "00e6257e-10ee-4278-9ccf-bc4b470691d3",
        "outputId": "8fc750dd-0f51-4d96-ef00-ac921c4e96cf"
      },
      "outputs": [
        {
          "output_type": "stream",
          "name": "stdout",
          "text": [
            "(614, 9) (614, 1)\n"
          ]
        },
        {
          "output_type": "execute_result",
          "data": {
            "text/plain": [
              "array([[-6.82196415e-01],\n",
              "       [-9.74591835e+12],\n",
              "       [ 5.68511904e+12],\n",
              "       [ 7.30943876e+12],\n",
              "       [ 4.15039062e-01],\n",
              "       [ 5.85937500e-03],\n",
              "       [ 1.62109375e-01],\n",
              "       [ 6.83593750e-03],\n",
              "       [-1.62431972e+12]])"
            ]
          },
          "metadata": {},
          "execution_count": 28
        }
      ],
      "source": [
        "lin_Y2 = LinearRegression()\n",
        "lin_Y2.fit(X, Y2)\n",
        "lin_Y2.w"
      ]
    },
    {
      "cell_type": "markdown",
      "id": "15d839f6-4721-4fc5-9d52-ab9237ff1587",
      "metadata": {
        "tags": [],
        "id": "15d839f6-4721-4fc5-9d52-ab9237ff1587"
      },
      "source": [
        "### Run with raw data"
      ]
    },
    {
      "cell_type": "code",
      "execution_count": null,
      "id": "eaa9c3c3-b9cf-4f22-880c-91dccd08b08c",
      "metadata": {
        "tags": [],
        "colab": {
          "base_uri": "https://localhost:8080/"
        },
        "id": "eaa9c3c3-b9cf-4f22-880c-91dccd08b08c",
        "outputId": "2c29367d-362c-412d-ac11-71c8e0df1ed5"
      },
      "outputs": [
        {
          "output_type": "stream",
          "name": "stdout",
          "text": [
            "(614, 9) (614, 1)\n"
          ]
        },
        {
          "output_type": "execute_result",
          "data": {
            "text/plain": [
              "array([[-6.20558390e+01],\n",
              "       [-9.20125342e+11],\n",
              "       [ 9.20125342e+11],\n",
              "       [ 1.84025068e+12],\n",
              "       [ 4.31512833e+00],\n",
              "       [ 2.80013084e-02],\n",
              "       [ 1.94355443e+01],\n",
              "       [ 2.35681057e-01],\n",
              "       [ 7.73247000e+01]])"
            ]
          },
          "metadata": {},
          "execution_count": 29
        }
      ],
      "source": [
        "lin_raw_Y1 = LinearRegression()\n",
        "lin_raw_Y1.fit(X_raw, Y1_raw)\n",
        "lin_raw_Y1.w"
      ]
    },
    {
      "cell_type": "code",
      "execution_count": null,
      "id": "c57f2673-240b-493d-b655-a329959b58b2",
      "metadata": {
        "tags": [],
        "colab": {
          "base_uri": "https://localhost:8080/"
        },
        "id": "c57f2673-240b-493d-b655-a329959b58b2",
        "outputId": "cb34fc99-c131-45bb-f468-5af20c8da733"
      },
      "outputs": [
        {
          "output_type": "stream",
          "name": "stdout",
          "text": [
            "(614, 9) (614, 1)\n"
          ]
        },
        {
          "output_type": "execute_result",
          "data": {
            "text/plain": [
              "array([[-6.88369325e+01],\n",
              "       [-1.47403515e+12],\n",
              "       [ 1.47403515e+12],\n",
              "       [ 2.94807031e+12],\n",
              "       [ 4.30282211e+00],\n",
              "       [ 1.82914257e-01],\n",
              "       [ 1.45924000e+01],\n",
              "       [ 9.17072296e-02],\n",
              "       [ 9.33874210e+01]])"
            ]
          },
          "metadata": {},
          "execution_count": 30
        }
      ],
      "source": [
        "lin_raw_Y2 = LinearRegression()\n",
        "lin_raw_Y2.fit(X_raw, Y2_raw)\n",
        "lin_raw_Y2.w"
      ]
    },
    {
      "cell_type": "markdown",
      "id": "054da2f9-7899-4ac5-b7fc-227c70d91a0b",
      "metadata": {
        "tags": [],
        "id": "054da2f9-7899-4ac5-b7fc-227c70d91a0b"
      },
      "source": [
        "### Run with k-best data"
      ]
    },
    {
      "cell_type": "code",
      "execution_count": null,
      "id": "e83cd364-8123-4e0f-9670-dda1d54762a1",
      "metadata": {
        "tags": [],
        "colab": {
          "base_uri": "https://localhost:8080/"
        },
        "id": "e83cd364-8123-4e0f-9670-dda1d54762a1",
        "outputId": "7f3e1107-b946-4aba-8413-376559849a83"
      },
      "outputs": [
        {
          "output_type": "stream",
          "name": "stdout",
          "text": [
            "(614, 5) (614, 1)\n"
          ]
        },
        {
          "output_type": "execute_result",
          "data": {
            "text/plain": [
              "array([[ 0.41271656],\n",
              "       [-0.33284617],\n",
              "       [-0.32186018],\n",
              "       [-0.73861923],\n",
              "       [ 0.89949335]])"
            ]
          },
          "metadata": {},
          "execution_count": 31
        }
      ],
      "source": [
        "lin_k_best_Y1 = LinearRegression()\n",
        "lin_k_best_Y1.fit(k_best_X_Y1, k_best_Y1)\n",
        "lin_k_best_Y1.w"
      ]
    },
    {
      "cell_type": "code",
      "execution_count": null,
      "id": "b49831a6-0f26-4417-86d2-7a1914a5d8b6",
      "metadata": {
        "tags": [],
        "colab": {
          "base_uri": "https://localhost:8080/"
        },
        "id": "b49831a6-0f26-4417-86d2-7a1914a5d8b6",
        "outputId": "c06616ed-079b-429b-ecec-f384d0768b9b"
      },
      "outputs": [
        {
          "output_type": "stream",
          "name": "stdout",
          "text": [
            "(614, 5) (614, 1)\n"
          ]
        },
        {
          "output_type": "execute_result",
          "data": {
            "text/plain": [
              "array([[ 0.41223209],\n",
              "       [-0.24656407],\n",
              "       [-0.44145115],\n",
              "       [-0.77565024],\n",
              "       [ 0.85534435]])"
            ]
          },
          "metadata": {},
          "execution_count": 32
        }
      ],
      "source": [
        "lin_k_best_Y2 = LinearRegression()\n",
        "lin_k_best_Y2.fit(k_best_X_Y2, k_best_Y2)\n",
        "lin_k_best_Y2.w"
      ]
    },
    {
      "cell_type": "markdown",
      "id": "24494df1-0460-4bd3-b3e7-add407a7c3ce",
      "metadata": {
        "tags": [],
        "id": "24494df1-0460-4bd3-b3e7-add407a7c3ce"
      },
      "source": [
        "## Results/Testing"
      ]
    },
    {
      "cell_type": "markdown",
      "id": "056b6680-a2fd-4e73-8289-900f03e5ee67",
      "metadata": {
        "id": "056b6680-a2fd-4e73-8289-900f03e5ee67"
      },
      "source": [
        "Test normalized"
      ]
    },
    {
      "cell_type": "code",
      "execution_count": null,
      "id": "bd01afb3-a4ec-4a61-9cf3-9ad0a5c53d44",
      "metadata": {
        "tags": [],
        "id": "bd01afb3-a4ec-4a61-9cf3-9ad0a5c53d44"
      },
      "outputs": [],
      "source": [
        "errors=[]"
      ]
    },
    {
      "cell_type": "code",
      "execution_count": null,
      "id": "f248ef2f-305d-409b-9dc6-e7d26fd0f788",
      "metadata": {
        "tags": [],
        "id": "f248ef2f-305d-409b-9dc6-e7d26fd0f788"
      },
      "outputs": [],
      "source": [
        "testX_Y1 = testData.iloc[:, 0:8].copy()\n",
        "predictions_Y1 = lin_Y1.predict(testX_Y1)"
      ]
    },
    {
      "cell_type": "code",
      "execution_count": null,
      "id": "5f8a6dcc-8667-49f2-9e9c-25a6fffcd489",
      "metadata": {
        "tags": [],
        "colab": {
          "base_uri": "https://localhost:8080/",
          "height": 35
        },
        "id": "5f8a6dcc-8667-49f2-9e9c-25a6fffcd489",
        "outputId": "65509803-0392-40b7-92dd-44b0aa9e8517"
      },
      "outputs": [
        {
          "output_type": "execute_result",
          "data": {
            "text/plain": [
              "'0.00269'"
            ],
            "application/vnd.google.colaboratory.intrinsic+json": {
              "type": "string"
            }
          },
          "metadata": {},
          "execution_count": 35
        }
      ],
      "source": [
        "error_lin_Y1 = sse(pred=predictions_Y1, actual=testData[[\"Y1\"]])\n",
        "errors.append(('Y1',error_lin_Y1.to_string(index=False)))\n",
        "error_lin_Y1.to_string(index=False)"
      ]
    },
    {
      "cell_type": "code",
      "execution_count": null,
      "id": "0a75715b-488f-4315-a534-bb68ccb2108b",
      "metadata": {
        "tags": [],
        "colab": {
          "base_uri": "https://localhost:8080/",
          "height": 35
        },
        "id": "0a75715b-488f-4315-a534-bb68ccb2108b",
        "outputId": "e5b65fff-2122-4aff-ec7b-838e6e3a42d3"
      },
      "outputs": [
        {
          "output_type": "execute_result",
          "data": {
            "text/plain": [
              "'0.005975'"
            ],
            "application/vnd.google.colaboratory.intrinsic+json": {
              "type": "string"
            }
          },
          "metadata": {},
          "execution_count": 36
        }
      ],
      "source": [
        "testX_Y2 = testData.iloc[:, 0:8].copy()\n",
        "lin_Y2_pred = lin_Y2.predict(testX_Y2)\n",
        "error_lin_Y2 = sse(pred=lin_Y2_pred, actual=testData[[\"Y1\"]])\n",
        "errors.append(('Y2',error_lin_Y2.to_string(index=False)))\n",
        "error_lin_Y2.to_string(index=False)"
      ]
    },
    {
      "cell_type": "markdown",
      "id": "8fa1e0b5-b4e4-4c57-b99a-8ae63e14a525",
      "metadata": {
        "id": "8fa1e0b5-b4e4-4c57-b99a-8ae63e14a525"
      },
      "source": [
        "Test raw"
      ]
    },
    {
      "cell_type": "code",
      "execution_count": null,
      "id": "9844e678-de8a-49df-ba14-a35d1a0b59aa",
      "metadata": {
        "tags": [],
        "colab": {
          "base_uri": "https://localhost:8080/",
          "height": 35
        },
        "id": "9844e678-de8a-49df-ba14-a35d1a0b59aa",
        "outputId": "78c0e260-2028-4874-cb01-45aab5edb5ce"
      },
      "outputs": [
        {
          "output_type": "execute_result",
          "data": {
            "text/plain": [
              "'3.729576'"
            ],
            "application/vnd.google.colaboratory.intrinsic+json": {
              "type": "string"
            }
          },
          "metadata": {},
          "execution_count": 37
        }
      ],
      "source": [
        "testX_raw = testData_raw.iloc[:, 0:8].copy()\n",
        "lin_raw_Y1_pred = lin_raw_Y1.predict(testX_raw)\n",
        "error_lin_raw_Y1 = sse(pred=lin_raw_Y1_pred, actual=testData_raw[[\"Y1\"]])\n",
        "errors.append(('Y1 raw',error_lin_raw_Y1.to_string(index=False)))\n",
        "error_lin_raw_Y1.to_string(index=False)"
      ]
    },
    {
      "cell_type": "code",
      "execution_count": null,
      "id": "eac6c309-ec7f-405b-bd52-21baffdc1639",
      "metadata": {
        "tags": [],
        "colab": {
          "base_uri": "https://localhost:8080/",
          "height": 35
        },
        "id": "eac6c309-ec7f-405b-bd52-21baffdc1639",
        "outputId": "900ee084-1987-486b-82e7-2b7f67f923e7"
      },
      "outputs": [
        {
          "output_type": "execute_result",
          "data": {
            "text/plain": [
              "'5.604829'"
            ],
            "application/vnd.google.colaboratory.intrinsic+json": {
              "type": "string"
            }
          },
          "metadata": {},
          "execution_count": 38
        }
      ],
      "source": [
        "testX_raw = testData_raw.iloc[:, 0:8].copy()\n",
        "lin_raw_Y2_pred = lin_raw_Y2.predict(testX_raw)\n",
        "error_lin_raw_Y2 = sse(pred=lin_raw_Y2_pred, actual=testData_raw[[\"Y2\"]])\n",
        "errors.append(('Y2 raw',error_lin_raw_Y2.to_string(index=False)))\n",
        "error_lin_raw_Y2.to_string(index=False)"
      ]
    },
    {
      "cell_type": "markdown",
      "id": "a1a65342-5223-4452-9619-342bd6b60a2c",
      "metadata": {
        "id": "a1a65342-5223-4452-9619-342bd6b60a2c"
      },
      "source": [
        "Test k best"
      ]
    },
    {
      "cell_type": "code",
      "execution_count": null,
      "id": "26db62e9-94fc-4f2f-ace4-33a5e3b477c1",
      "metadata": {
        "tags": [],
        "colab": {
          "base_uri": "https://localhost:8080/",
          "height": 35
        },
        "id": "26db62e9-94fc-4f2f-ace4-33a5e3b477c1",
        "outputId": "75df23d8-c026-4e40-864c-13f608820b60"
      },
      "outputs": [
        {
          "output_type": "execute_result",
          "data": {
            "text/plain": [
              "'0.080057'"
            ],
            "application/vnd.google.colaboratory.intrinsic+json": {
              "type": "string"
            }
          },
          "metadata": {},
          "execution_count": 39
        }
      ],
      "source": [
        "test_X_k_best = testData_k_best_Y1.iloc[:, 0:4].copy()\n",
        "lin_k_best_Y1_pred = lin_k_best_Y1.predict(test_X_k_best)\n",
        "error_lin_k_best_Y1 = sse(pred=lin_k_best_Y1_pred, actual=testData_k_best_Y1[[\"Y1\"]])\n",
        "errors.append(('Y1 k best',error_lin_k_best_Y1.to_string(index=False)))\n",
        "error_lin_k_best_Y1.to_string(index=False)"
      ]
    },
    {
      "cell_type": "code",
      "execution_count": null,
      "id": "0d4fecd9-c9fa-433c-8549-b150ec912340",
      "metadata": {
        "tags": [],
        "colab": {
          "base_uri": "https://localhost:8080/",
          "height": 35
        },
        "id": "0d4fecd9-c9fa-433c-8549-b150ec912340",
        "outputId": "b0cfe663-c41f-4b45-bb64-b710b01cbb85"
      },
      "outputs": [
        {
          "output_type": "execute_result",
          "data": {
            "text/plain": [
              "'0.081678'"
            ],
            "application/vnd.google.colaboratory.intrinsic+json": {
              "type": "string"
            }
          },
          "metadata": {},
          "execution_count": 40
        }
      ],
      "source": [
        "test_X_k_best = testData_k_best_Y2.iloc[:, 0:4].copy()\n",
        "lin_k_best_Y2_pred = lin_k_best_Y2.predict(test_X_k_best)\n",
        "error_lin_k_best_Y2 = sse(pred=lin_k_best_Y2_pred, actual=testData_k_best_Y2[[\"Y2\"]])\n",
        "errors.append(('Y2 k best',error_lin_k_best_Y2.to_string(index=False)))\n",
        "error_lin_k_best_Y2.to_string(index=False)"
      ]
    },
    {
      "cell_type": "code",
      "execution_count": null,
      "id": "56bea28a-16ed-4fdc-88d8-07f38b09a1f8",
      "metadata": {
        "tags": [],
        "colab": {
          "base_uri": "https://localhost:8080/"
        },
        "id": "56bea28a-16ed-4fdc-88d8-07f38b09a1f8",
        "outputId": "c5b30baa-7631-40ba-b898-d6f36d7b7c8b"
      },
      "outputs": [
        {
          "output_type": "execute_result",
          "data": {
            "text/plain": [
              "['0.00269', '0.005975', '3.729576', '5.604829', '0.080057', '0.081678']"
            ]
          },
          "metadata": {},
          "execution_count": 41
        }
      ],
      "source": [
        "[x[1] for x in errors]"
      ]
    },
    {
      "cell_type": "code",
      "execution_count": null,
      "id": "d1f73f22-d482-49f4-8b8f-58b8829f9e6f",
      "metadata": {
        "tags": [],
        "colab": {
          "base_uri": "https://localhost:8080/",
          "height": 294
        },
        "id": "d1f73f22-d482-49f4-8b8f-58b8829f9e6f",
        "outputId": "95cb2f45-025f-4c47-997b-7bfdd97fce48"
      },
      "outputs": [
        {
          "output_type": "display_data",
          "data": {
            "text/plain": [
              "<Figure size 432x288 with 1 Axes>"
            ],
            "image/png": "[encoded data removed]"
          },
          "metadata": {
            "needs_background": "light"
          }
        }
      ],
      "source": [
        "y_pos = np.arange(len(errors))\n",
        "plt.bar(y_pos, [x[1] for x in errors], align='center', alpha=0.5)\n",
        "plt.xticks(y_pos, [x[0] for x in errors])\n",
        "plt.suptitle('Linear Regression SSEs based on set, training split 80/20')\n",
        "plt.show()"
      ]
    },
    {
      "cell_type": "markdown",
      "id": "a75292aa-b1bf-4a85-812c-2872bff03fff",
      "metadata": {
        "id": "a75292aa-b1bf-4a85-812c-2872bff03fff"
      },
      "source": [
        "## Plotting"
      ]
    },
    {
      "cell_type": "markdown",
      "id": "72df775e-e4a3-46a5-bc2b-1ae38b0af9a1",
      "metadata": {
        "tags": [],
        "id": "72df775e-e4a3-46a5-bc2b-1ae38b0af9a1"
      },
      "source": [
        "### Our implementation"
      ]
    },
    {
      "cell_type": "code",
      "execution_count": null,
      "id": "1a227880-c4de-4c02-a27a-08828add3bd7",
      "metadata": {
        "tags": [],
        "colab": {
          "base_uri": "https://localhost:8080/",
          "height": 385
        },
        "id": "1a227880-c4de-4c02-a27a-08828add3bd7",
        "outputId": "429e2141-962c-4421-9ab9-b5893c928b81"
      },
      "outputs": [
        {
          "output_type": "display_data",
          "data": {
            "text/plain": [
              "<Figure size 720x360 with 8 Axes>"
            ],
            "image/png": "[encoded data removed]"
          },
          "metadata": {
            "needs_background": "light"
          }
        }
      ],
      "source": [
        "fig, axes = plt.subplots(ncols=4, nrows=2, constrained_layout=True, figsize=(10,5))\n",
        "slopes = lin_Y1.w[0:-1]\n",
        "fig.suptitle(\"Predicted and actual data for Y1 linear regression\")\n",
        "line1 = []\n",
        "line2 = []\n",
        "for ax, col, slope in zip(axes.flat, testX_Y1, slopes):\n",
        "    line_a, = ax.plot(testX_Y1[col], testData[[\"Y1\"]], '.')\n",
        "    line_b, = ax.plot(testX_Y1[col], predictions_Y1, '.', color='r')\n",
        "    ax.set_xlabel('{axe}'.format(axe=col))\n",
        "    ax.set_ylabel('Y')\n",
        "fig.legend((line_a, line_b), ('Validation Data', 'Predicted Data'))\n",
        "fig.savefig('pred_slopes_lin_reg')"
      ]
    },
    {
      "cell_type": "code",
      "execution_count": null,
      "id": "6509c129-ea1f-47b1-af94-96081058c361",
      "metadata": {
        "tags": [],
        "colab": {
          "base_uri": "https://localhost:8080/",
          "height": 403
        },
        "id": "6509c129-ea1f-47b1-af94-96081058c361",
        "outputId": "27d09821-c12b-416f-fbb4-d20bba66efee"
      },
      "outputs": [
        {
          "output_type": "execute_result",
          "data": {
            "text/plain": [
              "<matplotlib.legend.Legend at 0x7f96a18c5f10>"
            ]
          },
          "metadata": {},
          "execution_count": 44
        },
        {
          "output_type": "display_data",
          "data": {
            "text/plain": [
              "<Figure size 720x360 with 8 Axes>"
            ],
            "image/png": "[encoded data removed]"
          },
          "metadata": {
            "needs_background": "light"
          }
        }
      ],
      "source": [
        "fig, axes = plt.subplots(ncols=4, nrows=2, constrained_layout=True, figsize=(10,5))\n",
        "slopes = lin_Y1.w[0:-1]\n",
        "fig.suptitle(\"Prediction slopes graphed on top of test data distributions\")\n",
        "for ax, col, slope in zip(axes.flat, X, slopes):\n",
        "    line_a, = ax.plot(X[col], trainData[[\"Y1\"]], '.')\n",
        "    line_b,  = ax.plot(X[col], slope*X[col], '-')\n",
        "    ax.set_xlabel('{axe}'.format(axe=col))\n",
        "    ax.set_ylabel('Y')\n",
        "fig.legend((line_a, line_b), ('Train Data', 'Prediction slope'))"
      ]
    },
    {
      "cell_type": "markdown",
      "id": "fddbc56b-a559-49bf-9bfc-e50ea7682381",
      "metadata": {
        "tags": [],
        "id": "fddbc56b-a559-49bf-9bfc-e50ea7682381"
      },
      "source": [
        "### Compare with Sklearn's version"
      ]
    },
    {
      "cell_type": "code",
      "execution_count": null,
      "id": "7cb01925-7cb2-45cd-9f57-97f3e1a432af",
      "metadata": {
        "tags": [],
        "colab": {
          "base_uri": "https://localhost:8080/"
        },
        "id": "7cb01925-7cb2-45cd-9f57-97f3e1a432af",
        "outputId": "1e3613f3-e99d-422b-afcf-279e761b29e5"
      },
      "outputs": [
        {
          "output_type": "execute_result",
          "data": {
            "text/plain": [
              "array([[-6.11555297e-01, -9.01473640e+12,  5.25859623e+12,\n",
              "         6.76105230e+12,  4.15527344e-01, -4.68063354e-03,\n",
              "         2.23337173e-01,  5.82847595e-02]])"
            ]
          },
          "metadata": {},
          "execution_count": 45
        }
      ],
      "source": [
        "from sklearn.linear_model import LinearRegression as linreg\n",
        "\n",
        "ln = linreg()\n",
        "\n",
        "ln.fit(X, Y1)\n",
        "modPred = ln.predict(testX_Y1)\n",
        "ln.coef_"
      ]
    },
    {
      "cell_type": "code",
      "execution_count": null,
      "id": "5a98c2a2-e0f5-498f-927f-4cd5cdec272a",
      "metadata": {
        "tags": [],
        "colab": {
          "base_uri": "https://localhost:8080/",
          "height": 403
        },
        "id": "5a98c2a2-e0f5-498f-927f-4cd5cdec272a",
        "outputId": "74d46e7b-b504-40b5-8253-1ab7019c0c6e"
      },
      "outputs": [
        {
          "output_type": "execute_result",
          "data": {
            "text/plain": [
              "<matplotlib.legend.Legend at 0x7f96a1697880>"
            ]
          },
          "metadata": {},
          "execution_count": 46
        },
        {
          "output_type": "display_data",
          "data": {
            "text/plain": [
              "<Figure size 720x360 with 8 Axes>"
            ],
            "image/png": "[encoded data removed]"
          },
          "metadata": {
            "needs_background": "light"
          }
        }
      ],
      "source": [
        "fig, axes = plt.subplots(ncols=4, nrows=2, constrained_layout=True, figsize=(10,5))\n",
        "slopes = ln.coef_\n",
        "for ax, col, slope in zip(axes.flat, testX_Y1, slopes.flat):\n",
        "    line_a, = ax.plot(testX_Y1[col], testData[[\"Y1\"]], '.')\n",
        "    line_b, = ax.plot(testX_Y1[col], modPred, '.', color='r')\n",
        "    ax.set_xlabel('{axe}'.format(axe=col))\n",
        "    ax.set_ylabel('Y')\n",
        "fig.legend((line_a, line_b), ('Validation Data', 'Predicted Data'))"
      ]
    },
    {
      "cell_type": "markdown",
      "id": "47c6abb0-1403-43e7-ad07-b92005a593c8",
      "metadata": {
        "id": "47c6abb0-1403-43e7-ad07-b92005a593c8"
      },
      "source": [
        "# Minibatch SGD Linear Regression"
      ]
    },
    {
      "cell_type": "markdown",
      "id": "f6286ef4-e112-4f1d-b2b9-a0fbd7ecd0fc",
      "metadata": {
        "tags": [],
        "id": "f6286ef4-e112-4f1d-b2b9-a0fbd7ecd0fc"
      },
      "source": [
        "## Implementation"
      ]
    },
    {
      "cell_type": "code",
      "execution_count": null,
      "id": "410d05f7-82d7-43ff-9d30-926786f2221b",
      "metadata": {
        "tags": [],
        "id": "410d05f7-82d7-43ff-9d30-926786f2221b"
      },
      "outputs": [],
      "source": [
        "class MiniBatch_SGD_LinearRegression:\n",
        "    def __init__(self, add_bias=True, batch_size=32, epochs=15, record_history=True):\n",
        "        self.add_bias = add_bias\n",
        "        self.batch_size = batch_size\n",
        "        self.epochs = epochs\n",
        "        self.record_history = record_history\n",
        "        if self.record_history:\n",
        "            self.cost_history = []\n",
        "        pass\n",
        "    \n",
        "    def fit(self, x, y, optimizer, create_mini_batches):\n",
        "        if x.ndim == 1:\n",
        "            x = x[:, None]\n",
        "        N = x.shape[0]\n",
        "        if self.add_bias:\n",
        "            x = np.column_stack([x,np.ones(N)])\n",
        "        N, D = x.shape\n",
        "        def gradient(x, y, w):\n",
        "            yh = x @ w\n",
        "            N, D = x.shape\n",
        "            grad = .5*np.dot(x.T, yh - y)/N\n",
        "            np.set_printoptions(suppress=True)\n",
        "            return grad\n",
        "        self.w = np.zeros((x.shape[1], 1))\n",
        "        max_iters = self.epochs\n",
        "        # Loop over all data for the number of epochs\n",
        "        currEpoch = 0\n",
        "        for itr in range(max_iters):\n",
        "            mini_batches = create_mini_batches(x, y, self.batch_size)\n",
        "            # For each mini batch, run SGD\n",
        "            for mini_batch in mini_batches:\n",
        "                x_mini, y_mini = mini_batch\n",
        "                self.w = optimizer.run(gradient, x_mini, y_mini, self.w)\n",
        "                if self.record_history:\n",
        "                    cost = .5*np.mean((np.dot(x,self.w) - y)**2, axis=None)\n",
        "                    self.cost_history.append(float(cost.to_string(index=False)))\n",
        "            \n",
        "            \n",
        "            # print('Epoch {0}, batches: {1}'.format(itr, len(mini_batches)))\n",
        "            \n",
        "        return self\n",
        "    \n",
        "    def predict(self, x):\n",
        "        N = x.shape[0]\n",
        "        if self.add_bias:\n",
        "            x = np.column_stack([x,np.ones(N)])\n",
        "        yh = x@self.w                             #predict the y values\n",
        "        return yh"
      ]
    },
    {
      "cell_type": "code",
      "execution_count": null,
      "id": "21fcb591-8b52-46a4-abd3-71e0e3bf5788",
      "metadata": {
        "tags": [],
        "id": "21fcb591-8b52-46a4-abd3-71e0e3bf5788"
      },
      "outputs": [],
      "source": [
        "class GradientDescent:\n",
        "    \n",
        "    def __init__(self, learning_rate=1e-6, max_iters=1e3, epsilon=1e-8, record_history=False):\n",
        "        self.learning_rate = learning_rate\n",
        "        self.max_iters = max_iters\n",
        "        self.record_history = record_history\n",
        "        self.epsilon = epsilon\n",
        "        if record_history:\n",
        "            self.num = 0\n",
        "            self.w_history = []                 #to store the weight history for visualization\n",
        "            self.num_history = []               #to store the iteration history for visualization\n",
        "            \n",
        "    def run(self, gradient_fn, x, y, w):\n",
        "        grad = np.inf\n",
        "        t = 1\n",
        "        while np.linalg.norm(grad) > self.epsilon and t < self.max_iters:\n",
        "            grad = gradient_fn(x, y, w)               # compute the gradient with present weight\n",
        "            w = w - self.learning_rate * grad         # weight update step\n",
        "            if self.record_history:\n",
        "                self.w_history.append(w)\n",
        "                self.num_history.append(self.num)\n",
        "                self.num += 1\n",
        "            t += 1\n",
        "        return w\n"
      ]
    },
    {
      "cell_type": "code",
      "execution_count": null,
      "id": "790135a7-f3dd-4ec4-baae-c26933cddc9d",
      "metadata": {
        "tags": [],
        "id": "790135a7-f3dd-4ec4-baae-c26933cddc9d"
      },
      "outputs": [],
      "source": [
        "def create_mini_batches(x, y, batch_size):\n",
        "    mini_batches = []\n",
        "    data = np.hstack((x,y))\n",
        "    np.random.shuffle(data)\n",
        "    n_minibatches = data.shape[0] // batch_size\n",
        "    i = 0\n",
        "    \n",
        "    for i in range(n_minibatches + 1):\n",
        "        mini_batch = data[i * batch_size:(i+1)*batch_size, :]\n",
        "        X_mini = mini_batch[:, :-1]\n",
        "        Y_mini = mini_batch[:, -1].reshape((-1, 1))\n",
        "        mini_batches.append((X_mini, Y_mini))\n",
        "    if data.shape[0] % batch_size != 0:\n",
        "        mini_batch = data[i * batch_size:data.shape[0]]\n",
        "        X_mini = mini_batch[:, :-1]\n",
        "        Y_mini = mini_batch[:, -1].reshape((-1, 1))\n",
        "        mini_batches.append((X_mini, Y_mini))\n",
        "    return mini_batches"
      ]
    },
    {
      "cell_type": "markdown",
      "id": "47b1f29f-3bdd-4d84-bf6c-bd68990db7b1",
      "metadata": {
        "tags": [],
        "id": "47b1f29f-3bdd-4d84-bf6c-bd68990db7b1"
      },
      "source": [
        "## Run"
      ]
    },
    {
      "cell_type": "markdown",
      "id": "577b9175-28ab-476d-b6ad-a211adad82a3",
      "metadata": {
        "id": "577b9175-28ab-476d-b6ad-a211adad82a3"
      },
      "source": [
        "Fit model with normalized data"
      ]
    },
    {
      "cell_type": "markdown",
      "id": "5840be6b-73d4-49f8-93bf-c6ba6cb00166",
      "metadata": {
        "id": "5840be6b-73d4-49f8-93bf-c6ba6cb00166"
      },
      "source": [
        "Save gradients and costs for plotting"
      ]
    },
    {
      "cell_type": "code",
      "execution_count": null,
      "id": "2d9440e0-a7c9-4bd4-b13d-91b5d3c343d3",
      "metadata": {
        "tags": [],
        "id": "2d9440e0-a7c9-4bd4-b13d-91b5d3c343d3"
      },
      "outputs": [],
      "source": [
        "w_histories = []\n",
        "costs = []\n",
        "descriptions = []"
      ]
    },
    {
      "cell_type": "code",
      "execution_count": null,
      "id": "6f61c12d-6edf-4016-8dee-ece78698ed3b",
      "metadata": {
        "tags": [],
        "id": "6f61c12d-6edf-4016-8dee-ece78698ed3b"
      },
      "outputs": [],
      "source": [
        "sgd_Y1 = MiniBatch_SGD_LinearRegression(batch_size=16, epochs=2)\n",
        "grad_Y1 = GradientDescent(max_iters=15, learning_rate=1e-2, record_history=True, epsilon=1e-8)\n",
        "sgd_Y1.fit(X, Y1, grad_Y1, create_mini_batches)\n",
        "w_histories.append(grad_Y1.w_history)\n",
        "costs.append(sgd_Y1.cost_history)\n",
        "descriptions.append('Minibatch SGD on Y1 normalized')"
      ]
    },
    {
      "cell_type": "code",
      "execution_count": null,
      "id": "61245c46-6380-4a8e-91cb-ebec7f4c083c",
      "metadata": {
        "tags": [],
        "id": "61245c46-6380-4a8e-91cb-ebec7f4c083c"
      },
      "outputs": [],
      "source": [
        "sgd_Y2 = MiniBatch_SGD_LinearRegression(batch_size=16, epochs=2)\n",
        "grad_Y2 = GradientDescent(max_iters=15, learning_rate=1e-2, record_history=True, epsilon=1e-8)\n",
        "sgd_Y2.fit(X, Y2, grad_Y2, create_mini_batches)\n",
        "w_histories.append(grad_Y2.w_history)\n",
        "costs.append(sgd_Y2.cost_history)\n",
        "descriptions.append('Minibatch SGD on Y2 normalized')"
      ]
    },
    {
      "cell_type": "markdown",
      "id": "ac953930-d541-4610-9dcf-4ba896be085c",
      "metadata": {
        "id": "ac953930-d541-4610-9dcf-4ba896be085c"
      },
      "source": [
        "Run with k best"
      ]
    },
    {
      "cell_type": "code",
      "execution_count": null,
      "id": "db12a206-17b9-401e-92f0-28502372dc7a",
      "metadata": {
        "tags": [],
        "id": "db12a206-17b9-401e-92f0-28502372dc7a"
      },
      "outputs": [],
      "source": [
        "w_histories_k_best = []\n",
        "costs_k_best = []\n",
        "descriptions_k_best = []"
      ]
    },
    {
      "cell_type": "code",
      "execution_count": null,
      "id": "cdcc076b-eaf3-4b3f-a650-8c865006ab64",
      "metadata": {
        "tags": [],
        "id": "cdcc076b-eaf3-4b3f-a650-8c865006ab64"
      },
      "outputs": [],
      "source": [
        "sgd_k_best_Y1 = MiniBatch_SGD_LinearRegression(batch_size=16,epochs=2)\n",
        "grad_k_best_Y1 = GradientDescent(max_iters=15, learning_rate=1e-2, record_history=True, epsilon=1e-8)\n",
        "sgd_k_best_Y1.fit(k_best_X_Y1, k_best_Y1, grad_k_best_Y1, create_mini_batches)\n",
        "w_histories_k_best.append(grad_k_best_Y1.w_history)\n",
        "costs_k_best.append(sgd_k_best_Y1.cost_history)\n",
        "descriptions_k_best.append('Minibatch SGD on K best\\nparameters for Y1 normalized')"
      ]
    },
    {
      "cell_type": "code",
      "execution_count": null,
      "id": "f2af1d33-a3ef-4b5a-b207-90de779953c3",
      "metadata": {
        "tags": [],
        "id": "f2af1d33-a3ef-4b5a-b207-90de779953c3"
      },
      "outputs": [],
      "source": [
        "sgd_k_best_Y2 = MiniBatch_SGD_LinearRegression(batch_size=16,epochs=2)\n",
        "grad_k_best_Y2 = GradientDescent(max_iters=15, learning_rate=1e-2, record_history=True, epsilon=1e-8)\n",
        "sgd_k_best_Y2.fit(k_best_X_Y2, k_best_Y2, grad_k_best_Y2, create_mini_batches)\n",
        "w_histories_k_best.append(grad_k_best_Y2.w_history)\n",
        "costs_k_best.append(sgd_k_best_Y2.cost_history)\n",
        "descriptions_k_best.append('Minibatch SGD on K best\\nparameters for Y2 normalized')"
      ]
    },
    {
      "cell_type": "markdown",
      "id": "7e119f9d-fc82-487d-b141-24d4a0831cf6",
      "metadata": {
        "id": "7e119f9d-fc82-487d-b141-24d4a0831cf6"
      },
      "source": [
        "Run with raw data"
      ]
    },
    {
      "cell_type": "code",
      "execution_count": null,
      "id": "04d42386-36be-4287-8aac-579cfc7381d6",
      "metadata": {
        "tags": [],
        "id": "04d42386-36be-4287-8aac-579cfc7381d6"
      },
      "outputs": [],
      "source": [
        "w_histories_raw = []\n",
        "costs_raw = []\n",
        "descriptions_raw = []"
      ]
    },
    {
      "cell_type": "code",
      "execution_count": null,
      "id": "7edae156-a8cf-42ca-af96-f520f0e35ba8",
      "metadata": {
        "tags": [],
        "id": "7edae156-a8cf-42ca-af96-f520f0e35ba8"
      },
      "outputs": [],
      "source": [
        "sgd_raw_Y1 = MiniBatch_SGD_LinearRegression(batch_size=16, epochs=2)\n",
        "grad_raw_Y1 = GradientDescent(max_iters=2, learning_rate=1e-4, record_history=True, epsilon=1e-8)\n",
        "sgd_raw_Y1.fit(X_raw, Y1_raw, grad_raw_Y1, create_mini_batches)\n",
        "w_histories_raw.append(grad_raw_Y1.w_history)\n",
        "costs_raw.append(sgd_raw_Y1.cost_history)\n",
        "descriptions_raw.append('Minibatch SGD on raw parameters for Y1')"
      ]
    },
    {
      "cell_type": "code",
      "execution_count": null,
      "id": "e3ed8a81-abe8-4326-b0a9-edd743d94fb2",
      "metadata": {
        "tags": [],
        "id": "e3ed8a81-abe8-4326-b0a9-edd743d94fb2"
      },
      "outputs": [],
      "source": [
        "sgd_raw_Y2 = MiniBatch_SGD_LinearRegression(batch_size=16, epochs=2)\n",
        "grad_raw_Y2 = GradientDescent(max_iters=2, learning_rate=1e-4, record_history=True, epsilon=1e-8)\n",
        "sgd_raw_Y2.fit(X_raw, Y2_raw, grad_raw_Y2, create_mini_batches)\n",
        "w_histories_raw.append(grad_raw_Y2.w_history)\n",
        "costs_raw.append(sgd_raw_Y2.cost_history)\n",
        "descriptions_raw.append('Minibatch SGD on raw parameters for Y2')"
      ]
    },
    {
      "cell_type": "code",
      "execution_count": null,
      "id": "1db7d10c-fd74-4bc4-a1fb-6fc7ce805df7",
      "metadata": {
        "tags": [],
        "id": "1db7d10c-fd74-4bc4-a1fb-6fc7ce805df7"
      },
      "outputs": [],
      "source": [
        "w_hists_list = [w_histories, w_histories_k_best, w_histories_raw]\n",
        "costs_list = [costs, costs_k_best, costs_raw]\n",
        "descriptions_list = [descriptions, descriptions_k_best, descriptions_raw]"
      ]
    },
    {
      "cell_type": "markdown",
      "id": "ca947613-e66c-4e26-8473-a2f8e8ddde43",
      "metadata": {
        "tags": [],
        "id": "ca947613-e66c-4e26-8473-a2f8e8ddde43"
      },
      "source": [
        "## Plotting"
      ]
    },
    {
      "cell_type": "code",
      "execution_count": null,
      "id": "aea43c6d-7314-4996-a8c4-958e31533ddd",
      "metadata": {
        "tags": [],
        "id": "aea43c6d-7314-4996-a8c4-958e31533ddd"
      },
      "outputs": [],
      "source": [
        "from matplotlib.pyplot import cm\n",
        "\n",
        "def plotGradients(w_histories_grad, cost_histories_batch, descriptions):\n",
        "    \n",
        "    # w_histories_grad is an array of w_history_grad\n",
        "    # w_history_grad are arrays of gradients\n",
        "    # gradients are array of numbers\n",
        "    \n",
        "    num_of_params = len(w_histories_grad[0][0])\n",
        "    num_rows = 2\n",
        "    num_cols = num_of_params // num_rows\n",
        "    fig_w, axes_w = plt.subplots(ncols=num_cols, nrows=num_rows, constrained_layout=True, figsize=(10,5))\n",
        "    fig_w.suptitle('Weights over iterations in gradient descent', x=0.25)\n",
        "    \n",
        "    fig_cost, axes_cost = plt.subplots(ncols=2, nrows=1, constrained_layout=True)\n",
        "    fig_cost.suptitle('Cost values over batch iterations', x=0.25)\n",
        "    \n",
        "    if not len(w_histories_grad) == len(cost_histories_batch):\n",
        "        raise Exception('History lists must be of same length (same number of minibatches)')\n",
        "    \n",
        "    colors = cm.rainbow(np.linspace(0.2, 1, len(w_histories_grad)))\n",
        "    colorLines = []\n",
        "    \n",
        "    # 1 color per gradient graph\n",
        "    for w_history_grad, cost_history_batch, color in zip(w_histories_grad, cost_histories_batch, colors):\n",
        "        w_over_time_grad = np.array(w_history_grad)\n",
        "        cost_over_time_batch= np.array(cost_history_batch)\n",
        "        graphNum = 0\n",
        "        last_line = 0 # used to store last line and save at then of loop\n",
        "        for ax in axes_cost.flat:\n",
        "            nums = np.arange(1, len(cost_over_time_batch) + 1)\n",
        "            line, = ax.plot(nums, cost_over_time_batch, color=color)\n",
        "            ax.set_xlabel('number of batches run')\n",
        "            graphNum += 1\n",
        "            ax.set_ylabel('cost'.format(axe=graphNum))\n",
        "        \n",
        "        graphNum = 0\n",
        "        hist_num = 0\n",
        "        for ax, w in zip(axes_w.flat, w_over_time_grad.T[0]):\n",
        "            nums = np.arange(1, len(w) + 1)\n",
        "            last_line, = ax.plot(nums, w, color=color)\n",
        "            ax.set_xlabel('number of iterations')\n",
        "            graphNum += 1\n",
        "            ax.set_ylabel('w{axe} gradient'.format(axe=graphNum))\n",
        "            hist_num += 1\n",
        "            \n",
        "        colorLines.append(last_line)\n",
        "            \n",
        "    fig_w.legend(colorLines, descriptions)\n",
        "    fig_cost.legend(colorLines, descriptions)"
      ]
    },
    {
      "cell_type": "code",
      "execution_count": null,
      "id": "aa284600-49be-4da1-ac6a-44d15d5cb393",
      "metadata": {
        "tags": [],
        "colab": {
          "base_uri": "https://localhost:8080/",
          "height": 1000
        },
        "id": "aa284600-49be-4da1-ac6a-44d15d5cb393",
        "outputId": "64594b48-986c-4155-ca34-16e208b22f76"
      },
      "outputs": [
        {
          "output_type": "display_data",
          "data": {
            "text/plain": [
              "<Figure size 720x360 with 8 Axes>"
            ],
            "image/png": "[encoded data removed]"
          },
          "metadata": {
            "needs_background": "light"
          }
        },
        {
          "output_type": "display_data",
          "data": {
            "text/plain": [
              "<Figure size 432x288 with 2 Axes>"
            ],
            "image/png": "[encoded data removed]"
          },
          "metadata": {
            "needs_background": "light"
          }
        },
        {
          "output_type": "display_data",
          "data": {
            "text/plain": [
              "<Figure size 720x360 with 4 Axes>"
            ],
            "image/png": "[encoded data removed]"
          },
          "metadata": {
            "needs_background": "light"
          }
        },
        {
          "output_type": "display_data",
          "data": {
            "text/plain": [
              "<Figure size 432x288 with 2 Axes>"
            ],
            "image/png": "[encoded data removed]"
          },
          "metadata": {
            "needs_background": "light"
          }
        },
        {
          "output_type": "display_data",
          "data": {
            "text/plain": [
              "<Figure size 720x360 with 8 Axes>"
            ],
            "image/png": "[encoded data removed]"
          },
          "metadata": {
            "needs_background": "light"
          }
        },
        {
          "output_type": "display_data",
          "data": {
            "text/plain": [
              "<Figure size 432x288 with 2 Axes>"
            ],
            "image/png": "[encoded data removed]"
          },
          "metadata": {
            "needs_background": "light"
          }
        }
      ],
      "source": [
        "for hist, cost, desc in zip(w_hists_list, costs_list, descriptions_list):\n",
        "    plotGradients(hist, cost, desc)"
      ]
    },
    {
      "cell_type": "code",
      "execution_count": null,
      "id": "ba4241be-b0df-4fe8-be97-c228df470cc2",
      "metadata": {
        "tags": [],
        "colab": {
          "base_uri": "https://localhost:8080/",
          "height": 681
        },
        "id": "ba4241be-b0df-4fe8-be97-c228df470cc2",
        "outputId": "5dcb2227-205a-4b0b-bd5b-404b8ab2fad3"
      },
      "outputs": [
        {
          "output_type": "display_data",
          "data": {
            "text/plain": [
              "<Figure size 720x360 with 8 Axes>"
            ],
            "image/png": "[encoded data removed]"
          },
          "metadata": {
            "needs_background": "light"
          }
        },
        {
          "output_type": "display_data",
          "data": {
            "text/plain": [
              "<Figure size 432x288 with 2 Axes>"
            ],
            "image/png": "[encoded data removed]"
          },
          "metadata": {
            "needs_background": "light"
          }
        }
      ],
      "source": [
        "batchSizes = [8,16,32,64]\n",
        "\n",
        "grads = []\n",
        "costs = []\n",
        "descriptions = []\n",
        "for batchsize in batchSizes:\n",
        "    sgd = MiniBatch_SGD_LinearRegression(batch_size=batchsize, epochs=2)\n",
        "    grad = GradientDescent(max_iters=15, learning_rate=1e-2, record_history=True, epsilon=1e-8)\n",
        "    sgd.fit(X, Y1, grad, create_mini_batches)\n",
        "    grads.append(grad.w_history)\n",
        "    costs.append(sgd.cost_history)\n",
        "    descriptions.append('batch size = {0} on Y1 normalized'.format(batchsize))\n",
        "    \n",
        "\n",
        "plotGradients(grads, costs, descriptions)"
      ]
    },
    {
      "cell_type": "code",
      "execution_count": null,
      "id": "015f4721-3421-4876-a676-9c6d03b699a0",
      "metadata": {
        "tags": [],
        "colab": {
          "base_uri": "https://localhost:8080/",
          "height": 681
        },
        "id": "015f4721-3421-4876-a676-9c6d03b699a0",
        "outputId": "9f829549-c9e0-4b6d-c6ce-eac82f97b2a0"
      },
      "outputs": [
        {
          "output_type": "display_data",
          "data": {
            "text/plain": [
              "<Figure size 720x360 with 8 Axes>"
            ],
            "image/png": "[encoded data removed]"
          },
          "metadata": {
            "needs_background": "light"
          }
        },
        {
          "output_type": "display_data",
          "data": {
            "text/plain": [
              "<Figure size 432x288 with 2 Axes>"
            ],
            "image/png": "[encoded data removed]"
          },
          "metadata": {
            "needs_background": "light"
          }
        }
      ],
      "source": [
        "epochs = [2,4,6,8,10,20,40]\n",
        "\n",
        "grads = []\n",
        "costs = []\n",
        "descriptions = []\n",
        "for epoch in epochs:\n",
        "    sgd = MiniBatch_SGD_LinearRegression(batch_size=16, epochs=epoch)\n",
        "    grad = GradientDescent(max_iters=15, learning_rate=1e-2, record_history=True, epsilon=1e-8)\n",
        "    sgd.fit(X, Y1, grad, create_mini_batches)\n",
        "    costs.append(sgd.cost_history)\n",
        "    grads.append(grad.w_history)\n",
        "    descriptions.append('minibatch epochs = {0} for Y1 normalized'.format(epoch))\n",
        "    \n",
        "\n",
        "plotGradients(grads, costs, descriptions)"
      ]
    },
    {
      "cell_type": "markdown",
      "id": "e28d6b3f-35b0-4e10-a0fc-85d28ec1f617",
      "metadata": {
        "id": "e28d6b3f-35b0-4e10-a0fc-85d28ec1f617"
      },
      "source": [
        "## Results/Testing"
      ]
    },
    {
      "cell_type": "code",
      "execution_count": null,
      "id": "8e7a2e24-579d-4d61-97f0-f0ed21f4e2b8",
      "metadata": {
        "tags": [],
        "id": "8e7a2e24-579d-4d61-97f0-f0ed21f4e2b8"
      },
      "outputs": [],
      "source": [
        "predictions = sgd.predict(testX_Y1)"
      ]
    },
    {
      "cell_type": "code",
      "execution_count": null,
      "id": "b490a7dc-31c4-49d5-b30d-4becaf93b958",
      "metadata": {
        "tags": [],
        "colab": {
          "base_uri": "https://localhost:8080/"
        },
        "id": "b490a7dc-31c4-49d5-b30d-4becaf93b958",
        "outputId": "599db4be-6e24-439e-d167-94e6edeca49f"
      },
      "outputs": [
        {
          "output_type": "execute_result",
          "data": {
            "text/plain": [
              "Y1    0.002901\n",
              "dtype: float64"
            ]
          },
          "metadata": {},
          "execution_count": 65
        }
      ],
      "source": [
        "errorMiniSGD = sse(predictions, testData[[\"Y1\"]])\n",
        "errorMiniSGD"
      ]
    },
    {
      "cell_type": "markdown",
      "id": "067733db-cae7-4920-9f7a-88755c833713",
      "metadata": {
        "tags": [],
        "id": "067733db-cae7-4920-9f7a-88755c833713"
      },
      "source": [
        "# Compare"
      ]
    },
    {
      "cell_type": "code",
      "execution_count": null,
      "id": "4859a3c4-e69f-42ac-ab34-628fe89a02f5",
      "metadata": {
        "tags": [],
        "colab": {
          "base_uri": "https://localhost:8080/"
        },
        "id": "4859a3c4-e69f-42ac-ab34-628fe89a02f5",
        "outputId": "060a954b-d75e-44b7-b510-e3af46b938ed"
      },
      "outputs": [
        {
          "output_type": "stream",
          "name": "stdout",
          "text": [
            "[[-0.611555]\n",
            " [-2587765723082.094727]\n",
            " [1509530005131.120361]\n",
            " [1940824292311.091797]\n",
            " [0.410889]\n",
            " [0.001343]\n",
            " [0.211060]\n",
            " [0.029419]\n",
            " [-431294287179.681152]]\n"
          ]
        }
      ],
      "source": [
        "np.set_printoptions(formatter={'float_kind':'{:f}'.format})\n",
        "print(lin_Y1.w)"
      ]
    },
    {
      "cell_type": "code",
      "execution_count": null,
      "id": "0d3540ea-c885-4f38-a3cc-2037e53f23b4",
      "metadata": {
        "tags": [],
        "colab": {
          "base_uri": "https://localhost:8080/"
        },
        "id": "0d3540ea-c885-4f38-a3cc-2037e53f23b4",
        "outputId": "af35c6e7-d312-4a86-a469-0beada4d3d1c"
      },
      "outputs": [
        {
          "output_type": "stream",
          "name": "stdout",
          "text": [
            "[[0.114813]\n",
            " [-0.004094]\n",
            " [0.153585]\n",
            " [-0.095416]\n",
            " [0.302947]\n",
            " [0.033727]\n",
            " [0.139701]\n",
            " [0.069649]\n",
            " [0.132740]]\n"
          ]
        }
      ],
      "source": [
        "print(sgd_Y1.w)"
      ]
    },
    {
      "cell_type": "code",
      "execution_count": null,
      "id": "e12da7e2-64a4-424f-9186-c7719a51424e",
      "metadata": {
        "tags": [],
        "colab": {
          "base_uri": "https://localhost:8080/"
        },
        "id": "e12da7e2-64a4-424f-9186-c7719a51424e",
        "outputId": "7931e95d-3dc3-4304-85b4-faf369fb8fa0"
      },
      "outputs": [
        {
          "output_type": "stream",
          "name": "stdout",
          "text": [
            "Linear Regression error: Y1    0.00269, Minibatch SGD Linear Regression error: Y1    0.002901\n"
          ]
        }
      ],
      "source": [
        "print('Linear Regression error: {0}, Minibatch SGD Linear Regression error: {1}'.format(error_lin_Y1.to_string(), errorMiniSGD.to_string()))"
      ]
    },
    {
      "cell_type": "code",
      "execution_count": null,
      "id": "61061ec4-bcab-4cf0-9383-be9adadeca14",
      "metadata": {
        "id": "61061ec4-bcab-4cf0-9383-be9adadeca14"
      },
      "outputs": [],
      "source": []
    }
  ],
  "metadata": {
    "kernelspec": {
      "display_name": "Python 3 (ipykernel)",
      "language": "python",
      "name": "python3"
    },
    "language_info": {
      "codemirror_mode": {
        "name": "ipython",
        "version": 3
      },
      "file_extension": ".py",
      "mimetype": "text/x-python",
      "name": "python",
      "nbconvert_exporter": "python",
      "pygments_lexer": "ipython3",
      "version": "3.10.8"
    },
    "toc-autonumbering": true,
    "toc-showmarkdowntxt": false,
    "colab": {
      "provenance": [],
      "include_colab_link": true
    }
  },
  "nbformat": 4,
  "nbformat_minor": 5
}